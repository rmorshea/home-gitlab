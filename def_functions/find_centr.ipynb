{
 "metadata": {
  "name": "find_centr.ipynb"
 },
 "nbformat": 3,
 "nbformat_minor": 0,
 "worksheets": [
  {
   "cells": [
    {
     "cell_type": "code",
     "collapsed": false,
     "input": [
      "def centr(xdat,ydat,xrange_min,xrange_max):\n",
      "    \"find centroid of area where xrange, yrange start from a value of 1 therefore true value used for calcs is range-1\"\n",
      "    xy = 0\n",
      "    for i in range(xrange_min,xrange_max):\n",
      "        xy += xdat[i]*ydat[i]\n",
      "    centr = xy/(sum(ydat[xrange_min:xrange_max]))\n",
      "    return centr"
     ],
     "language": "python",
     "metadata": {},
     "outputs": []
    }
   ],
   "metadata": {}
  }
 ]
}