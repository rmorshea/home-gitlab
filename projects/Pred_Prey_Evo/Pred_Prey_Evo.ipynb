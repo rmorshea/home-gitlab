{
 "metadata": {
  "name": ""
 },
 "nbformat": 3,
 "nbformat_minor": 0,
 "worksheets": [
  {
   "cells": [
    {
     "cell_type": "code",
     "collapsed": false,
     "input": [
      "import random\n",
      "import numpy as np\n",
      "from random import randint\n",
      "import matplotlib.pyplot as plt\n",
      "%matplotlib inline\n",
      "nutrients=[randint(1,15) for i in range(20)]"
     ],
     "language": "python",
     "metadata": {},
     "outputs": [],
     "prompt_number": 2
    },
    {
     "cell_type": "code",
     "collapsed": false,
     "input": [
      "print nutrients"
     ],
     "language": "python",
     "metadata": {},
     "outputs": [
      {
       "output_type": "stream",
       "stream": "stdout",
       "text": [
        "[11, 13, 9, 10, 2, 8, 1, 10, 5, 7, 8, 6, 9, 7, 10, 6, 13, 6, 15, 3]\n"
       ]
      }
     ],
     "prompt_number": 3
    },
    {
     "cell_type": "code",
     "collapsed": false,
     "input": [
      "print round(float(len(nutrients)-len(set(nutrients)))/float(len(set(nutrients))))"
     ],
     "language": "python",
     "metadata": {},
     "outputs": [
      {
       "output_type": "stream",
       "stream": "stdout",
       "text": [
        "1.0\n"
       ]
      }
     ],
     "prompt_number": 4
    },
    {
     "cell_type": "code",
     "collapsed": false,
     "input": [
      "X = np.linspace(1,1000,1000)\n",
      "Y = [float(i)/(np.log(i)) for i in X]\n",
      "plt.plot(X,Y)"
     ],
     "language": "python",
     "metadata": {},
     "outputs": [
      {
       "output_type": "stream",
       "stream": "stderr",
       "text": [
        "-c:2: RuntimeWarning: divide by zero encountered in double_scalars\n"
       ]
      },
      {
       "metadata": {},
       "output_type": "pyout",
       "prompt_number": 5,
       "text": [
        "[<matplotlib.lines.Line2D at 0x107748d90>]"
       ]
      },
      {
       "metadata": {},
       "output_type": "display_data",
       "png": "[encoded data removed]",
       "text": [
        "<matplotlib.figure.Figure at 0x10766bad0>"
       ]
      }
     ],
     "prompt_number": 5
    },
    {
     "cell_type": "code",
     "collapsed": false,
     "input": [
      "length=20\n",
      "pop_size=200\n",
      "gens=50000\n",
      "pres_fact=False\n",
      "Omut_fact=2\n",
      "\n",
      "\n",
      "Y=[1 for i in range(length)]\n",
      "print Y\n",
      "\n",
      "X=[[randint(1,50) for i in range(length)] for j in range(pop_size)]\n",
      "comp_i=[len([i for i, j in zip(x, Y) if i == j]) for x in X]\n",
      "print comp_i\n",
      "print sum(comp_i)\n",
      "print Omut_fact\n",
      "print; print\n",
      "\n",
      "\n",
      "surv=[]\n",
      "surv_fact=-1\n",
      "system=[]\n",
      "muts=[]\n",
      "for t in range(gens):\n",
      "    \n",
      "    Smut_fact=0.07*np.sin(float(t)/2000)+0.75\n",
      "\n",
      "    randa=randint(0,pop_size-1)\n",
      "    randb=randint(0,pop_size-1)\n",
      "    randc=randint(0,pop_size-1)\n",
      "    while randa==randb:\n",
      "        randb=randint(0,pop_size-1)\n",
      "    while randc==randb or randc==randa:\n",
      "        randc=randint(0,pop_size-1)\n",
      "    ind_list=[randa,randb,randc]\n",
      "    \n",
      "    A=X[randa]\n",
      "    B=X[randb]\n",
      "    C=X[randc]\n",
      "    org_list=[A,B,C]\n",
      "    \n",
      "    A_fifa=len([i for i, j in zip(A, Y) if i == j])\n",
      "    B_fifa=len([i for i, j in zip(B, Y) if i == j])\n",
      "    C_fifa=len([i for i, j in zip(B, Y) if i == j])\n",
      "    \n",
      "    fit_list=[A_fifa,B_fifa,C_fifa]\n",
      "    kill=fit_list.index(min(fit_list))\n",
      "    live=[i for i in range(3) if i!=kill]\n",
      "    if type(pres_fact)==int:\n",
      "        x=[int(i) for i in kill*np.ones(pres_fact)]\n",
      "        x.extend(live)\n",
      "        kill=random.choice(x)\n",
      "    \n",
      "    live1=org_list[live[0]]\n",
      "    live2=org_list[live[0]]\n",
      "    \n",
      "    x=[int(i) for i in 0*np.ones(Omut_fact)]\n",
      "    if type(Omut_fact)==int:\n",
      "        x.extend([-1,1])\n",
      "    X[ind_list[kill]]=[random.choice((live1[i]+random.choice(x),live2[i]+random.choice(x))) for i in range(length)]\n",
      "\n",
      "    if surv_fact!=-1:\n",
      "        if surv_fact<=sum([len([i for i, j in zip(x, Y) if i == j]) for x in X]):\n",
      "            if Omut_fact!=0:\n",
      "                Omut_fact=Omut_fact+random.choice([-1,0,1])\n",
      "            if Omut_fact==0:\n",
      "                Omut_fact=Omut_fact+1\n",
      "    \n",
      "    surv_fact = sum([len([i for i, j in zip(x, Y) if i == j]) for x in X])\n",
      "    surv.append(surv_fact)\n",
      "    x=randint(0,len(Y)-1)\n",
      "    \n",
      "    y=random.random()\n",
      "    if y>Smut_fact:\n",
      "        Y[x]=Y[x]+random.choice([-1,1])\n",
      "\n",
      "    system.append(Smut_fact)\n",
      "    muts.append(Omut_fact)\n",
      "\n",
      "comp_f=[len([i for i, j in zip(x, Y) if i == j]) for x in X]\n",
      "\n",
      "print Y\n",
      "print; print comp_f; print sum(comp_f)\n",
      "print Omut_fact\n",
      "\n",
      "plt.figure(figsize=(20,10))\n",
      "plt.plot(range(gens),max(surv)/2*np.array(system),color='y')\n",
      "plt.plot(range(gens),muts,color='r')\n",
      "plt.plot(range(gens),surv,color='b')\n",
      "plt.show()"
     ],
     "language": "python",
     "metadata": {},
     "outputs": [],
     "prompt_number": "*"
    },
    {
     "cell_type": "code",
     "collapsed": false,
     "input": [
      "print len(X)"
     ],
     "language": "python",
     "metadata": {},
     "outputs": [
      {
       "output_type": "stream",
       "stream": "stdout",
       "text": [
        "20\n"
       ]
      }
     ],
     "prompt_number": 55
    },
    {
     "cell_type": "code",
     "collapsed": false,
     "input": [
      "set([1,1,1])-set([1,2,3])"
     ],
     "language": "python",
     "metadata": {},
     "outputs": [
      {
       "metadata": {},
       "output_type": "pyout",
       "prompt_number": 77,
       "text": [
        "set()"
       ]
      }
     ],
     "prompt_number": 77
    },
    {
     "cell_type": "code",
     "collapsed": false,
     "input": [
      "A=[1,1,0,1]\n",
      "A.index(min(A))"
     ],
     "language": "python",
     "metadata": {},
     "outputs": [
      {
       "metadata": {},
       "output_type": "pyout",
       "prompt_number": 151,
       "text": [
        "2"
       ]
      }
     ],
     "prompt_number": 151
    },
    {
     "cell_type": "code",
     "collapsed": false,
     "input": [
      "print 1%10"
     ],
     "language": "python",
     "metadata": {},
     "outputs": [
      {
       "output_type": "stream",
       "stream": "stdout",
       "text": [
        "1\n"
       ]
      }
     ],
     "prompt_number": 178
    },
    {
     "cell_type": "code",
     "collapsed": false,
     "input": [],
     "language": "python",
     "metadata": {},
     "outputs": []
    }
   ],
   "metadata": {}
  }
 ]
}