{
 "metadata": {
  "name": ""
 },
 "nbformat": 3,
 "nbformat_minor": 0,
 "worksheets": [
  {
   "cells": [
    {
     "cell_type": "markdown",
     "metadata": {},
     "source": [
      "This project is based on the common strawman argument from creationists which upholds the view that evolution is akin to taking apart a clock (a complex and intricate object), throwing it in a box, and shaking the box for millions of years expecting a clock to emerge at the end. this is clearly a false analogy when you consider that clocks are not living organisms subject to the pressures of natural selection where the parts themselves have an affinity for each other. this program here seeks to demonstrate how a clock could form if it were subject to the same pressures which are put on organisms in the natural world. In terms of generating structures this is probably most analagous to the spotanious generation of complex protien structures which have natural affinites for eachother."
     ]
    },
    {
     "cell_type": "code",
     "collapsed": false,
     "input": [
      "%matplotlib inline"
     ],
     "language": "python",
     "metadata": {},
     "outputs": [],
     "prompt_number": 3
    },
    {
     "cell_type": "raw",
     "metadata": {},
     "source": [
      "define key characteristics of the clock or \"organism\" (i.e. how many gears, how many ratchet, and how each part can connect to other parts)"
     ]
    },
    {
     "cell_type": "code",
     "collapsed": false,
     "input": [
      "parts = ['gears','ratchet','hands','spring','housing'] #list of parts in each \"organism\"\n",
      "\n",
      "subparts = []\n",
      "num_g = 30 #30 gears\n",
      "num_h = 7 #7 hands\n",
      "\n",
      "for k in range(1,num_g+1):\n",
      "    subparts.append('g{0}'.format(k))\n",
      "subparts.append('r')\n",
      "for k1 in range(1,num_h+1):\n",
      "    subparts.append('h{0}'.format(k1))\n",
      "subparts.append('s')\n",
      "subparts.append('H')\n",
      "\n",
      "print subparts #30 gears, 1 ratchet, 7 hands, 1 spring, and 1 housing. each individual part is called a subpart.\n",
      "               #so a part would be a gear while a subpart would be gear number 'n' denoted below as 'gn'."
     ],
     "language": "python",
     "metadata": {},
     "outputs": [
      {
       "output_type": "stream",
       "stream": "stdout",
       "text": [
        "['g1', 'g2', 'g3', 'g4', 'g5', 'g6', 'g7', 'g8', 'g9', 'g10', 'g11', 'g12', 'g13', 'g14', 'g15', 'g16', 'g17', 'g18', 'g19', 'g20', 'g21', 'g22', 'g23', 'g24', 'g25', 'g26', 'g27', 'g28', 'g29', 'g30', 'r', 'h1', 'h2', 'h3', 'h4', 'h5', 'h6', 'h7', 's', 'H']\n"
       ]
      }
     ],
     "prompt_number": 4
    },
    {
     "cell_type": "code",
     "collapsed": false,
     "input": [
      "def pos_cons(num_g,num_h):\n",
      "    '''returns (pos_cons,part_cons)\n",
      "    these are all possible connection points\n",
      "    \n",
      "    num_g = number of gears present\n",
      "    num_h = humber of hands present\n",
      "    \n",
      "    working with the properties that each part has, pos_cons, a list of all possible connection points, is created.\n",
      "    each gear can connect to it's center or it's rim (C or R) they can be connected at more than one place on the rim.\n",
      "    the ratchet can connect to it's center mounting point or the actual ratcheting device (C or R)\n",
      "    the hands of the clock can be attached at either of their ends (A or B)\n",
      "    the spring can connect to it's center or it's rim (C or R)\n",
      "    the housing can only be connected at one point. any functional clock must be attched to the housing first.\n",
      "    '''\n",
      "    pos_cons = []\n",
      "    for k in range(1,num_g+1):\n",
      "        pos_cons.append('g{0}C'.format(k))\n",
      "        pos_cons.append('g{0}R'.format(k))\n",
      "    pos_cons.append('rC')\n",
      "    pos_cons.append('rR')\n",
      "    pos_cons.append('HC')\n",
      "    for k1 in range(1,num_h+1):\n",
      "        pos_cons.append('h{0}A'.format(k1))\n",
      "        pos_cons.append('h{0}B'.format(k1))\n",
      "    pos_cons.append('sC')\n",
      "    pos_cons.append('sR')\n",
      "    return pos_cons\n",
      "\n",
      "def part_cons(num_g,num_h):\n",
      "    '''returns tuples with the inherent part connections.\n",
      "    As an example, the rim and center a gear are the same part, and thus are technically connected to eachother. These connections do not change form generation to generation.\n",
      "    '''\n",
      "    part_cons = []\n",
      "    for k in range(1,num_g+1):\n",
      "        part_cons.append(['g{0}C'.format(k),'g{0}R'.format(k)])\n",
      "    part_cons.append(['rC','rR'])\n",
      "    for k1 in range(1,num_h+1):\n",
      "        part_cons.append(['h{0}A'.format(k1),'h{0}B'.format(k1)])\n",
      "    part_cons.append(['sC','sR'])\n",
      "\n",
      "    return part_cons"
     ],
     "language": "python",
     "metadata": {},
     "outputs": [],
     "prompt_number": 5
    },
    {
     "cell_type": "raw",
     "metadata": {},
     "source": [
      "initilize the population with organisms and random organism characteristics\n",
      "\n",
      "the features which characterize an organism include what pieces are connected and which are not. lists of individual connections will be created and then combined to show the evolving networks. networks of connections which are better suited to performing as a functional clock are selected for through a process that will be detailed later."
     ]
    },
    {
     "cell_type": "code",
     "collapsed": false,
     "input": [
      "def make_orgs(num_O,parts,pos_cons,num_g,num_h,gcon_prob,hcon_prob,rcon_prob,scon_prob):\n",
      "    '''returns orgs\n",
      "    \n",
      "    orgs is a nested dictionary containing connection values. here if a value is 0, then the part is not connected\n",
      "    at that point. after performing make_orgs on this dictionary the index of each value is significant; in gears (g) index 0 is the number of teeth on the gears\n",
      "    while index 1 and index 2 show where the center and rim are connected to respectively. these indexes are used later to create\n",
      "    a list of individual connections\n",
      "    \n",
      "    num_O = the number of organisms which will be generated\n",
      "    parts = a list of the different parts which are present in each organism\n",
      "    pos_cons = a list of all the possible conection points in the organism\n",
      "    num_g = number of gears present\n",
      "    num_h = humber of hands present\n",
      "    gcon_prob = the probability (or the that each gear will connect\n",
      "    hcon_prob = the probability that each hand will connect\n",
      "    rcon_prob = the probability \n",
      "    scon_prob\n",
      "    '''\n",
      "    from random import random as rand\n",
      "    from random import randint\n",
      "    \n",
      "    orgs = {}\n",
      "    \n",
      "    num_O = 10 #number of organisms in the population\n",
      "    for org in range(1,num_O+1): #make organisms\n",
      "        orgs['O{0}'.format(org)]={}\n",
      "        for part in parts: #iterate through the list of parts\n",
      "            orgs['O{0}'.format(org)][part]={}\n",
      "            if part=='gears': #creating gears\n",
      "                for g in range(1,num_g+1): #create individual connections for each gear. this iterates through subparts.\n",
      "                    orgs['O{0}'.format(org)][part]['g{0}'.format(g)]=[0,0,0]\n",
      "                    for init in range(1,3): #two possible connections to iterate through initially\n",
      "                        if rand()<gcon_prob: #probability that the gear will be connected\n",
      "                            con = pos_cons[randint(1,len(pos_cons)-1)] #generate random connection from pos_cons list\n",
      "                            if con[:-1]!='g{0}'.format(g): #if it is not connected to itself ascribe the connection to the gear\n",
      "                                orgs['O{0}'.format(org)][part]['g{0}'.format(g)][init] = con\n",
      "                    orgs['O{0}'.format(org)][part]['g{0}'.format(g)][0]=(randint(4,1000)) #generate random number of teeth on each gear\n",
      "            if part=='ratchet': #creating ratchet\n",
      "                orgs['O{0}'.format(org)][part]['r']=[0,0] #ratchet has no subparts since there is only one\n",
      "                for init in range(2):\n",
      "                    if rand()<rcon_prob: \n",
      "                        con = pos_cons[randint(1,len(pos_cons)-1)]\n",
      "                        if con[:-1]!='r': \n",
      "                             orgs['O{0}'.format(org)][part]['r'][init] = con\n",
      "            if part=='hands': #creating clock hands\n",
      "                for h in range(1,num_h+1):\n",
      "                    orgs['O{0}'.format(org)][part]['h{0}'.format(h)]=[0,0]\n",
      "                    for init in range(2):\n",
      "                        if rand()<hcon_prob:\n",
      "                            con = pos_cons[randint(1,len(pos_cons)-1)]\n",
      "                            if con[:-1]!='h{0}'.format(h):\n",
      "                                orgs['O{0}'.format(org)][part]['h{0}'.format(h)][init] = con\n",
      "            if part=='spring': #creating spring\n",
      "                orgs['O{0}'.format(org)][part]['s']=[0,0] #spring has no subparts since there is only one\n",
      "                for init in range(2):\n",
      "                    if rand()<scon_prob:\n",
      "                        con = pos_cons[randint(1,len(pos_cons)-1)]\n",
      "                        if con[:-1]!='s':\n",
      "                            orgs['O{0}'.format(org)][part]['s'][init] = con\n",
      "            if part=='housing': #creating housing\n",
      "                orgs['O{0}'.format(org)][part]['H']=[0] #housing has no subparts since there is only one with a single connection point\n",
      "                if rand()<hcon_prob:\n",
      "                    con = pos_cons[randint(1,len(pos_cons)-1)]\n",
      "                    if con[:-1]!='H':\n",
      "                        orgs['O{0}'.format(org)][part]['H'] = con\n",
      "    \n",
      "    return orgs"
     ],
     "language": "python",
     "metadata": {},
     "outputs": [],
     "prompt_number": 6
    },
    {
     "cell_type": "raw",
     "metadata": {},
     "source": [
      "all the following work is conducted on a single organism and will later be made into functions that can be called on later once i need to implament generational changes and competition between organisms."
     ]
    },
    {
     "cell_type": "code",
     "collapsed": false,
     "input": [
      "#get_con_vals is the only function used in this section.\n",
      "def isolate(num_O):\n",
      "    iso = []\n",
      "    for i in range(3):\n",
      "        iso.append(randint(1,num_O+1))\n",
      "    return iso\n",
      "\n",
      "def is_number(s):\n",
      "    try:\n",
      "        float(s)\n",
      "        return True\n",
      "    except ValueError:\n",
      "        return False\n",
      "\n",
      "def get_num(part):\n",
      "    part_num = part[1:len(part)]\n",
      "    if is_number(part_num)==True:\n",
      "        return int(part_num)\n",
      "    else:\n",
      "        return part\n",
      "    \n",
      "def get_con_vals(orgs,O_num):\n",
      "    list = []\n",
      "    for part in dict.keys(orgs[O_num]):\n",
      "        for subpart in orgs[O_num][part]:\n",
      "            list.append([subpart,orgs[O_num][part][subpart]])\n",
      "    return list\n",
      "\n",
      "def no_digits(s):\n",
      "    string = []\n",
      "    for i in s:\n",
      "        if not i.isdigit():\n",
      "            string.append(i)\n",
      "    return ''.join(string)"
     ],
     "language": "python",
     "metadata": {},
     "outputs": [],
     "prompt_number": 7
    },
    {
     "cell_type": "code",
     "collapsed": false,
     "input": [
      "num_g=10\n",
      "num_h=3\n",
      "\n",
      "orgs = make_orgs(5,parts,pos_cons(num_g,num_h),num_g,num_h,0.5,1,0.5,0.5)\n",
      "con_vals = get_con_vals(orgs,'O1')\n",
      "#gather connection values from within the nested dictionary 'orgs'. here if the value is 0, then the part is not connected\n",
      "#at that point. the index of each value is significant; in gears (g) index 0 is the number of teeth on the gears\n",
      "#while index 1 and index 2 show where the center and rim are connected to respectively. these indexes are used later to create\n",
      "#a list of individual connections\n",
      "con_vals"
     ],
     "language": "python",
     "metadata": {},
     "outputs": [
      {
       "metadata": {},
       "output_type": "pyout",
       "prompt_number": 8,
       "text": [
        "[['s', ['h1B', 'g2C']],\n",
        " ['H', 'h3A'],\n",
        " ['r', ['g8C', 0]],\n",
        " ['g7', [280, 0, 0]],\n",
        " ['g6', [801, 0, 'g7C']],\n",
        " ['g5', [54, 'g3C', 'g2C']],\n",
        " ['g4', [130, 0, 'rR']],\n",
        " ['g3', [69, 0, 0]],\n",
        " ['g2', [894, 'g9R', 'rR']],\n",
        " ['g1', [793, 0, 'g5R']],\n",
        " ['g9', [295, 'g6C', 0]],\n",
        " ['g8', [103, 'g10R', 0]],\n",
        " ['g10', [575, 'g7C', 0]],\n",
        " ['h2', [0, 'h1A']],\n",
        " ['h3', ['rR', 'g10C']],\n",
        " ['h1', ['g2R', 'g3C']]]"
       ]
      }
     ],
     "prompt_number": 8
    },
    {
     "cell_type": "code",
     "collapsed": false,
     "input": [
      "def get_connections(con_vals,part_cons):\n",
      "    cons = []\n",
      "    for i in part_cons:\n",
      "        cons.append(i)\n",
      "    for i in con_vals:\n",
      "        if i[0][0]=='h':\n",
      "            count = 0\n",
      "            for j in i[1]:\n",
      "                if j!=0 and count==0:\n",
      "                    cons.append([i[0]+'A',j])\n",
      "                if j!=0 and count!=0:\n",
      "                    cons.append([i[0]+'B',j])\n",
      "                count+=1\n",
      "        if i[0][0]=='g':\n",
      "            count = 0\n",
      "            for j in i[1][1:2]:\n",
      "                if j!=0 and count==1:\n",
      "                    cons.append([i[0]+'C',j])\n",
      "                if j!=0 and count>1:\n",
      "                    cons.append([i[0]+'R',j])\n",
      "                count+=1\n",
      "        if i[0][0]=='H':\n",
      "            if i[1]!=0:\n",
      "                cons.append([i[0]+'C',i[1]])\n",
      "        if i[0][0]=='r' or i[0][0]=='s':\n",
      "            count = 0\n",
      "            for j in i[1]:\n",
      "                if j!=0 and count==0:\n",
      "                    cons.append([i[0]+'C',j])\n",
      "                if j!=0 and count!=0:\n",
      "                    cons.append([i[0]+'R',j])\n",
      "                count+=1\n",
      "    return cons"
     ],
     "language": "python",
     "metadata": {},
     "outputs": [],
     "prompt_number": 9
    },
    {
     "cell_type": "code",
     "collapsed": false,
     "input": [
      "con_list = get_connections(con_vals,part_cons(num_g,num_h))\n",
      "#get_connections produces a list of individual connections in an organism\n",
      "print con_list"
     ],
     "language": "python",
     "metadata": {},
     "outputs": [
      {
       "output_type": "stream",
       "stream": "stdout",
       "text": [
        "[['g1C', 'g1R'], ['g2C', 'g2R'], ['g3C', 'g3R'], ['g4C', 'g4R'], ['g5C', 'g5R'], ['g6C', 'g6R'], ['g7C', 'g7R'], ['g8C', 'g8R'], ['g9C', 'g9R'], ['g10C', 'g10R'], ['rC', 'rR'], ['h1A', 'h1B'], ['h2A', 'h2B'], ['h3A', 'h3B'], ['sC', 'sR'], ['sC', 'h1B'], ['sR', 'g2C'], ['HC', 'h3A'], ['rC', 'g8C'], ['h2B', 'h1A'], ['h3A', 'rR'], ['h3B', 'g10C'], ['h1A', 'g2R'], ['h1B', 'g3C']]\n"
       ]
      }
     ],
     "prompt_number": 10
    },
    {
     "cell_type": "raw",
     "metadata": {},
     "source": [
      "Formation of networks from individual connections begins"
     ]
    },
    {
     "cell_type": "code",
     "collapsed": false,
     "input": [
      "import networkx as nx\n",
      "import matplotlib.pylab as plt"
     ],
     "language": "python",
     "metadata": {},
     "outputs": [],
     "prompt_number": 11
    },
    {
     "cell_type": "code",
     "collapsed": false,
     "input": [
      "G = nx.DiGraph()\n",
      "G.add_edges_from(con_list)"
     ],
     "language": "python",
     "metadata": {},
     "outputs": [],
     "prompt_number": 12
    },
    {
     "cell_type": "code",
     "collapsed": false,
     "input": [
      "G = nx.DiGraph()\n",
      "for node1, node2 in con_list:\n",
      "    G.add_edge(node1, node2, weight=-1)\n",
      "\n",
      "nx.draw(G)\n",
      "plt.show()    \n",
      "\n",
      "min_lenght = 0\n",
      "F = nx.DiGraph()   #filtered graphs\n",
      "\n",
      "# check all edges with bellman_ford\n",
      "for u, v in G.edges():\n",
      "    vals, distances = nx.bellman_ford(G, u)\n",
      "    if min(distances.values()) < -min_lenght:\n",
      "        for u, v in vals.items():\n",
      "            if v:\n",
      "                F.add_edge(v, u)\n",
      "nx.draw(F,)\n",
      "plt.show()"
     ],
     "language": "python",
     "metadata": {},
     "outputs": [
      {
       "metadata": {},
       "output_type": "display_data",
       "png": "[encoded data removed]",
       "text": [
        "<matplotlib.figure.Figure at 0x10803a250>"
       ]
      },
      {
       "metadata": {},
       "output_type": "display_data",
       "png": "[encoded data removed]",
       "text": [
        "<matplotlib.figure.Figure at 0x107fcecd0>"
       ]
      }
     ],
     "prompt_number": 24
    },
    {
     "cell_type": "code",
     "collapsed": false,
     "input": [
      "G = nx.Graph()\n",
      "for node1, node2 in con_list:\n",
      "    G.add_edge(node1, node2)\n",
      "\n",
      "print G['h3A'].keys()"
     ],
     "language": "python",
     "metadata": {},
     "outputs": [
      {
       "output_type": "stream",
       "stream": "stdout",
       "text": [
        "['h3B', 'HC', 'rR']\n"
       ]
      }
     ],
     "prompt_number": 134
    },
    {
     "cell_type": "code",
     "collapsed": false,
     "input": [
      "set(['a','b','c'])-(set(['a','b','c'])-set(['a','b','d']))"
     ],
     "language": "python",
     "metadata": {},
     "outputs": [
      {
       "metadata": {},
       "output_type": "pyout",
       "prompt_number": 82,
       "text": [
        "{'a', 'b'}"
       ]
      }
     ],
     "prompt_number": 82
    },
    {
     "cell_type": "code",
     "collapsed": false,
     "input": [
      "def make_strct(con_list,rel_point=None,cnt_lim=None):\n",
      "    \n",
      "    G = nx.Graph()\n",
      "    for node1, node2 in con_list:\n",
      "        G.add_edge(node1, node2)\n",
      "    \n",
      "    strct0={}\n",
      "    break_check=False\n",
      "    for k_main in G:\n",
      "        \n",
      "        x_graph = G\n",
      "        \n",
      "        strct0[k_main]=[]\n",
      "        strct0[k_main].append(x_graph[k_main].keys())\n",
      "        \n",
      "        try:\n",
      "            cnt=0\n",
      "            while len(strct0[k_main][cnt])!=0:\n",
      "                lvl_p=strct0[k_main][cnt]\n",
      "                lvl_n=[]\n",
      "                \n",
      "                for e_m in lvl_p:\n",
      "                    del_list=[]\n",
      "                    for e_s in x_graph[e_m]:\n",
      "                        lvl_n.append(e_s)       \n",
      "                        del_list.append(e_s)\n",
      "                \n",
      "                lvl_n=list(set(lvl_n))\n",
      "                if cnt==0:\n",
      "                    kill_set=set([k_main])\n",
      "                    lvl_n= list(set(lvl_n)-kill_set)\n",
      "                if cnt>0:\n",
      "                    kill_set=set(strct0[k_main][cnt-1])\n",
      "                    lvl_n= list(set(lvl_n)-kill_set)\n",
      "\n",
      "                if len(lvl_n)!=0:\n",
      "                    strct0[k_main].append(lvl_n)\n",
      "                cnt+=1\n",
      "                \n",
      "                if cnt_lim!=None:\n",
      "                    if cnt==cnt_lim:\n",
      "                        break_check=True\n",
      "                        break\n",
      "        except:\n",
      "            strct0[k_main].append(None)\n",
      "        if break_check==True:\n",
      "            raise OverflowError('count limit reached')\n",
      "    \n",
      "    print \n",
      "    \n",
      "    if rel_point!=None:\n",
      "        depths=strct0[rel_point]\n",
      "        d_1=depths[0]\n",
      "        def make(e_1,z=0):\n",
      "            print e_1,z\n",
      "            print list(set(depths[z])-(set(depths[z])-set(G[x].keys)))\n",
      "            if z>len(depths):\n",
      "                return {}\n",
      "            return {x: make(y for y in list(set(depths[z])-(set(depths[z])-set(G[x].keys)))) for x in e_1}\n",
      "        return make(d_1)\n",
      "    \n",
      "    return strct0"
     ],
     "language": "python",
     "metadata": {},
     "outputs": [],
     "prompt_number": 183
    },
    {
     "cell_type": "code",
     "collapsed": false,
     "input": [
      "strct=make_strct(con_list)['HC']\n",
      "print strct\n",
      "print G['h3A']"
     ],
     "language": "python",
     "metadata": {},
     "outputs": [
      {
       "output_type": "stream",
       "stream": "stdout",
       "text": [
        "\n",
        "[['h3A'], ['h3B', 'rR'], ['g10C', 'rC'], ['g10R', 'g8C'], ['g8R'], None]\n",
        "{'h3B': {}, 'HC': {}, 'rR': {}}\n"
       ]
      }
     ],
     "prompt_number": 184
    },
    {
     "cell_type": "code",
     "collapsed": false,
     "input": [
      "X=[['A', 'B', 'C'], ['A', 'B', 'D']]\n",
      "d = {}\n",
      "def todict(lst, d=0):\n",
      "    print lst, d\n",
      "    if d > len(lst):\n",
      "        return {}\n",
      "    return {a[d]: todict([x for x in X if x[d] == a[d]], d+1) for a in lst}\n",
      "todict(X)"
     ],
     "language": "python",
     "metadata": {},
     "outputs": [
      {
       "output_type": "stream",
       "stream": "stdout",
       "text": [
        "[['A', 'B', 'C'], ['A', 'B', 'D']] 0\n",
        "[['A', 'B', 'C'], ['A', 'B', 'D']] 1\n",
        "[['A', 'B', 'C'], ['A', 'B', 'D']] 2\n",
        "[['A', 'B', 'C']] 3\n",
        "[['A', 'B', 'D']] 3\n",
        "[['A', 'B', 'C'], ['A', 'B', 'D']] 2\n",
        "[['A', 'B', 'C']] 3\n",
        "[['A', 'B', 'D']] 3\n",
        "[['A', 'B', 'C'], ['A', 'B', 'D']] 1\n",
        "[['A', 'B', 'C'], ['A', 'B', 'D']] 2\n",
        "[['A', 'B', 'C']] 3\n",
        "[['A', 'B', 'D']] 3\n",
        "[['A', 'B', 'C'], ['A', 'B', 'D']] 2\n",
        "[['A', 'B', 'C']] 3\n",
        "[['A', 'B', 'D']] 3\n"
       ]
      },
      {
       "metadata": {},
       "output_type": "pyout",
       "prompt_number": 71,
       "text": [
        "{'A': {'B': {'C': {}, 'D': {}}}}"
       ]
      }
     ],
     "prompt_number": 71
    },
    {
     "cell_type": "code",
     "collapsed": false,
     "input": [
      "A=[1,2,3]\n",
      "B=[4,5]\n",
      "print [i*x for x in A for i in B]"
     ],
     "language": "python",
     "metadata": {},
     "outputs": [
      {
       "output_type": "stream",
       "stream": "stdout",
       "text": [
        "[4, 5, 8, 10, 12, 15]\n"
       ]
      }
     ],
     "prompt_number": 67
    },
    {
     "cell_type": "code",
     "collapsed": false,
     "input": [
      "foo = [1,2,3,4,5,6]\n",
      "bar = [x for x in foo if x % 2 == 1]\n",
      "print bar"
     ],
     "language": "python",
     "metadata": {},
     "outputs": [
      {
       "output_type": "stream",
       "stream": "stdout",
       "text": [
        "[1, 3, 5]\n"
       ]
      }
     ],
     "prompt_number": 50
    },
    {
     "cell_type": "code",
     "collapsed": false,
     "input": [
      "strct={}\n",
      "dic=G\n",
      "for k_main in dic:\n",
      "    cnt_main=0\n",
      "    strct[k_main]=[]\n",
      "    strct[k_main].append(dic[k_main].keys())\n",
      "    try:\n",
      "        cnt=0\n",
      "        while len(strct[k_main][cnt])!=0:\n",
      "            lvl_p=strct[k_main][cnt]\n",
      "            lvl_n=[]\n",
      "            \n",
      "            for e_m in lvl_p:\n",
      "                for e_s in dic[e_m]:\n",
      "                    lvl_n.append(e_s)\n",
      "            \n",
      "            lvl_n=list(set(lvl_n))\n",
      "            \n",
      "            if cnt==0:\n",
      "                kill_set=set([k_main])\n",
      "                lvl_n= list(set(lvl_n)-kill_set)\n",
      "            if cnt>0:\n",
      "                kill_set=set(strct[k_main][cnt-1])\n",
      "                lvl_n= list(set(lvl_n)-kill_set)\n",
      "            \n",
      "            strct[k_main].append(lvl_n)\n",
      "            cnt+=1\n",
      "            if cnt>7:\n",
      "                break\n",
      "    except:\n",
      "        strct[k_main].append(None)\n",
      "\n",
      "\n",
      "\n",
      "depths=strct['HC']\n",
      "d_1=depths[0]\n",
      "l=[]\n",
      "def make(e_1,z=0):\n",
      "    return [{x: make([y for y in list(set(depths[z+1])-(set(depths[z+1])-set(G[x].keys())))],z+1)} for x in e_1]\n",
      "\n",
      "X = make(d_1)\n",
      "strct_HC={}\n",
      "for i in X[0]:\n",
      "    print {'HC': X[0][i]}"
     ],
     "language": "python",
     "metadata": {},
     "outputs": [
      {
       "output_type": "stream",
       "stream": "stdout",
       "text": [
        "{'HC': [{'h3B': [{'g10C': [{'g10R': []}]}]}, {'rR': [{'rC': [{'g8C': [{'g8R': []}]}]}]}]}\n"
       ]
      }
     ],
     "prompt_number": 221
    },
    {
     "cell_type": "code",
     "collapsed": false,
     "input": [
      "print set(['a'])"
     ],
     "language": "python",
     "metadata": {},
     "outputs": [
      {
       "output_type": "stream",
       "stream": "stdout",
       "text": [
        "set(['a'])\n"
       ]
      }
     ],
     "prompt_number": 158
    },
    {
     "cell_type": "code",
     "collapsed": false,
     "input": [
      "del G['HC']['g8C']"
     ],
     "language": "python",
     "metadata": {},
     "outputs": [],
     "prompt_number": 84
    },
    {
     "cell_type": "code",
     "collapsed": false,
     "input": [
      "print G['HC']"
     ],
     "language": "python",
     "metadata": {},
     "outputs": [
      {
       "output_type": "stream",
       "stream": "stdout",
       "text": [
        "{}\n"
       ]
      }
     ],
     "prompt_number": 85
    },
    {
     "cell_type": "code",
     "collapsed": false,
     "input": [],
     "language": "python",
     "metadata": {},
     "outputs": []
    }
   ],
   "metadata": {}
  }
 ]
}