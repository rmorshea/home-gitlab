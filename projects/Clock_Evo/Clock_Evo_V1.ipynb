{
 "metadata": {
  "name": "Clock_Evo.ipynb"
 },
 "nbformat": 3,
 "nbformat_minor": 0,
 "worksheets": [
  {
   "cells": [
    {
     "cell_type": "markdown",
     "metadata": {},
     "source": [
      "This project is based on the common strawman argument from creationists which upholds the view that evolution is akin to taking apart a clock (a complex and intricate object), throwing it in a box, and shaking the box for millions of years expecting a clock to emerge at the end. this is clearly a false analogy when you consider that clocks are not living organisms subject to the pressures of natural selection where the parts themselves have an affinity for each other. this program here seeks to demonstrate how a clock could form if it were subject to the same pressures which are put on organisms in the natural world. In terms of generating structures this is probably most analagous to the spotanious generation of complex protien structures which have natural affinites for eachother."
     ]
    },
    {
     "cell_type": "raw",
     "metadata": {},
     "source": [
      "define key characteristics of the clock or \"organism\" (i.e. how many gears, how many ratchet, and how each part can connect to other parts)"
     ]
    },
    {
     "cell_type": "code",
     "collapsed": false,
     "input": [
      "orgs = {}\n",
      "parts = ['gears','ratchet','hands','spring','housing'] #list of parts in each \"organism\"\n",
      "\n",
      "subparts = []\n",
      "num_g = 30 #30 gears\n",
      "num_h = 7 #7 hands\n",
      "\n",
      "for k in range(1,num_g+1):\n",
      "    subparts.append('g{0}'.format(k))\n",
      "subparts.append('r')\n",
      "for k1 in range(1,num_h+1):\n",
      "    subparts.append('h{0}'.format(k1))\n",
      "subparts.append('s')\n",
      "subparts.append('H')\n",
      "\n",
      "print subparts #30 gears, 1 ratchet, 7 hands, 1 spring, and 1 housing. each individual part is called a subpart.\n",
      "               #so a part would be a gear while a subpart would be gear number 'n' denoted below as 'gn'."
     ],
     "language": "python",
     "metadata": {},
     "outputs": [
      {
       "output_type": "stream",
       "stream": "stdout",
       "text": [
        "['g1', 'g2', 'g3', 'g4', 'g5', 'g6', 'g7', 'g8', 'g9', 'g10', 'g11', 'g12', 'g13', 'g14', 'g15', 'g16', 'g17', 'g18', 'g19', 'g20', 'g21', 'g22', 'g23', 'g24', 'g25', 'g26', 'g27', 'g28', 'g29', 'g30', 'r', 'h1', 'h2', 'h3', 'h4', 'h5', 'h6', 'h7', 's', 'H']\n"
       ]
      }
     ],
     "prompt_number": 5
    },
    {
     "cell_type": "code",
     "collapsed": false,
     "input": [
      " pos_cons = []\n",
      "for k in range(1,num_g+1):\n",
      "    pos_cons.append('g{0}C'.format(k))\n",
      "    pos_cons.append('g{0}R'.format(k))\n",
      "pos_cons.append('rC')\n",
      "pos_cons.append('rR')\n",
      "for k1 in range(1,num_h+1):\n",
      "    pos_cons.append('h{0}A'.format(k1))\n",
      "    pos_cons.append('h{0}B'.format(k1))\n",
      "pos_cons.append('sC')\n",
      "pos_cons.append('sR')\n",
      "pos_cons.append('HC')\n",
      "\n",
      "print pos_cons\n",
      "\n",
      "#working with the properties that each part has, pos_cons, a list of all possible connection points, is created.\n",
      "#each gear can connect to it's center or it's rim (C or R) they can be connected at more than one place on the rim.\n",
      "#the ratchet can connect to it's center mounting point or the actual ratcheting device (C or R)\n",
      "#the hands of the clock can be attached at either of their ends (A or B)\n",
      "#the spring can connect to it's center or it's rim (C or R)\n",
      "#the housing can only be connected at one point. any functional clock must be attched to the housing first."
     ],
     "language": "python",
     "metadata": {},
     "outputs": [
      {
       "output_type": "stream",
       "stream": "stdout",
       "text": [
        "['g1C', 'g1R', 'g2C', 'g2R', 'g3C', 'g3R', 'g4C', 'g4R', 'g5C', 'g5R', 'g6C', 'g6R', 'g7C', 'g7R', 'g8C', 'g8R', 'g9C', 'g9R', 'g10C', 'g10R', 'g11C', 'g11R', 'g12C', 'g12R', 'g13C', 'g13R', 'g14C', 'g14R', 'g15C', 'g15R', 'g16C', 'g16R', 'g17C', 'g17R', 'g18C', 'g18R', 'g19C', 'g19R', 'g20C', 'g20R', 'g21C', 'g21R', 'g22C', 'g22R', 'g23C', 'g23R', 'g24C', 'g24R', 'g25C', 'g25R', 'g26C', 'g26R', 'g27C', 'g27R', 'g28C', 'g28R', 'g29C', 'g29R', 'g30C', 'g30R', 'rC', 'rR', 'h1A', 'h1B', 'h2A', 'h2B', 'h3A', 'h3B', 'h4A', 'h4B', 'h5A', 'h5B', 'h6A', 'h6B', 'h7A', 'h7B', 'sC', 'sR', 'HC']\n"
       ]
      }
     ],
     "prompt_number": 6
    },
    {
     "cell_type": "raw",
     "metadata": {},
     "source": [
      "initilize the population with organisms and random organism characteristics\n",
      "\n",
      "the features which characterize an organism include what pieces are connected and which are not. lists of individual connections will be created and then combined to show the evolving networks. networks of connections which are better suited to performing as a functional clock are selected for through a process that will be detailed later."
     ]
    },
    {
     "cell_type": "code",
     "collapsed": false,
     "input": [
      "from random import random as rand\n",
      "from random import randint\n",
      "num_O = 10 #number of organisms in the population\n",
      "for org in range(1,num_O+1): #make organisms\n",
      "    orgs['O{0}'.format(org)]={}\n",
      "    for part in parts: #iterate through the list of parts\n",
      "        orgs['O{0}'.format(org)][part]={}\n",
      "        if part=='gears': #creating gears\n",
      "            for g in range(1,num_g+1): #create individual connections for each gear. this iterates through subparts.\n",
      "                orgs['O{0}'.format(org)][part]['g{0}'.format(g)]=[0,0,0]\n",
      "                for init in range(1,3): #two possible connections to iterate through initially\n",
      "                    if rand()>0.5: #probability that the gear will be connected\n",
      "                        con = pos_cons[randint(1,len(pos_cons)-1)] #generate random connection from pos_cons list\n",
      "                        if con[:-1]!='g{0}'.format(g): #if it is not connected to itself ascribe the connection to the gear\n",
      "                            orgs['O{0}'.format(org)][part]['g{0}'.format(g)][init] = con\n",
      "                orgs['O{0}'.format(org)][part]['g{0}'.format(g)][0]=(randint(4,1000)) #generate random number of teeth on each gear\n",
      "        if part=='ratchet': #creating ratchet\n",
      "            orgs['O{0}'.format(org)][part]['r']=[0,0] #ratchet has no subparts since there is only one\n",
      "            for init in range(2):\n",
      "                if rand()>0.5: \n",
      "                    con = pos_cons[randint(1,len(pos_cons)-1)]\n",
      "                    if con[:-1]!='r': \n",
      "                         orgs['O{0}'.format(org)][part]['r'][init] = con\n",
      "        if part=='hands': #creating clock hands\n",
      "            for h in range(1,num_h+1):\n",
      "                orgs['O{0}'.format(org)][part]['h{0}'.format(h)]=[0,0]\n",
      "                for init in range(2):\n",
      "                    if rand()>0.5:\n",
      "                        con = pos_cons[randint(1,len(pos_cons)-1)]\n",
      "                        if con[:-1]!='h{0}'.format(h):\n",
      "                            orgs['O{0}'.format(org)][part]['h{0}'.format(h)][init] = con\n",
      "        if part=='spring': #creating spring\n",
      "            orgs['O{0}'.format(org)][part]['s']=[0,0] #spring has no subparts since there is only one\n",
      "            for init in range(2):\n",
      "                if rand()>0.5:\n",
      "                    con = pos_cons[randint(1,len(pos_cons)-1)]\n",
      "                    if con[:-1]!='s':\n",
      "                        orgs['O{0}'.format(org)][part]['s'][init] = con\n",
      "        if part=='housing': #creating housing\n",
      "            orgs['O{0}'.format(org)][part]['H']=[0] #housing has no subparts since there is only one with a single connection point\n",
      "            if rand()>0.5:\n",
      "                 con = pos_cons[randint(1,len(pos_cons))]\n",
      "                 if con[:-1]!='H':\n",
      "                    orgs['O{0}'.format(org)][part]['H'] = con"
     ],
     "language": "python",
     "metadata": {},
     "outputs": [],
     "prompt_number": 7
    },
    {
     "cell_type": "raw",
     "metadata": {},
     "source": [
      "all the following work is conducted on a single organism and will later be made into functions that can be called on later once i need to implament generational changes and competition between organisms."
     ]
    },
    {
     "cell_type": "code",
     "collapsed": false,
     "input": [
      "#get_con_vals is the only function used in this section.\n",
      "def isolate(num_O):\n",
      "    iso = []\n",
      "    for i in range(3):\n",
      "        iso.append(randint(1,num_O+1))\n",
      "    return iso\n",
      "\n",
      "def is_number(s):\n",
      "    try:\n",
      "        float(s)\n",
      "        return True\n",
      "    except ValueError:\n",
      "        return False\n",
      "\n",
      "def get_num(part):\n",
      "    part_num = part[1:len(part)]\n",
      "    if is_number(part_num)==True:\n",
      "        return int(part_num)\n",
      "    else:\n",
      "        return part\n",
      "    \n",
      "def get_con_vals(orgs,O_num,):\n",
      "    list = []\n",
      "    for part in dict.keys(orgs[O_num]):\n",
      "        for subpart in orgs[O_num][part]:\n",
      "            list.append([subpart,orgs[O_num][part][subpart]])\n",
      "    return list\n",
      "\n",
      "def no_digits(s):\n",
      "    string = []\n",
      "    for i in s:\n",
      "        if not i.isdigit():\n",
      "            string.append(i)\n",
      "    return ''.join(string)"
     ],
     "language": "python",
     "metadata": {},
     "outputs": [],
     "prompt_number": 8
    },
    {
     "cell_type": "code",
     "collapsed": false,
     "input": [
      "con_vals = get_con_vals(orgs,'O1')\n",
      "#gather connection values from within the nested dictionary 'orgs'. here if the value is 0, then the part is not connected\n",
      "#at that point. the index of each value is significant; in gears (g) index 0 is the number of teeth on the gears\n",
      "#while index 1 and index 2 show where the center and rim are connected to respectively. these indexes are used later to create\n",
      "#a list of individual connections\n",
      "con_vals"
     ],
     "language": "python",
     "metadata": {},
     "outputs": [
      {
       "metadata": {},
       "output_type": "pyout",
       "prompt_number": 9,
       "text": [
        "[['s', ['h5A', 'h6A']],\n",
        " ['H', 'g20R'],\n",
        " ['r', [0, 'g10R']],\n",
        " ['g26', [888, 'HC', 0]],\n",
        " ['g27', [121, 'h1B', 0]],\n",
        " ['g24', [658, 0, 0]],\n",
        " ['g25', [807, 0, 0]],\n",
        " ['g22', [180, 0, 0]],\n",
        " ['g23', [839, 'g16C', 'h1B']],\n",
        " ['g20', [7, 0, 'g27C']],\n",
        " ['g21', [298, 'g24R', 0]],\n",
        " ['g28', [488, 0, 'h4B']],\n",
        " ['g29', [782, 'g3C', 'g28C']],\n",
        " ['g7', [51, 0, 0]],\n",
        " ['g6', [573, 0, 0]],\n",
        " ['g5', [286, 'g3C', 'h4B']],\n",
        " ['g4', [986, 'h4A', 0]],\n",
        " ['g3', [566, 0, 'g1R']],\n",
        " ['g2', [343, 0, 0]],\n",
        " ['g1', [984, 'g4R', 'g10C']],\n",
        " ['g9', [851, 'g26R', 'g2C']],\n",
        " ['g8', [481, 0, 0]],\n",
        " ['g30', [373, 0, 'g7C']],\n",
        " ['g19', [372, 0, 0]],\n",
        " ['g18', [208, 'g5C', 0]],\n",
        " ['g17', [676, 'g8C', 'h5A']],\n",
        " ['g16', [473, 'g7C', 'g6R']],\n",
        " ['g15', [103, 'h6B', 'g18R']],\n",
        " ['g14', [345, 'g27C', 0]],\n",
        " ['g13', [215, 0, 0]],\n",
        " ['g12', [156, 0, 0]],\n",
        " ['g11', [459, 0, 0]],\n",
        " ['g10', [756, 'g26C', 0]],\n",
        " ['h2', [0, 'g21R']],\n",
        " ['h3', ['g29C', 'h7A']],\n",
        " ['h1', [0, 0]],\n",
        " ['h6', ['g15R', 0]],\n",
        " ['h7', [0, 0]],\n",
        " ['h4', ['g14R', 0]],\n",
        " ['h5', ['g10R', 0]]]"
       ]
      }
     ],
     "prompt_number": 9
    },
    {
     "cell_type": "code",
     "collapsed": false,
     "input": [
      "def get_connections(con_vals):\n",
      "    cons = []\n",
      "    for i in con_vals:\n",
      "        if i[0][0]=='h':\n",
      "            count = 0\n",
      "            for j in i[1]:\n",
      "                if j!=0 and count==0:\n",
      "                    cons.append([i[0]+'A',j])\n",
      "                if j!=0 and count!=0:\n",
      "                    cons.append([i[0]+'B',j])\n",
      "                count+=1\n",
      "        if i[0][0]=='g':\n",
      "            count = 0\n",
      "            for j in i[1]:\n",
      "                if j!=0 and count==1:\n",
      "                    cons.append([i[0]+'C',j])\n",
      "                if j!=0 and count>1:\n",
      "                    cons.append([i[0]+'R',j])\n",
      "                count+=1\n",
      "        if i[0][0]=='H':\n",
      "            cons.append([i[0]+'C',j])\n",
      "        else:\n",
      "            count = 0\n",
      "            for j in i[1]:\n",
      "                if j!=0 and count==0:\n",
      "                    cons.append([i[0]+'C',j])\n",
      "                if j!=0 and count!=0:\n",
      "                    cons.append([i[0]+'R',j])\n",
      "                count+=1\n",
      "    return cons"
     ],
     "language": "python",
     "metadata": {},
     "outputs": [],
     "prompt_number": 12
    },
    {
     "cell_type": "code",
     "collapsed": false,
     "input": [
      "con_list = get_connections(con_vals)\n",
      "#get_connections produces a list of individual connections in an organism\n",
      "print con_list"
     ],
     "language": "python",
     "metadata": {},
     "outputs": [
      {
       "output_type": "stream",
       "stream": "stdout",
       "text": [
        "[['sC', 'g29R'], ['sR', 'g11R'], ['HC', 'g11R'], ['rC', 'g23R'], ['rR', 'g8R'], ['g26C', 283], ['g27C', 'h5B'], ['g27R', 'g7C'], ['g27C', 830], ['g27R', 'h5B'], ['g27R', 'g7C'], ['g24C', 'g21R'], ['g24R', 'h2A'], ['g24C', 882], ['g24R', 'g21R'], ['g24R', 'h2A'], ['g25C', 'g19C'], ['g25R', 'h2A'], ['g25C', 340], ['g25R', 'g19C'], ['g25R', 'h2A'], ['g22C', 61], ['g23C', 516], ['g20C', 'HC'], ['g20C', 831], ['g20R', 'HC'], ['g21C', 121], ['g28C', 'g4C'], ['g28R', 'g25C'], ['g28C', 22], ['g28R', 'g4C'], ['g28R', 'g25C'], ['g29R', 'g21C'], ['g29C', 227], ['g29R', 'g21C'], ['g7C', 'g26C'], ['g7C', 140], ['g7R', 'g26C'], ['g6C', 600], ['g5C', 'g12C'], ['g5R', 'h1A'], ['g5C', 548], ['g5R', 'g12C'], ['g5R', 'h1A'], ['g4R', 'g8R'], ['g4C', 355], ['g4R', 'g8R'], ['g3C', 'g11R'], ['g3C', 703], ['g3R', 'g11R'], ['g2C', 209], ['g1R', 'h3B'], ['g1C', 860], ['g1R', 'h3B'], ['g9C', 'g11R'], ['g9C', 513], ['g9R', 'g11R'], ['g8R', 'g13C'], ['g8C', 235], ['g8R', 'g13C'], ['g30R', 'g13C'], ['g30C', 78], ['g30R', 'g13C'], ['g19C', 'g18C'], ['g19C', 486], ['g19R', 'g18C'], ['g18R', 'g13R'], ['g18C', 731], ['g18R', 'g13R'], ['g17C', 775], ['g16C', 615], ['g15R', 'g7C'], ['g15C', 300], ['g15R', 'g7C'], ['g14C', 'g12R'], ['g14R', 'h6B'], ['g14C', 876], ['g14R', 'g12R'], ['g14R', 'h6B'], ['g13C', 50], ['g12C', 399], ['g11R', 'g18R'], ['g11C', 537], ['g11R', 'g18R'], ['g10C', 'g25C'], ['g10C', 502], ['g10R', 'g25C'], ['h2A', 'g20C'], ['h2B', 'g24R'], ['h2C', 'g20C'], ['h2R', 'g24R'], ['h1A', 'h2A'], ['h1B', 'g3C'], ['h1C', 'h2A'], ['h1R', 'g3C'], ['h7B', 'g20C'], ['h7R', 'g20C'], ['h4A', 'h1B'], ['h4C', 'h1B'], ['h5A', 'sC'], ['h5C', 'sC']]\n"
       ]
      }
     ],
     "prompt_number": 13
    },
    {
     "cell_type": "raw",
     "metadata": {},
     "source": [
      "Formation of networks from individual connections begins"
     ]
    },
    {
     "cell_type": "code",
     "collapsed": false,
     "input": [
      "def merge(a,b):\n",
      "    a_set = set(a)\n",
      "    b_set = set(b)\n",
      "\n",
      "    difference = b_set-a_set\n",
      "    return a+list(difference)"
     ],
     "language": "python",
     "metadata": {},
     "outputs": [],
     "prompt_number": 14
    },
    {
     "cell_type": "code",
     "collapsed": false,
     "input": [
      "def reduce_netwrks(con_list):\n",
      "    con_dict = {}\n",
      "    for i in range(len(con_list)):\n",
      "        con_dict['netwrk{0}'.format(i)]=[con_list[i][0],con_list[i][1]]\n",
      "        for j in range(len(con_list)):\n",
      "            if con_list[i][1]==con_list[j][0]:\n",
      "                con_dict['netwrk{0}'.format(i)].append(con_list[j][1])\n",
      "    \n",
      "    red_netwrk = {}\n",
      "    count = 1\n",
      "    for i in dict.values(con_dict):\n",
      "        netwrk = i\n",
      "        for j in dict.values(con_dict):\n",
      "            if i[-1]==j[0]:\n",
      "                netwrk = merge(netwrk,j)\n",
      "        red_netwrk['netwrk{0}'.format(count)]=netwrk\n",
      "        count+=1\n",
      "        \n",
      "    return red_netwrk"
     ],
     "language": "python",
     "metadata": {},
     "outputs": [],
     "prompt_number": 15
    },
    {
     "cell_type": "code",
     "collapsed": false,
     "input": [
      "netwrks = dict.values(reduce_netwrks(con_list))\n",
      "#by merging individual connections in the connection list (con_list) into larger ones, the overall structure of the organism becomes\n",
      "#clear. each list of connection points shown below repesents one network of connections. some networks overlap with eachother producing\n",
      "#depth. however for the survival of the organism, the only functional networks must arise from a connection with the housing.\n",
      "#thus all functional networks branch outwards from the housing\n",
      "netwrks"
     ],
     "language": "python",
     "metadata": {},
     "outputs": [
      {
       "metadata": {},
       "output_type": "pyout",
       "prompt_number": 16,
       "text": [
        "[['g25C', 'g19C', 'g18C', 486],\n",
        " ['g25R', 'h2A', 'g20C', 'HC', 'g11R', 831],\n",
        " ['g28R', 'g25C', 'g19C', 340],\n",
        " ['h5C', 'sC', 'g29R', 121, 'g21C'],\n",
        " ['g24R', 'h2A', 'g20C', 'HC', 'g11R', 831],\n",
        " ['g24C', 882],\n",
        " ['g24R', 'g21R'],\n",
        " ['g24R', 'h2A', 'g20C', 'HC', 'g11R', 831],\n",
        " ['g27R', 'g7C', 'g26C', 140],\n",
        " ['g24C', 'g21R'],\n",
        " ['g9C', 513],\n",
        " ['g8C', 235],\n",
        " ['g1R', 'h3B'],\n",
        " ['g9R', 'g11R', 'g18R', 'g18R', 'g13R'],\n",
        " ['g8R', 'g13C', 50],\n",
        " ['g9C', 'g11R', 'g18R', 'g18R', 'g13R'],\n",
        " ['g1C', 860],\n",
        " ['g1R', 'h3B'],\n",
        " ['g2C', 209],\n",
        " ['g28C', 'g4C', 355],\n",
        " ['g25R', 'h2A', 'g20C', 'HC', 'g11R', 831],\n",
        " ['g20R', 'HC', 'g11R', 'g18R', 'g13R'],\n",
        " ['g21C', 121],\n",
        " ['g20C', 'HC', 'g11R', 'g18R', 'g13R'],\n",
        " ['g5C', 'g12C', 399],\n",
        " ['g22C', 61],\n",
        " ['g23C', 516],\n",
        " ['g28C', 22],\n",
        " ['g20C', 831],\n",
        " ['g3C', 703],\n",
        " ['g28R', 'g4C', 355],\n",
        " ['g28R', 'g25C', 'g19C', 340],\n",
        " ['g29R', 'g21C', 121],\n",
        " ['g29C', 227],\n",
        " ['g29R', 'g21C', 121],\n",
        " ['g7C', 'g26C', 283],\n",
        " ['g7C', 140],\n",
        " ['g7R', 'g26C', 283],\n",
        " ['g6C', 600],\n",
        " ['g3C', 'g11R', 'g18R', 'g18R', 'g13R'],\n",
        " ['g4R', 'g8R', 'g13C', 'g13C', 50],\n",
        " ['g4C', 355],\n",
        " ['rC', 'g23R'],\n",
        " ['g5R', 'h1A', 'h2A', 'g20C', 'HC', 831],\n",
        " ['g5R', 'h1A', 'h2A', 'g20C', 'HC', 831],\n",
        " ['g5C', 548],\n",
        " ['g4R', 'g8R', 'g13C', 'g13C', 50],\n",
        " ['g3R', 'g11R', 'g18R', 'g18R', 'g13R'],\n",
        " ['g5R', 'g12C', 399],\n",
        " ['g30R', 'g13C', 50],\n",
        " ['g30C', 78],\n",
        " ['g27R', 'g7C', 'g26C', 140],\n",
        " ['sC', 'g29R', 'g21C', 'g21C', 121],\n",
        " ['g26C', 283],\n",
        " ['g27C', 'h5B'],\n",
        " ['g27R', 'h5B'],\n",
        " ['rR', 'g8R', 'g13C', 'g13C', 50],\n",
        " ['g8R', 'g13C', 50],\n",
        " ['g27C', 830],\n",
        " ['sR', 'g11R', 'g18R', 'g18R', 'g13R'],\n",
        " ['HC', 'g11R', 'g18R', 'g18R', 'g13R'],\n",
        " ['g19C', 'g18C', 731],\n",
        " ['g30R', 'g13C', 50],\n",
        " ['g19R', 'g18C', 731],\n",
        " ['g19C', 486],\n",
        " ['g18C', 731],\n",
        " ['g18R', 'g13R'],\n",
        " ['g17C', 775],\n",
        " ['g18R', 'g13R'],\n",
        " ['g15C', 300],\n",
        " ['g15R', 'g7C', 'g26C', 140],\n",
        " ['h2B', 'g24R', 'h2A', 'g21R', 'h2A', 'g20C', 'HC', 831],\n",
        " ['h2C', 'g20C', 'HC', 831],\n",
        " ['g13C', 50],\n",
        " ['g14R', 'h6B'],\n",
        " ['g14R', 'h6B'],\n",
        " ['g14C', 'g12R'],\n",
        " ['g14R', 'g12R'],\n",
        " ['g14C', 876],\n",
        " ['g15R', 'g7C', 'g26C', 140],\n",
        " ['g16C', 615],\n",
        " ['h2A', 'g20C', 'HC', 831],\n",
        " ['g10R', 'g25C', 'g19C', 340],\n",
        " ['g11R', 'g18R', 'g13R', 'g13R'],\n",
        " ['g11C', 537],\n",
        " ['g10C', 502],\n",
        " ['g10C', 'g25C', 'g19C', 340],\n",
        " ['h2R', 'g24R', 'h2A', 'g21R', 'h2A', 'g20C', 'HC', 831],\n",
        " ['h1A', 'h2A', 'g20C', 'HC', 'g11R', 831],\n",
        " ['g11R', 'g18R', 'g13R', 'g13R'],\n",
        " ['g12C', 399],\n",
        " ['h1C', 'h2A', 'g20C', 'HC', 'g11R', 831],\n",
        " ['h1B', 'g3C', 'g11R', 703],\n",
        " ['h7B', 'g20C', 'HC', 831],\n",
        " ['h1R', 'g3C', 'g11R', 703],\n",
        " ['h4A', 'h1B', 'g3C', 'g11R', 'g18R', 703],\n",
        " ['h7R', 'g20C', 'HC', 831],\n",
        " ['h5A', 'sC', 'g29R', 121, 'g21C'],\n",
        " ['h4C', 'h1B', 'g3C', 'g11R', 'g18R', 703],\n",
        " ['g25R', 'g19C', 'g18C', 486],\n",
        " ['g25C', 340]]"
       ]
      }
     ],
     "prompt_number": 16
    },
    {
     "cell_type": "raw",
     "metadata": {},
     "source": [
      "This is where I'm stuck. I have a series of smaller networks (shown above), most of which are related and could be put together into a larger more complex structures. however, i'm not entirely sure how to do that. my intuition is to use a dictionary since the format seems ideal, but iterating through the dictionary, adding to it as i go has been a problem. coming up with a static solution isn't viable since each organism has a different structure and thus the networks branching from the housing will cut off at different depths.\n",
      "\n",
      "All the work so far has been done on a single organism. later i intend to collect this work into functions that i can call on when i begin to implament organism reporuction characteristics and selection methods so i can see how the population changes from one generation to the next."
     ]
    },
    {
     "cell_type": "code",
     "collapsed": false,
     "input": [
      "netwrk_dict = {'HC':{}}\n",
      "netwrk_len = range(0,len(netwrks))\n",
      "for i in netwrks:\n",
      "    for j in i:\n",
      "        if j=='HC':\n",
      "            netwrk_len.remove(netwrks.index(i))\n",
      "            for k in i:\n",
      "                if k!='HC':\n",
      "                    netwrk_dict['HC'][k]={}\n",
      "print netwrk_dict"
     ],
     "language": "python",
     "metadata": {},
     "outputs": [
      {
       "ename": "ValueError",
       "evalue": "list.remove(x): x not in list",
       "output_type": "pyerr",
       "traceback": [
        "\u001b[0;31m---------------------------------------------------------------------------\u001b[0m\n\u001b[0;31mValueError\u001b[0m                                Traceback (most recent call last)",
        "\u001b[0;32m<ipython-input-17-87ae89b5ed58>\u001b[0m in \u001b[0;36m<module>\u001b[0;34m()\u001b[0m\n\u001b[1;32m      4\u001b[0m     \u001b[0;32mfor\u001b[0m \u001b[0mj\u001b[0m \u001b[0;32min\u001b[0m \u001b[0mi\u001b[0m\u001b[0;34m:\u001b[0m\u001b[0;34m\u001b[0m\u001b[0m\n\u001b[1;32m      5\u001b[0m         \u001b[0;32mif\u001b[0m \u001b[0mj\u001b[0m\u001b[0;34m==\u001b[0m\u001b[0;34m'HC'\u001b[0m\u001b[0;34m:\u001b[0m\u001b[0;34m\u001b[0m\u001b[0m\n\u001b[0;32m----> 6\u001b[0;31m             \u001b[0mnetwrk_len\u001b[0m\u001b[0;34m.\u001b[0m\u001b[0mremove\u001b[0m\u001b[0;34m(\u001b[0m\u001b[0mnetwrks\u001b[0m\u001b[0;34m.\u001b[0m\u001b[0mindex\u001b[0m\u001b[0;34m(\u001b[0m\u001b[0mi\u001b[0m\u001b[0;34m)\u001b[0m\u001b[0;34m)\u001b[0m\u001b[0;34m\u001b[0m\u001b[0m\n\u001b[0m\u001b[1;32m      7\u001b[0m             \u001b[0;32mfor\u001b[0m \u001b[0mk\u001b[0m \u001b[0;32min\u001b[0m \u001b[0mi\u001b[0m\u001b[0;34m:\u001b[0m\u001b[0;34m\u001b[0m\u001b[0m\n\u001b[1;32m      8\u001b[0m                 \u001b[0;32mif\u001b[0m \u001b[0mk\u001b[0m\u001b[0;34m!=\u001b[0m\u001b[0;34m'HC'\u001b[0m\u001b[0;34m:\u001b[0m\u001b[0;34m\u001b[0m\u001b[0m\n",
        "\u001b[0;31mValueError\u001b[0m: list.remove(x): x not in list"
       ]
      }
     ],
     "prompt_number": 17
    },
    {
     "cell_type": "code",
     "collapsed": false,
     "input": [
      "import collections as c\n",
      "def nested_dict_iter(nested):\n",
      "    for key, value in nested.iteritems():\n",
      "        if isinstance(value, collections.Mapping):\n",
      "            for inner_key, inner_value in nested_dict_iter(value):\n",
      "                yield inner_key, inner_value\n",
      "        else:\n",
      "            yield key, value"
     ],
     "language": "python",
     "metadata": {},
     "outputs": [],
     "prompt_number": 18
    },
    {
     "cell_type": "code",
     "collapsed": false,
     "input": [
      "list(nested_dict_iter({'a':{'d':1},'b':{'e':2}}))"
     ],
     "language": "python",
     "metadata": {},
     "outputs": [
      {
       "ename": "NameError",
       "evalue": "global name 'collections' is not defined",
       "output_type": "pyerr",
       "traceback": [
        "\u001b[0;31m---------------------------------------------------------------------------\u001b[0m\n\u001b[0;31mNameError\u001b[0m                                 Traceback (most recent call last)",
        "\u001b[0;32m<ipython-input-19-7a0d621e88fa>\u001b[0m in \u001b[0;36m<module>\u001b[0;34m()\u001b[0m\n\u001b[0;32m----> 1\u001b[0;31m \u001b[0mlist\u001b[0m\u001b[0;34m(\u001b[0m\u001b[0mnested_dict_iter\u001b[0m\u001b[0;34m(\u001b[0m\u001b[0;34m{\u001b[0m\u001b[0;34m'a'\u001b[0m\u001b[0;34m:\u001b[0m\u001b[0;34m{\u001b[0m\u001b[0;34m'd'\u001b[0m\u001b[0;34m:\u001b[0m\u001b[0;36m1\u001b[0m\u001b[0;34m}\u001b[0m\u001b[0;34m,\u001b[0m\u001b[0;34m'b'\u001b[0m\u001b[0;34m:\u001b[0m\u001b[0;34m{\u001b[0m\u001b[0;34m'e'\u001b[0m\u001b[0;34m:\u001b[0m\u001b[0;36m2\u001b[0m\u001b[0;34m}\u001b[0m\u001b[0;34m}\u001b[0m\u001b[0;34m)\u001b[0m\u001b[0;34m)\u001b[0m\u001b[0;34m\u001b[0m\u001b[0m\n\u001b[0m",
        "\u001b[0;32m<ipython-input-18-0ed53e119f0d>\u001b[0m in \u001b[0;36mnested_dict_iter\u001b[0;34m(nested)\u001b[0m\n\u001b[1;32m      2\u001b[0m \u001b[0;32mdef\u001b[0m \u001b[0mnested_dict_iter\u001b[0m\u001b[0;34m(\u001b[0m\u001b[0mnested\u001b[0m\u001b[0;34m)\u001b[0m\u001b[0;34m:\u001b[0m\u001b[0;34m\u001b[0m\u001b[0m\n\u001b[1;32m      3\u001b[0m     \u001b[0;32mfor\u001b[0m \u001b[0mkey\u001b[0m\u001b[0;34m,\u001b[0m \u001b[0mvalue\u001b[0m \u001b[0;32min\u001b[0m \u001b[0mnested\u001b[0m\u001b[0;34m.\u001b[0m\u001b[0miteritems\u001b[0m\u001b[0;34m(\u001b[0m\u001b[0;34m)\u001b[0m\u001b[0;34m:\u001b[0m\u001b[0;34m\u001b[0m\u001b[0m\n\u001b[0;32m----> 4\u001b[0;31m         \u001b[0;32mif\u001b[0m \u001b[0misinstance\u001b[0m\u001b[0;34m(\u001b[0m\u001b[0mvalue\u001b[0m\u001b[0;34m,\u001b[0m \u001b[0mcollections\u001b[0m\u001b[0;34m.\u001b[0m\u001b[0mMapping\u001b[0m\u001b[0;34m)\u001b[0m\u001b[0;34m:\u001b[0m\u001b[0;34m\u001b[0m\u001b[0m\n\u001b[0m\u001b[1;32m      5\u001b[0m             \u001b[0;32mfor\u001b[0m \u001b[0minner_key\u001b[0m\u001b[0;34m,\u001b[0m \u001b[0minner_value\u001b[0m \u001b[0;32min\u001b[0m \u001b[0mnested_dict_iter\u001b[0m\u001b[0;34m(\u001b[0m\u001b[0mvalue\u001b[0m\u001b[0;34m)\u001b[0m\u001b[0;34m:\u001b[0m\u001b[0;34m\u001b[0m\u001b[0m\n\u001b[1;32m      6\u001b[0m                 \u001b[0;32myield\u001b[0m \u001b[0minner_key\u001b[0m\u001b[0;34m,\u001b[0m \u001b[0minner_value\u001b[0m\u001b[0;34m\u001b[0m\u001b[0m\n",
        "\u001b[0;31mNameError\u001b[0m: global name 'collections' is not defined"
       ]
      }
     ],
     "prompt_number": 19
    },
    {
     "cell_type": "code",
     "collapsed": false,
     "input": [
      "print sort(['b','a'])"
     ],
     "language": "python",
     "metadata": {},
     "outputs": [
      {
       "ename": "NameError",
       "evalue": "name 'sort' is not defined",
       "output_type": "pyerr",
       "traceback": [
        "\u001b[0;31m---------------------------------------------------------------------------\u001b[0m\n\u001b[0;31mNameError\u001b[0m                                 Traceback (most recent call last)",
        "\u001b[0;32m<ipython-input-20-c8ec780e4c50>\u001b[0m in \u001b[0;36m<module>\u001b[0;34m()\u001b[0m\n\u001b[0;32m----> 1\u001b[0;31m \u001b[0;32mprint\u001b[0m \u001b[0msort\u001b[0m\u001b[0;34m(\u001b[0m\u001b[0;34m[\u001b[0m\u001b[0;34m'b'\u001b[0m\u001b[0;34m,\u001b[0m\u001b[0;34m'a'\u001b[0m\u001b[0;34m]\u001b[0m\u001b[0;34m)\u001b[0m\u001b[0;34m\u001b[0m\u001b[0m\n\u001b[0m",
        "\u001b[0;31mNameError\u001b[0m: name 'sort' is not defined"
       ]
      }
     ],
     "prompt_number": 20
    },
    {
     "cell_type": "code",
     "collapsed": false,
     "input": [
      "import collections as c\n",
      "s = [('a','b'),('a','c'),('d','b'),('b','e'),('c','f'),('c','g')]\n",
      "d = c.defaultdict(list)\n",
      "for k, v in s:\n",
      "    d[k].append(v)\n",
      "\n",
      "print d"
     ],
     "language": "python",
     "metadata": {},
     "outputs": [
      {
       "output_type": "stream",
       "stream": "stdout",
       "text": [
        "defaultdict(<type 'list'>, {'a': ['b', 'c'], 'c': ['f', 'g'], 'b': ['e'], 'd': ['b']})\n"
       ]
      }
     ],
     "prompt_number": 21
    },
    {
     "cell_type": "code",
     "collapsed": false,
     "input": [
      "def traverse(dic, path=None):\n",
      "    if not path:\n",
      "        path = []\n",
      "    for i in dic:\n",
      "        local_path = path[:].append(i)\n",
      "        if i['type'] == 'folder':\n",
      "            for j in traverse(i['children'], local_path):\n",
      "                yield j, local_path\n",
      "        elif i['type'] == 'url':\n",
      "            yield i, local_path"
     ],
     "language": "python",
     "metadata": {},
     "outputs": [],
     "prompt_number": 22
    },
    {
     "cell_type": "code",
     "collapsed": false,
     "input": [
      "a = {'a':{'d':1},'b':{'e':2}}\n",
      "traverse(a)"
     ],
     "language": "python",
     "metadata": {},
     "outputs": [
      {
       "metadata": {},
       "output_type": "pyout",
       "prompt_number": 23,
       "text": [
        "<generator object traverse at 0x10671f5f0>"
       ]
      }
     ],
     "prompt_number": 23
    },
    {
     "cell_type": "code",
     "collapsed": false,
     "input": [
      "import networkx as nx"
     ],
     "language": "python",
     "metadata": {},
     "outputs": [],
     "prompt_number": 24
    },
    {
     "cell_type": "code",
     "collapsed": false,
     "input": [
      "G=nx.Graph()\n",
      "list_=[['1','2'],['2','1'],['2','3'],['2','5'],['5','6'],['6','1'],['2','7'],['6','3'],['10','1']]\n",
      "for i in list_:\n",
      "    G.add_edge(i[0],i[1])\n",
      "\n",
      "\n",
      "pos=nx.spring_layout(G)\n",
      "figsize(10,10)\n",
      "nx.draw_networkx_nodes(G,pos,node_size=15)\n",
      "print \n",
      "nx.draw_networkx_edges(G,pos)\n",
      "\n",
      "\n",
      "\n",
      "nx.draw_networkx_labels(G,pos,font_size=10,font_family='sans-serif')\n",
      "\n",
      "show()"
     ],
     "language": "python",
     "metadata": {},
     "outputs": [
      {
       "ename": "NameError",
       "evalue": "name 'figsize' is not defined",
       "output_type": "pyerr",
       "traceback": [
        "\u001b[0;31m---------------------------------------------------------------------------\u001b[0m\n\u001b[0;31mNameError\u001b[0m                                 Traceback (most recent call last)",
        "\u001b[0;32m<ipython-input-25-ed3691b1731f>\u001b[0m in \u001b[0;36m<module>\u001b[0;34m()\u001b[0m\n\u001b[1;32m      6\u001b[0m \u001b[0;34m\u001b[0m\u001b[0m\n\u001b[1;32m      7\u001b[0m \u001b[0mpos\u001b[0m\u001b[0;34m=\u001b[0m\u001b[0mnx\u001b[0m\u001b[0;34m.\u001b[0m\u001b[0mspring_layout\u001b[0m\u001b[0;34m(\u001b[0m\u001b[0mG\u001b[0m\u001b[0;34m)\u001b[0m\u001b[0;34m\u001b[0m\u001b[0m\n\u001b[0;32m----> 8\u001b[0;31m \u001b[0mfigsize\u001b[0m\u001b[0;34m(\u001b[0m\u001b[0;36m10\u001b[0m\u001b[0;34m,\u001b[0m\u001b[0;36m10\u001b[0m\u001b[0;34m)\u001b[0m\u001b[0;34m\u001b[0m\u001b[0m\n\u001b[0m\u001b[1;32m      9\u001b[0m \u001b[0mnx\u001b[0m\u001b[0;34m.\u001b[0m\u001b[0mdraw_networkx_nodes\u001b[0m\u001b[0;34m(\u001b[0m\u001b[0mG\u001b[0m\u001b[0;34m,\u001b[0m\u001b[0mpos\u001b[0m\u001b[0;34m,\u001b[0m\u001b[0mnode_size\u001b[0m\u001b[0;34m=\u001b[0m\u001b[0;36m15\u001b[0m\u001b[0;34m)\u001b[0m\u001b[0;34m\u001b[0m\u001b[0m\n\u001b[1;32m     10\u001b[0m \u001b[0;32mprint\u001b[0m\u001b[0;34m\u001b[0m\u001b[0m\n",
        "\u001b[0;31mNameError\u001b[0m: name 'figsize' is not defined"
       ]
      }
     ],
     "prompt_number": 25
    },
    {
     "cell_type": "code",
     "collapsed": false,
     "input": [
      "import random as rand"
     ],
     "language": "python",
     "metadata": {},
     "outputs": []
    },
    {
     "cell_type": "code",
     "collapsed": false,
     "input": [
      "rand.r"
     ],
     "language": "python",
     "metadata": {},
     "outputs": []
    },
    {
     "cell_type": "code",
     "collapsed": false,
     "input": [
      "scatter(1,2)"
     ],
     "language": "python",
     "metadata": {},
     "outputs": [
      {
       "metadata": {},
       "output_type": "pyout",
       "prompt_number": 11,
       "text": [
        "<matplotlib.collections.PathCollection at 0x10d7a1a50>"
       ]
      },
      {
       "metadata": {},
       "output_type": "display_data",
       "png": "[encoded data removed]",
       "text": [
        "<matplotlib.figure.Figure at 0x10d768190>"
       ]
      }
     ],
     "prompt_number": 11
    },
    {
     "cell_type": "code",
     "collapsed": false,
     "input": [],
     "language": "python",
     "metadata": {},
     "outputs": []
    }
   ],
   "metadata": {}
  }
 ]
}