{
 "metadata": {
  "name": ""
 },
 "nbformat": 3,
 "nbformat_minor": 0,
 "worksheets": [
  {
   "cells": [
    {
     "cell_type": "markdown",
     "metadata": {},
     "source": [
      "This project is based on the common strawman argument from creationists which upholds the view that evolution is akin to taking apart a clock (a complex and intricate object), throwing it in a box, and shaking the box for millions of years expecting a clock to emerge at the end. this is clearly a false analogy when you consider that clocks are not living organisms subject to the pressures of natural selection where the parts themselves have an affinity for each other. this program here seeks to demonstrate how a clock could form if it were subject to the same pressures which are put on organisms in the natural world. In terms of generating structures this is probably most analagous to the spotanious generation of complex protien structures which have natural affinites for eachother."
     ]
    },
    {
     "cell_type": "code",
     "collapsed": false,
     "input": [
      "%matplotlib inline"
     ],
     "language": "python",
     "metadata": {},
     "outputs": [],
     "prompt_number": 2
    },
    {
     "cell_type": "raw",
     "metadata": {},
     "source": [
      "define key characteristics of the clock or \"organism\" (i.e. how many gears, how many ratchet, and how each part can connect to other parts)"
     ]
    },
    {
     "cell_type": "code",
     "collapsed": false,
     "input": [
      "orgs = {}\n",
      "parts = ['gears','ratchet','hands','spring','housing'] #list of parts in each \"organism\"\n",
      "\n",
      "subparts = []\n",
      "num_g = 30 #30 gears\n",
      "num_h = 7 #7 hands\n",
      "\n",
      "for k in range(1,num_g+1):\n",
      "    subparts.append('g{0}'.format(k))\n",
      "subparts.append('r')\n",
      "for k1 in range(1,num_h+1):\n",
      "    subparts.append('h{0}'.format(k1))\n",
      "subparts.append('s')\n",
      "subparts.append('H')\n",
      "\n",
      "print subparts #30 gears, 1 ratchet, 7 hands, 1 spring, and 1 housing. each individual part is called a subpart.\n",
      "               #so a part would be a gear while a subpart would be gear number 'n' denoted below as 'gn'."
     ],
     "language": "python",
     "metadata": {},
     "outputs": [
      {
       "output_type": "stream",
       "stream": "stdout",
       "text": [
        "['g1', 'g2', 'g3', 'g4', 'g5', 'g6', 'g7', 'g8', 'g9', 'g10', 'g11', 'g12', 'g13', 'g14', 'g15', 'g16', 'g17', 'g18', 'g19', 'g20', 'g21', 'g22', 'g23', 'g24', 'g25', 'g26', 'g27', 'g28', 'g29', 'g30', 'r', 'h1', 'h2', 'h3', 'h4', 'h5', 'h6', 'h7', 's', 'H']\n"
       ]
      }
     ],
     "prompt_number": 3
    },
    {
     "cell_type": "code",
     "collapsed": false,
     "input": [
      "pos_cons = []\n",
      "for k in range(1,num_g+1):\n",
      "    pos_cons.append('g{0}C'.format(k))\n",
      "    pos_cons.append('g{0}R'.format(k))\n",
      "pos_cons.append('rC')\n",
      "pos_cons.append('rR')\n",
      "for k1 in range(1,num_h+1):\n",
      "    pos_cons.append('h{0}A'.format(k1))\n",
      "    pos_cons.append('h{0}B'.format(k1))\n",
      "pos_cons.append('sC')\n",
      "pos_cons.append('sR')\n",
      "pos_cons.append('HC')\n",
      "\n",
      "part_cons = []\n",
      "for k in range(1,num_g+1):\n",
      "    part_cons.append(['g{0}C'.format(k),'g{0}R'.format(k)])\n",
      "part_cons.append(['rC','rR'])\n",
      "for k1 in range(1,num_h+1):\n",
      "    part_cons.append(['h{0}A'.format(k1),'h{0}B'.format(k1)])\n",
      "part_cons.append(['sC','sR'])\n",
      "\n",
      "print pos_cons\n",
      "print\n",
      "print part_cons\n",
      "\n",
      "#working with the properties that each part has, pos_cons, a list of all possible connection points, is created.\n",
      "#each gear can connect to it's center or it's rim (C or R) they can be connected at more than one place on the rim.\n",
      "#the ratchet can connect to it's center mounting point or the actual ratcheting device (C or R)\n",
      "#the hands of the clock can be attached at either of their ends (A or B)\n",
      "#the spring can connect to it's center or it's rim (C or R)\n",
      "#the housing can only be connected at one point. any functional clock must be attched to the housing first."
     ],
     "language": "python",
     "metadata": {},
     "outputs": [
      {
       "output_type": "stream",
       "stream": "stdout",
       "text": [
        "['g1C', 'g1R', 'g2C', 'g2R', 'g3C', 'g3R', 'g4C', 'g4R', 'g5C', 'g5R', 'g6C', 'g6R', 'g7C', 'g7R', 'g8C', 'g8R', 'g9C', 'g9R', 'g10C', 'g10R', 'g11C', 'g11R', 'g12C', 'g12R', 'g13C', 'g13R', 'g14C', 'g14R', 'g15C', 'g15R', 'g16C', 'g16R', 'g17C', 'g17R', 'g18C', 'g18R', 'g19C', 'g19R', 'g20C', 'g20R', 'g21C', 'g21R', 'g22C', 'g22R', 'g23C', 'g23R', 'g24C', 'g24R', 'g25C', 'g25R', 'g26C', 'g26R', 'g27C', 'g27R', 'g28C', 'g28R', 'g29C', 'g29R', 'g30C', 'g30R', 'rC', 'rR', 'h1A', 'h1B', 'h2A', 'h2B', 'h3A', 'h3B', 'h4A', 'h4B', 'h5A', 'h5B', 'h6A', 'h6B', 'h7A', 'h7B', 'sC', 'sR', 'HC']\n",
        "\n",
        "[['g1C', 'g1R'], ['g2C', 'g2R'], ['g3C', 'g3R'], ['g4C', 'g4R'], ['g5C', 'g5R'], ['g6C', 'g6R'], ['g7C', 'g7R'], ['g8C', 'g8R'], ['g9C', 'g9R'], ['g10C', 'g10R'], ['g11C', 'g11R'], ['g12C', 'g12R'], ['g13C', 'g13R'], ['g14C', 'g14R'], ['g15C', 'g15R'], ['g16C', 'g16R'], ['g17C', 'g17R'], ['g18C', 'g18R'], ['g19C', 'g19R'], ['g20C', 'g20R'], ['g21C', 'g21R'], ['g22C', 'g22R'], ['g23C', 'g23R'], ['g24C', 'g24R'], ['g25C', 'g25R'], ['g26C', 'g26R'], ['g27C', 'g27R'], ['g28C', 'g28R'], ['g29C', 'g29R'], ['g30C', 'g30R'], ['rC', 'rR'], ['h1A', 'h1B'], ['h2A', 'h2B'], ['h3A', 'h3B'], ['h4A', 'h4B'], ['h5A', 'h5B'], ['h6A', 'h6B'], ['h7A', 'h7B'], ['sC', 'sR']]\n"
       ]
      }
     ],
     "prompt_number": 4
    },
    {
     "cell_type": "raw",
     "metadata": {},
     "source": [
      "initilize the population with organisms and random organism characteristics\n",
      "\n",
      "the features which characterize an organism include what pieces are connected and which are not. lists of individual connections will be created and then combined to show the evolving networks. networks of connections which are better suited to performing as a functional clock are selected for through a process that will be detailed later."
     ]
    },
    {
     "cell_type": "code",
     "collapsed": false,
     "input": [
      "from random import random as rand\n",
      "from random import randint\n",
      "num_O = 10 #number of organisms in the population\n",
      "for org in range(1,num_O+1): #make organisms\n",
      "    orgs['O{0}'.format(org)]={}\n",
      "    for part in parts: #iterate through the list of parts\n",
      "        orgs['O{0}'.format(org)][part]={}\n",
      "        if part=='gears': #creating gears\n",
      "            for g in range(1,num_g+1): #create individual connections for each gear. this iterates through subparts.\n",
      "                orgs['O{0}'.format(org)][part]['g{0}'.format(g)]=[0,0,0]\n",
      "                for init in range(1,3): #two possible connections to iterate through initially\n",
      "                    if rand()<0.4: #probability that the gear will be connected\n",
      "                        con = pos_cons[randint(1,len(pos_cons)-1)] #generate random connection from pos_cons list\n",
      "                        if con[:-1]!='g{0}'.format(g): #if it is not connected to itself ascribe the connection to the gear\n",
      "                            orgs['O{0}'.format(org)][part]['g{0}'.format(g)][init] = con\n",
      "                orgs['O{0}'.format(org)][part]['g{0}'.format(g)][0]=(randint(4,1000)) #generate random number of teeth on each gear\n",
      "        if part=='ratchet': #creating ratchet\n",
      "            orgs['O{0}'.format(org)][part]['r']=[0,0] #ratchet has no subparts since there is only one\n",
      "            for init in range(2):\n",
      "                if rand()<0.4: \n",
      "                    con = pos_cons[randint(1,len(pos_cons)-1)]\n",
      "                    if con[:-1]!='r': \n",
      "                         orgs['O{0}'.format(org)][part]['r'][init] = con\n",
      "        if part=='hands': #creating clock hands\n",
      "            for h in range(1,num_h+1):\n",
      "                orgs['O{0}'.format(org)][part]['h{0}'.format(h)]=[0,0]\n",
      "                for init in range(2):\n",
      "                    if rand()<0.4:\n",
      "                        con = pos_cons[randint(1,len(pos_cons)-1)]\n",
      "                        if con[:-1]!='h{0}'.format(h):\n",
      "                            orgs['O{0}'.format(org)][part]['h{0}'.format(h)][init] = con\n",
      "        if part=='spring': #creating spring\n",
      "            orgs['O{0}'.format(org)][part]['s']=[0,0] #spring has no subparts since there is only one\n",
      "            for init in range(2):\n",
      "                if rand()<0.7:\n",
      "                    con = pos_cons[randint(1,len(pos_cons)-1)]\n",
      "                    if con[:-1]!='s':\n",
      "                        orgs['O{0}'.format(org)][part]['s'][init] = con\n",
      "        if part=='housing': #creating housing\n",
      "            orgs['O{0}'.format(org)][part]['H']=[0] #housing has no subparts since there is only one with a single connection point\n",
      "            if rand()<0.6:\n",
      "                 con = pos_cons[randint(1,len(pos_cons)-1)]\n",
      "                 if con[:-1]!='H':\n",
      "                    orgs['O{0}'.format(org)][part]['H'] = con"
     ],
     "language": "python",
     "metadata": {},
     "outputs": [],
     "prompt_number": 5
    },
    {
     "cell_type": "raw",
     "metadata": {},
     "source": [
      "all the following work is conducted on a single organism and will later be made into functions that can be called on later once i need to implament generational changes and competition between organisms."
     ]
    },
    {
     "cell_type": "code",
     "collapsed": false,
     "input": [
      "#get_con_vals is the only function used in this section.\n",
      "def isolate(num_O):\n",
      "    iso = []\n",
      "    for i in range(3):\n",
      "        iso.append(randint(1,num_O+1))\n",
      "    return iso\n",
      "\n",
      "def is_number(s):\n",
      "    try:\n",
      "        float(s)\n",
      "        return True\n",
      "    except ValueError:\n",
      "        return False\n",
      "\n",
      "def get_num(part):\n",
      "    part_num = part[1:len(part)]\n",
      "    if is_number(part_num)==True:\n",
      "        return int(part_num)\n",
      "    else:\n",
      "        return part\n",
      "    \n",
      "def get_con_vals(orgs,O_num,):\n",
      "    list = []\n",
      "    for part in dict.keys(orgs[O_num]):\n",
      "        for subpart in orgs[O_num][part]:\n",
      "            list.append([subpart,orgs[O_num][part][subpart]])\n",
      "    return list\n",
      "\n",
      "def no_digits(s):\n",
      "    string = []\n",
      "    for i in s:\n",
      "        if not i.isdigit():\n",
      "            string.append(i)\n",
      "    return ''.join(string)"
     ],
     "language": "python",
     "metadata": {},
     "outputs": [],
     "prompt_number": 6
    },
    {
     "cell_type": "code",
     "collapsed": false,
     "input": [
      "con_vals = get_con_vals(orgs,'O1')\n",
      "#gather connection values from within the nested dictionary 'orgs'. here if the value is 0, then the part is not connected\n",
      "#at that point. the index of each value is significant; in gears (g) index 0 is the number of teeth on the gears\n",
      "#while index 1 and index 2 show where the center and rim are connected to respectively. these indexes are used later to create\n",
      "#a list of individual connections\n",
      "con_vals"
     ],
     "language": "python",
     "metadata": {},
     "outputs": [
      {
       "metadata": {},
       "output_type": "pyout",
       "prompt_number": 7,
       "text": [
        "[['s', ['h3B', 'g30C']],\n",
        " ['H', 'g8C'],\n",
        " ['r', [0, 0]],\n",
        " ['g26', [15, 0, 0]],\n",
        " ['g27', [428, 'g7C', 0]],\n",
        " ['g24', [122, 0, 0]],\n",
        " ['g25', [92, 'g28C', 0]],\n",
        " ['g22', [198, 'g24R', 0]],\n",
        " ['g23', [320, 0, 0]],\n",
        " ['g20', [176, 0, 'g17R']],\n",
        " ['g21', [539, 'g18R', 0]],\n",
        " ['g28', [346, 'g29C', 0]],\n",
        " ['g29', [144, 0, 0]],\n",
        " ['g7', [863, 0, 'g22R']],\n",
        " ['g6', [219, 0, 0]],\n",
        " ['g5', [801, 0, 0]],\n",
        " ['g4', [280, 0, 'g29C']],\n",
        " ['g3', [551, 'g30C', 0]],\n",
        " ['g2', [158, 0, 0]],\n",
        " ['g1', [313, 0, 0]],\n",
        " ['g9', [251, 'h7B', 0]],\n",
        " ['g8', [208, 0, 0]],\n",
        " ['g30', [415, 'g1R', 0]],\n",
        " ['g19', [484, 'g13R', 'g28R']],\n",
        " ['g18', [530, 'g13C', 0]],\n",
        " ['g17', [334, 'g9R', 0]],\n",
        " ['g16', [572, 0, 0]],\n",
        " ['g15', [108, 0, 'g8R']],\n",
        " ['g14', [675, 'sC', 0]],\n",
        " ['g13', [392, 0, 0]],\n",
        " ['g12', [281, 'g18C', 0]],\n",
        " ['g11', [955, 0, 0]],\n",
        " ['g10', [936, 'h1A', 'g25R']],\n",
        " ['h2', ['g20C', 'g22R']],\n",
        " ['h3', ['h6A', 0]],\n",
        " ['h1', [0, 'g14R']],\n",
        " ['h6', ['g24C', 0]],\n",
        " ['h7', [0, 0]],\n",
        " ['h4', [0, 0]],\n",
        " ['h5', [0, 0]]]"
       ]
      }
     ],
     "prompt_number": 7
    },
    {
     "cell_type": "code",
     "collapsed": false,
     "input": [
      "def get_connections(con_vals):\n",
      "    cons = []\n",
      "    for i in part_cons:\n",
      "        cons.append(i)\n",
      "    for i in con_vals:\n",
      "        if i[0][0]=='h':\n",
      "            count = 0\n",
      "            for j in i[1]:\n",
      "                if j!=0 and count==0:\n",
      "                    cons.append([i[0]+'A',j])\n",
      "                if j!=0 and count!=0:\n",
      "                    cons.append([i[0]+'B',j])\n",
      "                count+=1\n",
      "        if i[0][0]=='g':\n",
      "            count = 0\n",
      "            for j in i[1][1:2]:\n",
      "                if j!=0 and count==1:\n",
      "                    cons.append([i[0]+'C',j])\n",
      "                if j!=0 and count>1:\n",
      "                    cons.append([i[0]+'R',j])\n",
      "                count+=1\n",
      "        if i[0][0]=='H':\n",
      "            if j!=0:\n",
      "                cons.append([i[0]+'C',j])\n",
      "        if i[0][0]=='r' or i[0][0]=='s':\n",
      "            count = 0\n",
      "            for j in i[1]:\n",
      "                if j!=0 and count==0:\n",
      "                    cons.append([i[0]+'C',j])\n",
      "                if j!=0 and count!=0:\n",
      "                    cons.append([i[0]+'R',j])\n",
      "                count+=1\n",
      "    return cons"
     ],
     "language": "python",
     "metadata": {},
     "outputs": [],
     "prompt_number": 8
    },
    {
     "cell_type": "code",
     "collapsed": false,
     "input": [
      "con_list = get_connections(con_vals)\n",
      "#get_connections produces a list of individual connections in an organism\n",
      "print con_list"
     ],
     "language": "python",
     "metadata": {},
     "outputs": [
      {
       "output_type": "stream",
       "stream": "stdout",
       "text": [
        "[['g1C', 'g1R'], ['g2C', 'g2R'], ['g3C', 'g3R'], ['g4C', 'g4R'], ['g5C', 'g5R'], ['g6C', 'g6R'], ['g7C', 'g7R'], ['g8C', 'g8R'], ['g9C', 'g9R'], ['g10C', 'g10R'], ['g11C', 'g11R'], ['g12C', 'g12R'], ['g13C', 'g13R'], ['g14C', 'g14R'], ['g15C', 'g15R'], ['g16C', 'g16R'], ['g17C', 'g17R'], ['g18C', 'g18R'], ['g19C', 'g19R'], ['g20C', 'g20R'], ['g21C', 'g21R'], ['g22C', 'g22R'], ['g23C', 'g23R'], ['g24C', 'g24R'], ['g25C', 'g25R'], ['g26C', 'g26R'], ['g27C', 'g27R'], ['g28C', 'g28R'], ['g29C', 'g29R'], ['g30C', 'g30R'], ['rC', 'rR'], ['h1A', 'h1B'], ['h2A', 'h2B'], ['h3A', 'h3B'], ['h4A', 'h4B'], ['h5A', 'h5B'], ['h6A', 'h6B'], ['h7A', 'h7B'], ['sC', 'sR'], ['sC', 'h3B'], ['sR', 'g30C'], ['HC', 'g30C'], ['h2A', 'g20C'], ['h2B', 'g22R'], ['h3A', 'h6A'], ['h1B', 'g14R'], ['h6A', 'g24C']]\n"
       ]
      }
     ],
     "prompt_number": 9
    },
    {
     "cell_type": "raw",
     "metadata": {},
     "source": [
      "Formation of networks from individual connections begins"
     ]
    },
    {
     "cell_type": "code",
     "collapsed": false,
     "input": [
      "import networkx as nx\n",
      "import matplotlib.pylab as plt"
     ],
     "language": "python",
     "metadata": {},
     "outputs": [],
     "prompt_number": 10
    },
    {
     "cell_type": "code",
     "collapsed": false,
     "input": [],
     "language": "python",
     "metadata": {},
     "outputs": [],
     "prompt_number": 54
    },
    {
     "cell_type": "code",
     "collapsed": false,
     "input": [
      "G = nx.DiGraph()\n",
      "\n",
      "G.add_node(\"ROOT\")\n",
      "\n",
      "for i in xrange(5):\n",
      "    G.add_node(\"Child_%i\" % i)\n",
      "    G.add_node(\"Grandchild_%i\" % i)\n",
      "    G.add_node(\"Greatgrandchild_%i\" % i)\n",
      "\n",
      "    G.add_edge(\"ROOT\", \"Child_%i\" % i)\n",
      "    G.add_edge(\"Child_%i\" % i, \"Grandchild_%i\" % i)\n",
      "    G.add_edge(\"Grandchild_%i\" % i, \"Greatgrandchild_%i\" % i)\n",
      "\n",
      "# write dot file to use with graphviz\n",
      "# run \"dot -Tpng test.dot >test.png\"\n",
      "\n",
      "# same layout using matplotlib with no labels\n",
      "plt.title(\"draw_networkx\")\n",
      "pos=nx.graphviz_layout(G,prog='dot')\n",
      "nx.draw(G,pos,with_labels=False,arrows=False)\n",
      "plt.savefig('nx_test.png')"
     ],
     "language": "python",
     "metadata": {},
     "outputs": [
      {
       "ename": "ImportError",
       "evalue": "('requires pygraphviz ', 'http://networkx.lanl.gov/pygraphviz ', '(not available for Python3)')",
       "output_type": "pyerr",
       "traceback": [
        "\u001b[0;31m---------------------------------------------------------------------------\u001b[0m\n\u001b[0;31mImportError\u001b[0m                               Traceback (most recent call last)",
        "\u001b[0;32m<ipython-input-47-82b8da126226>\u001b[0m in \u001b[0;36m<module>\u001b[0;34m()\u001b[0m\n\u001b[1;32m     17\u001b[0m \u001b[0;31m# same layout using matplotlib with no labels\u001b[0m\u001b[0;34m\u001b[0m\u001b[0;34m\u001b[0m\u001b[0m\n\u001b[1;32m     18\u001b[0m \u001b[0mplt\u001b[0m\u001b[0;34m.\u001b[0m\u001b[0mtitle\u001b[0m\u001b[0;34m(\u001b[0m\u001b[0;34m\"draw_networkx\"\u001b[0m\u001b[0;34m)\u001b[0m\u001b[0;34m\u001b[0m\u001b[0m\n\u001b[0;32m---> 19\u001b[0;31m \u001b[0mpos\u001b[0m\u001b[0;34m=\u001b[0m\u001b[0mnx\u001b[0m\u001b[0;34m.\u001b[0m\u001b[0mgraphviz_layout\u001b[0m\u001b[0;34m(\u001b[0m\u001b[0mG\u001b[0m\u001b[0;34m)\u001b[0m\u001b[0;34m\u001b[0m\u001b[0m\n\u001b[0m\u001b[1;32m     20\u001b[0m \u001b[0mnx\u001b[0m\u001b[0;34m.\u001b[0m\u001b[0mdraw\u001b[0m\u001b[0;34m(\u001b[0m\u001b[0mG\u001b[0m\u001b[0;34m,\u001b[0m\u001b[0mpos\u001b[0m\u001b[0;34m,\u001b[0m\u001b[0mwith_labels\u001b[0m\u001b[0;34m=\u001b[0m\u001b[0mFalse\u001b[0m\u001b[0;34m,\u001b[0m\u001b[0marrows\u001b[0m\u001b[0;34m=\u001b[0m\u001b[0mFalse\u001b[0m\u001b[0;34m)\u001b[0m\u001b[0;34m\u001b[0m\u001b[0m\n\u001b[1;32m     21\u001b[0m \u001b[0mplt\u001b[0m\u001b[0;34m.\u001b[0m\u001b[0msavefig\u001b[0m\u001b[0;34m(\u001b[0m\u001b[0;34m'nx_test.png'\u001b[0m\u001b[0;34m)\u001b[0m\u001b[0;34m\u001b[0m\u001b[0m\n",
        "\u001b[0;32m//anaconda/lib/python2.7/site-packages/networkx/drawing/nx_agraph.pyc\u001b[0m in \u001b[0;36mgraphviz_layout\u001b[0;34m(G, prog, root, args)\u001b[0m\n\u001b[1;32m    227\u001b[0m \u001b[0;34m\u001b[0m\u001b[0m\n\u001b[1;32m    228\u001b[0m     \"\"\"\n\u001b[0;32m--> 229\u001b[0;31m     \u001b[0;32mreturn\u001b[0m \u001b[0mpygraphviz_layout\u001b[0m\u001b[0;34m(\u001b[0m\u001b[0mG\u001b[0m\u001b[0;34m,\u001b[0m\u001b[0mprog\u001b[0m\u001b[0;34m=\u001b[0m\u001b[0mprog\u001b[0m\u001b[0;34m,\u001b[0m\u001b[0mroot\u001b[0m\u001b[0;34m=\u001b[0m\u001b[0mroot\u001b[0m\u001b[0;34m,\u001b[0m\u001b[0margs\u001b[0m\u001b[0;34m=\u001b[0m\u001b[0margs\u001b[0m\u001b[0;34m)\u001b[0m\u001b[0;34m\u001b[0m\u001b[0m\n\u001b[0m\u001b[1;32m    230\u001b[0m \u001b[0;34m\u001b[0m\u001b[0m\n\u001b[1;32m    231\u001b[0m \u001b[0;32mdef\u001b[0m \u001b[0mpygraphviz_layout\u001b[0m\u001b[0;34m(\u001b[0m\u001b[0mG\u001b[0m\u001b[0;34m,\u001b[0m\u001b[0mprog\u001b[0m\u001b[0;34m=\u001b[0m\u001b[0;34m'neato'\u001b[0m\u001b[0;34m,\u001b[0m\u001b[0mroot\u001b[0m\u001b[0;34m=\u001b[0m\u001b[0mNone\u001b[0m\u001b[0;34m,\u001b[0m \u001b[0margs\u001b[0m\u001b[0;34m=\u001b[0m\u001b[0;34m''\u001b[0m\u001b[0;34m)\u001b[0m\u001b[0;34m:\u001b[0m\u001b[0;34m\u001b[0m\u001b[0m\n",
        "\u001b[0;32m//anaconda/lib/python2.7/site-packages/networkx/drawing/nx_agraph.pyc\u001b[0m in \u001b[0;36mpygraphviz_layout\u001b[0;34m(G, prog, root, args)\u001b[0m\n\u001b[1;32m    258\u001b[0m         raise ImportError('requires pygraphviz ',\n\u001b[1;32m    259\u001b[0m                           \u001b[0;34m'http://networkx.lanl.gov/pygraphviz '\u001b[0m\u001b[0;34m,\u001b[0m\u001b[0;34m\u001b[0m\u001b[0m\n\u001b[0;32m--> 260\u001b[0;31m                           '(not available for Python3)')\n\u001b[0m\u001b[1;32m    261\u001b[0m     \u001b[0;32mif\u001b[0m \u001b[0mroot\u001b[0m \u001b[0;32mis\u001b[0m \u001b[0;32mnot\u001b[0m \u001b[0mNone\u001b[0m\u001b[0;34m:\u001b[0m\u001b[0;34m\u001b[0m\u001b[0m\n\u001b[1;32m    262\u001b[0m         \u001b[0margs\u001b[0m\u001b[0;34m+=\u001b[0m\u001b[0;34m\"-Groot=%s\"\u001b[0m\u001b[0;34m%\u001b[0m\u001b[0mroot\u001b[0m\u001b[0;34m\u001b[0m\u001b[0m\n",
        "\u001b[0;31mImportError\u001b[0m: ('requires pygraphviz ', 'http://networkx.lanl.gov/pygraphviz ', '(not available for Python3)')"
       ]
      },
      {
       "metadata": {},
       "output_type": "display_data",
       "png": "[encoded data removed]",
       "text": [
        "<matplotlib.figure.Figure at 0x107f9fdd0>"
       ]
      }
     ],
     "prompt_number": 47
    },
    {
     "cell_type": "code",
     "collapsed": false,
     "input": [
      "a=nx.connected_components(G)\n",
      "b=nx.Graph.neighbors(G,'HC')\n",
      "c=nx.Graph.adjacency_iter(G)\n",
      "d=nx.Graph.adjacency_list(G)\n",
      "for i in range(len(G)):\n",
      "    print next(c)\n",
      "print\n",
      "print d\n",
      "print\n",
      "print G['sC']"
     ],
     "language": "python",
     "metadata": {},
     "outputs": [
      {
       "output_type": "stream",
       "stream": "stdout",
       "text": [
        "('g5C', {'g5R': {}})\n",
        "('g28C', {'g28R': {}})\n",
        "('g3R', {'g3C': {}})\n",
        "('g7C', {'g7R': {}})\n",
        "('h7B', {'h7A': {}})\n",
        "('g18R', {'g18C': {}})\n",
        "('rC', {'rR': {}})\n",
        "('g1C', {'g1R': {}})\n",
        "('g5R', {'g5C': {}})\n",
        "('g3C', {'g3R': {}})\n",
        "('g29C', {'g29R': {}})\n",
        "('h7A', {'h7B': {}})\n",
        "('g7R', {'g7C': {}})\n",
        "('h1A', {'h1B': {}})\n",
        "('h1B', {'h1A': {}, 'g14R': {}})\n",
        "('g18C', {'g18R': {}})\n",
        "('g1R', {'g1C': {}})\n",
        "('h3B', {'sC': {}, 'h3A': {}})\n",
        "('g27C', {'g27R': {}})\n",
        "('g10R', {'g10C': {}})\n",
        "('h3A', {'h3B': {}, 'h6A': {}})\n",
        "('g9C', {'g9R': {}})\n",
        "('g30R', {'g30C': {}})\n",
        "('h5B', {'h5A': {}})\n",
        "('g25C', {'g25R': {}})\n",
        "('HC', {'g30C': {}})\n",
        "('g16C', {'g16R': {}})\n",
        "('sC', {'h3B': {}, 'sR': {}})\n",
        "('g21C', {'g21R': {}})\n",
        "('g12R', {'g12C': {}})\n",
        "('h5A', {'h5B': {}})\n",
        "('g14C', {'g14R': {}})\n",
        "('g27R', {'g27C': {}})\n",
        "('g10C', {'g10R': {}})\n",
        "('g9R', {'g9C': {}})\n",
        "('g25R', {'g25C': {}})\n",
        "('g19R', {'g19C': {}})\n",
        "('g16R', {'g16C': {}})\n",
        "('g21R', {'g21C': {}})\n",
        "('g12C', {'g12R': {}})\n",
        "('g14R', {'h1B': {}, 'g14C': {}})\n",
        "('g23C', {'g23R': {}})\n",
        "('g19C', {'g19R': {}})\n",
        "('g4C', {'g4R': {}})\n",
        "('g2R', {'g2C': {}})\n",
        "('g17C', {'g17R': {}})\n",
        "('g30C', {'g30R': {}, 'sR': {}, 'HC': {}})\n",
        "('g6C', {'g6R': {}})\n",
        "('rR', {'rC': {}})\n",
        "('g4R', {'g4C': {}})\n",
        "('g2C', {'g2R': {}})\n",
        "('g6R', {'g6C': {}})\n",
        "('g23R', {'g23C': {}})\n",
        "('h2A', {'g20C': {}, 'h2B': {}})\n",
        "('h2B', {'g22R': {}, 'h2A': {}})\n",
        "('g11R', {'g11C': {}})\n",
        "('sR', {'sC': {}, 'g30C': {}})\n",
        "('g22R', {'g22C': {}, 'h2B': {}})\n",
        "('g24C', {'h6A': {}, 'g24R': {}})\n",
        "('h4B', {'h4A': {}})\n",
        "('h4A', {'h4B': {}})\n",
        "('g8C', {'g8R': {}})\n",
        "('g20C', {'g20R': {}, 'h2A': {}})\n",
        "('g13R', {'g13C': {}})\n",
        "('g15C', {'g15R': {}})\n",
        "('g29R', {'g29C': {}})\n",
        "('g26C', {'g26R': {}})\n",
        "('g17R', {'g17C': {}})\n",
        "('g11C', {'g11R': {}})\n",
        "('h6A', {'h6B': {}, 'g24C': {}, 'h3A': {}})\n",
        "('g22C', {'g22R': {}})\n",
        "('g24R', {'g24C': {}})\n",
        "('g8R', {'g8C': {}})\n",
        "('h6B', {'h6A': {}})\n",
        "('g20R', {'g20C': {}})\n",
        "('g13C', {'g13R': {}})\n",
        "('g28R', {'g28C': {}})\n",
        "('g15R', {'g15C': {}})\n",
        "('g26R', {'g26C': {}})\n",
        "\n",
        "[['g5R'], ['g28R'], ['g3C'], ['g7R'], ['h7A'], ['g18C'], ['rR'], ['g1R'], ['g5C'], ['g3R'], ['g29R'], ['h7B'], ['g7C'], ['h1B'], ['h1A', 'g14R'], ['g18R'], ['g1C'], ['sC', 'h3A'], ['g27R'], ['g10C'], ['h3B', 'h6A'], ['g9R'], ['g30C'], ['h5A'], ['g25R'], ['g30C'], ['g16R'], ['h3B', 'sR'], ['g21R'], ['g12C'], ['h5B'], ['g14R'], ['g27C'], ['g10R'], ['g9C'], ['g25C'], ['g19C'], ['g16C'], ['g21C'], ['g12R'], ['h1B', 'g14C'], ['g23R'], ['g19R'], ['g4R'], ['g2C'], ['g17R'], ['g30R', 'sR', 'HC'], ['g6R'], ['rC'], ['g4C'], ['g2R'], ['g6C'], ['g23C'], ['g20C', 'h2B'], ['g22R', 'h2A'], ['g11C'], ['sC', 'g30C'], ['g22C', 'h2B'], ['h6A', 'g24R'], ['h4A'], ['h4B'], ['g8R'], ['g20R', 'h2A'], ['g13C'], ['g15R'], ['g29C'], ['g26R'], ['g17C'], ['g11R'], ['h6B', 'g24C', 'h3A'], ['g22R'], ['g24C'], ['g8C'], ['h6A'], ['g20C'], ['g13R'], ['g28C'], ['g15C'], ['g26C']]\n",
        "\n",
        "{'h3B': {}, 'sR': {}}\n"
       ]
      }
     ],
     "prompt_number": 31
    },
    {
     "cell_type": "code",
     "collapsed": false,
     "input": [],
     "language": "python",
     "metadata": {},
     "outputs": []
    }
   ],
   "metadata": {}
  }
 ]
}