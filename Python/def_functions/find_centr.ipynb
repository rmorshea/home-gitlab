{
 "metadata": {
  "name": ""
 },
 "nbformat": 3,
 "nbformat_minor": 0,
 "worksheets": [
  {
   "cells": [
    {
     "cell_type": "code",
     "collapsed": false,
     "input": [
      "def centr(xdat,ydat,xrange_min,xrange_max,dxdat=None,dydat=None):\n",
      "    '''finds centroid of area between xrange_min, xrange_max. returns the centroid and it's error (if of the error data is provided) within the limits given. substitute \"NA\" for dx and dy data if no error data'''\n",
      "    min_val=None\n",
      "    max_val=None\n",
      "    if len(xdat)!=len(ydat):\n",
      "        raise ValueError('xdat and ydat must have same first dimension')\n",
      "    for i in range(0,len(xdat)):\n",
      "        if xdat[i]>xrange_min:\n",
      "            min_val = i\n",
      "            break\n",
      "    for i in range(1,len(xdat)+1):\n",
      "        if xdat[-i]<xrange_max:\n",
      "            max_val = -(i+1)\n",
      "            break\n",
      "    if min_val is None or max_val is None:\n",
      "        raise ValueError('xrange_min and yrange_min are not acceptable. ensure centr() limit values contain data')\n",
      "    xy = 0\n",
      "    dxy=0; xdy=0; sumxpy=0; dx=0; dy=0\n",
      "    dcentr = None\n",
      "    for i in range(min_val,len(xdat)+max_val):\n",
      "        xy += xdat[i]*ydat[i]\n",
      "    if dxdat is not None and dydat is not None:\n",
      "        maxi = len(xdat)+max_val\n",
      "        for i in range(min_val,maxi):\n",
      "            dxy += dxdat[i]*ydat[i]\n",
      "            xdy += xdat[i]*dydat[i]\n",
      "            sumxpy += xdat[i]+ydat[i]\n",
      "            dx += dxdat[i]\n",
      "            dy += dydat[i]\n",
      "        dcentr = sqrt(((dxy)/(sumxpy)-(xy*dx)/((sumxpy)**2))**2+(xdy)/(sumxpy)-(xy*dy)/((sumxpy)**2))**2\n",
      "    centr = float(xy)/float(sum(ydat[min_val:max_val]))\n",
      "    return centr, dcentr"
     ],
     "language": "python",
     "metadata": {},
     "outputs": [],
     "prompt_number": 1
    },
    {
     "cell_type": "code",
     "collapsed": false,
     "input": [],
     "language": "python",
     "metadata": {},
     "outputs": []
    }
   ],
   "metadata": {}
  }
 ]
}