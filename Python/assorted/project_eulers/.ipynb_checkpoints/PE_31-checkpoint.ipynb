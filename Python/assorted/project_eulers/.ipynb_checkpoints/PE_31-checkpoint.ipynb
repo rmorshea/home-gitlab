{
 "metadata": {
  "name": ""
 },
 "nbformat": 3,
 "nbformat_minor": 0,
 "worksheets": [
  {
   "cells": [
    {
     "cell_type": "markdown",
     "metadata": {},
     "source": [
      "In England the currency is made up of pound, \u00a3, and pence, p, and there are eight coins in general circulation:\n",
      "\n",
      "$1$p, $2$p, $5$p, $10$p, $20$p, $50$p, \u00a3$1$ ($100$p) and \u00a3$2$ (200p).\n",
      "It is possible to make \u00a3$2$ in the following way:\n",
      "\n",
      "$1\\times1$p$ + 1\\times50$p$ + 2\\times20$p$ + 1\\times5$p$ + 1\\times2$p$ + 3\\times1$p\n",
      "How many different ways can \u00a3$2$ be made using any number of coins?"
     ]
    },
    {
     "cell_type": "code",
     "collapsed": false,
     "input": [
      "from timeit import default_timer as timer"
     ],
     "language": "python",
     "metadata": {},
     "outputs": [],
     "prompt_number": 1
    },
    {
     "cell_type": "code",
     "collapsed": false,
     "input": [
      "'''brute force method. requires approximately 20 minutes.'''\n",
      "\n",
      "def Ways(goal):\n",
      "    counter = 1\n",
      "    for a in range(201):\n",
      "        for b in range(101):\n",
      "            for c in range(41):\n",
      "                for d in range(21):\n",
      "                    for e in range(11):\n",
      "                        for f in range(5):\n",
      "                            for g in range(3):\n",
      "                                if (a*1)+(b*2)+(c*5)+(d*10)+(e*20)+(f*50)+(g*100)==goal:\n",
      "                                    counter +=1\n",
      "    return counter\n",
      "#counter pluss 1 because the single 2 pound coin case is not included in the loops.\n",
      "start = timer()  \n",
      "ans=Ways(200)\n",
      "elapsed_time = (timer() - start)/60 # units: seconds\n",
      "print \"Found %d in %r s.\" % (ans, round(elapsed_time,2))"
     ],
     "language": "python",
     "metadata": {},
     "outputs": [
      {
       "output_type": "stream",
       "stream": "stdout",
       "text": [
        "Found 73682 in 31.44 s.\n"
       ]
      }
     ],
     "prompt_number": 2
    },
    {
     "cell_type": "code",
     "collapsed": false,
     "input": [
      "coins = [1, 2, 5, 10, 20, 50, 100, 200]\n",
      "prim_target=200\n",
      "print\n",
      "def Ways(target,t_ind,min_ind=0,count=0):\n",
      "    for i in range(min_ind,t_ind):\n",
      "        current=coins[i]\n",
      "        if current==1:\n",
      "            count+=1\n",
      "        else:\n",
      "            for j in range(1,target/current+1):\n",
      "                n_target=target-j*current\n",
      "                if n_target==0:\n",
      "                    act=0\n",
      "                    count+=1\n",
      "                else:\n",
      "                    count=Ways(n_target,i,min_ind,count)\n",
      "    return count\n",
      "    \n",
      "\n",
      "start = timer()  \n",
      "ans=Ways(200,8,0)\n",
      "elapsed_time = (timer() - start) * 1000 # convert: s --> ms\n",
      "print \"Found %d in %r ms.\" % (ans, round(elapsed_time,2))"
     ],
     "language": "python",
     "metadata": {},
     "outputs": [
      {
       "output_type": "stream",
       "stream": "stdout",
       "text": [
        "\n",
        "Found 73682 in 132.63 ms."
       ]
      },
      {
       "output_type": "stream",
       "stream": "stdout",
       "text": [
        "\n"
       ]
      }
     ],
     "prompt_number": 13
    },
    {
     "cell_type": "code",
     "collapsed": false,
     "input": [],
     "language": "python",
     "metadata": {},
     "outputs": []
    }
   ],
   "metadata": {}
  }
 ]
}