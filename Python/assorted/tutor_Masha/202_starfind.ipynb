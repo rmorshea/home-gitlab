{
 "metadata": {
  "name": ""
 },
 "nbformat": 3,
 "nbformat_minor": 0,
 "worksheets": [
  {
   "cells": [
    {
     "cell_type": "code",
     "collapsed": false,
     "input": [
      "def fill(picture, xsize, ysize, xstart, ystart):\n",
      "    \"\"\"keep a list of pixels that need to be looked at, \n",
      "    but haven't yet been filled in - a list of the (x,y) \n",
      "    coordinates of pixels that are neighbors of ones we have \n",
      "    already examined.  Keep looping until there's nothing \n",
      "    left in this list\"\"\"\n",
      "    queue = [(xstart,ystart)]\n",
      "    while queue:\n",
      "        x,y,queue = queue[0][0], queue[0][1], queue[1:]\n",
      "        if picture[x,y] == BLACK:\n",
      "            picture[x,y] = RED\n",
      "            if x > 0:\n",
      "                queue.append((x-1,y))\n",
      "            if x < (xsize-1):\n",
      "                queue.append((x+1,y))\n",
      "            if y > 0:\n",
      "                queue.append((x, y-1))\n",
      "            if y < (ysize-1):\n",
      "                queue.append((x, y+1))"
     ],
     "language": "python",
     "metadata": {},
     "outputs": [],
     "prompt_number": 10
    },
    {
     "cell_type": "code",
     "collapsed": false,
     "input": [
      "def findstar(picture,xstart,ystart):\n",
      "    \n",
      "    xsize=len(picture)\n",
      "    ysize=len(picture[0])\n",
      "    location=(xstart,ystart)\n",
      "    \n",
      "    if brightness(x,y)==white:\n",
      "        brightness(x,y)==black\n",
      "        location=(x+1,y)\n",
      "        findstar(picture,location[0],location[1])\n",
      "        star=1\n",
      "        \n",
      "    if brightness(x,y)==white:\n",
      "        brightness(x,y)==black\n",
      "        location=(x-1,y)\n",
      "        findstar(picture,location[0],location[1])\n",
      "        \n",
      "    if brightness(x,y)==white:\n",
      "        brightness(x,y)==black\n",
      "        location=(x,y+1)\n",
      "        findstar(picture,location[0],location[1])\n",
      "        \n",
      "    if brightness(x,y)==white:\n",
      "        brightness(x,y)==black\n",
      "        location=(x,y-1)\n",
      "        findstar(picture,location[0],location[1])\n",
      "        \n",
      "    return star"
     ],
     "language": "python",
     "metadata": {},
     "outputs": [],
     "prompt_number": 8
    },
    {
     "cell_type": "code",
     "collapsed": false,
     "input": [
      "[[1,2,3],[1,2,3]]"
     ],
     "language": "python",
     "metadata": {},
     "outputs": []
    }
   ],
   "metadata": {}
  }
 ]
}