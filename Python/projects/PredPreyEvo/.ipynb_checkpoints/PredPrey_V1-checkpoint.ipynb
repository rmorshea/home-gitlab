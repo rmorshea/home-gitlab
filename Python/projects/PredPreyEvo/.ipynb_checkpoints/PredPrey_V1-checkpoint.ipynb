{
 "metadata": {
  "name": ""
 },
 "nbformat": 3,
 "nbformat_minor": 0,
 "worksheets": [
  {
   "cells": [
    {
     "cell_type": "code",
     "collapsed": false,
     "input": [
      "import numpy as np\n",
      "from random import randint\n",
      "from random import random\n",
      "import random"
     ],
     "language": "python",
     "metadata": {},
     "outputs": [],
     "prompt_number": 182
    },
    {
     "cell_type": "code",
     "collapsed": false,
     "input": [
      "class environment:\n",
      "    def __init__(self):\n",
      "        o_parts={'H':300,'O':300,'C':300,'V':300,'D':300,'S':300,'F':300}"
     ],
     "language": "python",
     "metadata": {},
     "outputs": [],
     "prompt_number": 183
    },
    {
     "cell_type": "code",
     "collapsed": false,
     "input": [
      "class organism:\n",
      "    \n",
      "    #abbreviation: molts\n",
      "    molecule_types=[# 'H' - holder\n",
      "            # 'O' - obsorber\n",
      "            # 'C' - cutter\n",
      "            # 'V' - vein\n",
      "            # 'S' - storage\n",
      "            # 'F' - function\n",
      "            # 'N' - nutrients\n",
      "            # 'D' - digester (only occurs at begining of a path)\n",
      "            'H','O','C','V','S','F','D','N'\n",
      "            ]\n",
      "    \n",
      "    #abbreviation: func_tps\n",
      "    function_types = [# 'su' - sustain (allows organism to continue living)\n",
      "                      # 'co' - consume (process of attaching to and obsorbing nutrients)\n",
      "                      # 'r' - reproduce: based on what organism subclass is used\n",
      "                      's','c','r'\n",
      "                      ]\n",
      "    \n",
      "    #abbreviation: v_cons\n",
      "    valid_connections={# 'V' is valid for all connections\n",
      "                    # thus they don't require any validity verification\n",
      "                    'H':[],\n",
      "                    'O':[],\n",
      "                    'C':[],\n",
      "                    'S':['F'],\n",
      "                    'F':[],\n",
      "                    'D':['H','O','C','V','S','F']\n",
      "                    }\n",
      "    \n",
      "    #abbreviation: pc_lims\n",
      "    molecule_limits={'H':10,'O':5,'C':5,'V':15,'D':2,'S':10,'F':3} #piece number limits for each molecule\n",
      "    max_Ds=4 #maximum number of digesters\n",
      "    \n",
      "    #abbreviation: con_lims\n",
      "    connection_limits={'H':1,'O':1,'C':1,'V':3,'D':4,'S':3,'F':1}#limits on number of connections for each molecule\n",
      "    \n",
      "    #path formater: must format piece numbers to accomadate all possible number values which origionate from the various pieces\n",
      "    path_formater=\"%02d\"\n",
      "    \n",
      "    def __init__(self):\n",
      "        \n",
      "        self.paths = [] #list of all paths in organism\n",
      "        self.num_paths=0 #total number of paths in organism\n",
      "        self.num_Ds=0 #number of digesters\n",
      "        self.max_path_len=randint(1,4) #initial maximum on path length\n",
      "    \n",
      "#----------------------------------------------------------------------------------\n",
      "    \n",
      "    def validate_paths(self,index=None):\n",
      "        '''validate all paths, or by specifying an index, a particular path.'''\n",
      "        \n",
      "        paths = self.paths\n",
      "        v_cons = self.valid_connections\n",
      "        cut = []\n",
      "        \n",
      "        if self.num_Ds>self.max_Ds:\n",
      "            #if the number of digesters is above the max randomly remove one\n",
      "            try:\n",
      "                Ds=[paths[0][:4]]    #a list of all the digesters which are present\n",
      "            except:\n",
      "                if len(paths)==0:\n",
      "                    return None\n",
      "                else:\n",
      "                    raise 'unexpected Error for __getitem__ in paths'\n",
      "            for p in paths[1:]:\n",
      "                #loop through paths\n",
      "                if p[:4] not in Ds:\n",
      "                    #if the digester isn't already present: add it to the list\n",
      "                    Ds.append(p[:4])\n",
      "            remove = Ds[randint(0,len(Ds)-1)] #randomly select a digester to remove\n",
      "            i=0\n",
      "            while i < len(self.paths):\n",
      "                #loop through paths removing paths associated with the selected digester\n",
      "                if self.paths[i][:4]==remove:\n",
      "                    #if this path is associate with the selected digester, remove it\n",
      "                    self.paths.pop(i)\n",
      "                    self.num_paths-=1 #add one to the number of paths\n",
      "                else:\n",
      "                    #otherwise continue to the next path\n",
      "                    i+=1\n",
      "        \n",
      "        if index==None:\n",
      "            \n",
      "            \n",
      "            \n",
      "            #case for validating all paths (begins at path 0)\n",
      "            i=0              #begins at path 0\n",
      "            kill_loop=False    #loop will iterate all the way through paths\n",
      "        else:\n",
      "            #case for validating a single path breaks\n",
      "            i=index         #sets index to the one specified in the function variables\n",
      "            kill_loop=True    # breaks loop after 1 iteration\n",
      "        \n",
      "        while i < len(paths):\n",
      "            #iterate through paths (must be \"while\" because len(paths) changes)\n",
      "            p = paths[i]\n",
      "            if p[0]!='D':\n",
      "                #if the first molecule isn't a digester then delete path\n",
      "                cut.append(self.paths.pop(i))\n",
      "                self.num_paths-=1\n",
      "            \n",
      "            else:\n",
      "                p=p.split('/')    #plit up path into components\n",
      "                molt_p='D'                  #previous (indicated by _p) molecule type\n",
      "                for j in range(1,len(p)):\n",
      "                    #iterate through path \n",
      "                    molt_n = p[j][0]                 #next (indicated by _n) molecue type\n",
      "                    if molt_n == 'D':                 #if molt_n is 'D' then remove because it isn't at begining of path\n",
      "                        cut.append('/'.join(p[j:]))    #add removed parts to a list of cut molecules\n",
      "                        edited_path = '/'.join(p[:j])    #rejoin the edited list path\n",
      "                        if edited_path not in paths:\n",
      "                            #if changes did not produce a duplicate path then add it\n",
      "                            self.paths[i] = edited_path\n",
      "                            molt_p = molt_n\n",
      "                        else:\n",
      "                            #otherwise remove the duplicate path\n",
      "                            self.paths.pop(i)\n",
      "                            self.num_paths-=1\n",
      "                            \n",
      "                    else:\n",
      "                        if molt_p != 'V':                      #'V' always has valid paths\n",
      "                            if molt_n not in v_cons[molt_p]:    #case of invalid path\n",
      "                                cut.append('/'.join(p[j:]))    #add removed parts to a list of cut molecules\n",
      "                                edited_path = '/'.join(p[:j])    #rejoin the edited list path\n",
      "                                if edited_path not in paths:\n",
      "                                    #if changes did not produce a duplicate path then add it\n",
      "                                    self.paths[i] = edited_path\n",
      "                                    molt_p = molt_n\n",
      "                                else:\n",
      "                                    #otherwise remove the duplicate path\n",
      "                                    self.paths.pop(i)\n",
      "                                    self.num_paths-=1\n",
      "                            \n",
      "                    molt_p = molt_n\n",
      "                i+=1\n",
      "                \n",
      "            if kill_loop:\n",
      "                #case for validating one path\n",
      "                break\n",
      "                \n",
      "        if len(cut)!=0:\n",
      "            #if things were \n",
      "            return cut\n",
      "\n",
      "    def sort_paths(self):\n",
      "        #organizes paths so that they are together with similar digesters.\n",
      "        self.paths.sort()\n",
      "                \n",
      "    \n",
      "# 'rc' - reproduce: conjugation\n",
      "# 'rd' - reproduce: transduction\n",
      "    'rf','rc','rd'\n",
      "    \n"
     ],
     "language": "python",
     "metadata": {},
     "outputs": [],
     "prompt_number": 184
    },
    {
     "cell_type": "code",
     "collapsed": false,
     "input": [
      "class organism_rf(organism): # 'rf' - reproduction type: transformation\n",
      "    \n",
      "    def add_path_origin(self):\n",
      "        '''adds a path which begins from a new digester'''\n",
      "        \n",
      "        if self.num_Ds<self.max_Ds:\n",
      "            #if possible to add digester add one\n",
      "            self.num_Ds+=1\n",
      "        else:\n",
      "            #otherwise don't add a new path\n",
      "            return\n",
      "        \n",
      "        molts = self.molecule_types     #import pieces list\n",
      "        formater = self.path_formater         #path_formater\n",
      "        dt = molts[randint(0,len(molts)-2)]     #new digester type\n",
      "        P = 'D' + dt + formater % self.num_Ds     #begin path with new digester\n",
      "        \n",
      "        self.paths.append(P)     #add path to paths\n",
      "        self.num_paths+=1     #add one to the number of paths\n",
      "        \n",
      "    def edit_path(self,method):\n",
      "        '''edits a previously existing path'''\n",
      "        \n",
      "        #selecting path and path index to edit\n",
      "        molts = self.molecule_types\n",
      "        path_ran = self.num_paths-1     #path index range\n",
      "        try:\n",
      "            path_ind = randint(0,path_ran)        #path index\n",
      "        except ValueError:\n",
      "            #throws an error if path_ran=0 (i.e. no paths present)\n",
      "            if path_ran<1:\n",
      "                return None\n",
      "            else:\n",
      "                raise \"unexpected Error in path_ind\"\n",
      "            \n",
      "        path = self.paths[path_ind].split('/')     #selected path to edit\n",
      "        edit_ind = randint(0,len(path)-1)     #select path index to edit\n",
      "        \n",
      "        #selecting new piece:\n",
      "        formater = self.path_formater\n",
      "        con_lims = self.connection_limits\n",
      "        molt_i = len(molts)-2             #molecule type index range\n",
      "        n_mol = molts[randint(0,molt_i)]     #new molecule\n",
      "        \n",
      "        if n_mol == 'D':\n",
      "            #case for new digester type\n",
      "            molt = molts[randint(0,molt_i)] + formater%randint(0,self.max_Ds)\n",
      "            Dtype=molt[0]\n",
      "            if edit_ind==0:\n",
      "                add_D=True\n",
      "                for p in self.paths:\n",
      "                    if p[1]==Dtype:\n",
      "                        add_D=False\n",
      "                        break\n",
      "                if add_D==True:\n",
      "                    self.num_Ds+=1\n",
      "\n",
      "        elif n_mol != 'N':\n",
      "            #case of other kind of molecule type\n",
      "            molt = formater%randint(1,con_lims[n_mol])\n",
      "        n_mol = n_mol + molt    #new molecule\n",
      "        \n",
      "        #edit methods...\n",
      "        \n",
      "        if method == 'amend':\n",
      "            #amend the selected index in the path\n",
      "            path[edit_ind]=n_mol\n",
      "            path = '/'.join(path)\n",
      "            if path not in self.paths:\n",
      "                #if the paths isn't a duplicate: then replace the original\n",
      "                self.paths[path_ind] = path\n",
      "            else:\n",
      "                #otherwise: delete the path entirely\n",
      "                self.paths.pop(path_ind)\n",
      "                self.num_paths-=1     #reduce the number of paths by one\n",
      "            \n",
      "        if method == 'append':\n",
      "            #append a new molecule following the selected index in the path\n",
      "            path.insert(edit_ind+1,n_mol)\n",
      "            path = '/'.join(path)\n",
      "            if path not in self.paths:\n",
      "                 #if the path isn't a duplicate add it\n",
      "                path_ind=randint(path_ind,path_ind+1)  #choose the index before or after the original path\n",
      "                self.paths.insert(path_ind,path)    #add it at that index\n",
      "                self.num_paths+=1\n",
      "            #if the path is a duplicate do nothing\n",
      "            \n",
      "        #determine how many digesters are currently present\n",
      "        Ds=[]\n",
      "        for p in self.paths:\n",
      "            #cycle trough paths\n",
      "            Dnum=p[2:4]\n",
      "            if Dnum not in Ds:\n",
      "                #add to list if not already counted\n",
      "                Ds.append(Dnum)\n",
      "        self.num_Ds=len(Ds)     #reevaluate num_Ds\n",
      "        \n",
      "        return path_ind     #return index of edited path\n",
      "        \n",
      "    def path_append(self):\n",
      "        '''adds a path which branches from a previously existing one'''\n",
      "        a=0"
     ],
     "language": "python",
     "metadata": {},
     "outputs": [],
     "prompt_number": 185
    },
    {
     "cell_type": "code",
     "collapsed": false,
     "input": [
      "O=organism_rf()"
     ],
     "language": "python",
     "metadata": {},
     "outputs": [],
     "prompt_number": 207
    },
    {
     "cell_type": "code",
     "collapsed": false,
     "input": [
      "O.edit_path('amend')"
     ],
     "language": "python",
     "metadata": {},
     "outputs": [],
     "prompt_number": 208
    },
    {
     "cell_type": "code",
     "collapsed": false,
     "input": [
      "for i in range(5):\n",
      "    O.add_path_origin()"
     ],
     "language": "python",
     "metadata": {},
     "outputs": [],
     "prompt_number": 209
    },
    {
     "cell_type": "code",
     "collapsed": false,
     "input": [
      "print 'start', O.paths\n",
      "a=O.edit_path('append')\n",
      "print '     ', O.paths,O.validate_paths(a)\n",
      "print 'appen',O.paths\n",
      "b=O.edit_path('amend')\n",
      "print '     ',O.paths,O.validate_paths(b)\n",
      "print 'amend',O.paths\n",
      "print\n",
      "print O.validate_paths()\n",
      "print O.paths"
     ],
     "language": "python",
     "metadata": {},
     "outputs": [
      {
       "output_type": "stream",
       "stream": "stdout",
       "text": [
        "start ['DV01', 'DF02', 'DO03', 'DH04']\n",
        "      ['DV01', 'DF02/V03', 'DF02', 'DO03', 'DH04'] None\n",
        "appen ['DV01', 'DF02/V03', 'DF02', 'DO03', 'DH04']\n",
        "      ['DV01', 'DF02/H01', 'DF02', 'DO03', 'DH04'] None\n",
        "amend ['DV01', 'DF02/H01', 'DF02', 'DO03', 'DH04']\n",
        "\n",
        "None\n",
        "['DV01', 'DF02/H01', 'DF02', 'DO03', 'DH04']\n"
       ]
      }
     ],
     "prompt_number": 210
    },
    {
     "cell_type": "code",
     "collapsed": false,
     "input": [
      "for i in range(10):\n",
      "    for j in range(6):\n",
      "        if j%3==0:\n",
      "            a = O.edit_path('amend')\n",
      "            O.validate_paths(a)\n",
      "        b = O.edit_path('append')\n",
      "        O.validate_paths(b)\n",
      "    print O.paths\n",
      "    print"
     ],
     "language": "python",
     "metadata": {},
     "outputs": [
      {
       "output_type": "stream",
       "stream": "stdout",
       "text": [
        "['DF02/H01', 'DF02/V03/O01', 'DH00/V03/H01', 'DH00/V03/V01/H01', 'DF02/V02/V02/H01', 'DF02/V02/H01', 'DF02/V03/V02/H01', 'DF02/F01', 'DF02', 'DF02/S02', 'DF02/V01/S01/F01', 'DF02/V01/V01/S01/F01', 'DF02/V01/S01', 'DF02/V01/H01', 'DF02/V01/S02', 'DF02/V01/V01/C01', 'DF02/V01/V01/S02', 'DF02/V01/C01', 'DF02/C01', 'DD00/S02', 'DD00/V01/S02', 'DF02/O01', 'DF02/S01', 'DF02/V03/V03/C01', 'DF02/V03']\n",
        "\n",
        "['DF02/H01', 'DF02/V03/O01', 'DH00/V03/H01', 'DH00/V03/V01/H01', 'DF02/V02/V02/H01', 'DF02/V02/H01', 'DF02/V03/V02/H01', 'DF02/F01', 'DF02', 'DF02/S02', 'DF02/V01/S01/F01', 'DF02/V01/V01/S01/F01', 'DF02/V01/S01', 'DF02/V01/H01', 'DF02/V01/S02', 'DF02/V01/V01/H01', 'DF02/V01/V01/C01', 'DF02/V01/V01/S02', 'DF02/V01/C01', 'DD00/S02', 'DD00/V01/S02', 'DF02/O01', 'DF02/S01', 'DF02/C01', 'DF02/V03/V03/C01']\n",
        "\n",
        "['DF02/H01', 'DF02/V03/O01', 'DH00/V03/H01', 'DH00/V03/V01/H01', 'DF02/V02/V02/V03/H01', 'DF02/V02/V02/H01', 'DF02/V02/C01', 'DF02/V02/H01', 'DF02/F01', 'DF02', 'DF02/S02', 'DF02/V01/S01/F01', 'DF02/V01/V01', 'DF02/V01/V01/S01', 'DF02/V01/V01/S01/F01', 'DF02/V01/S01', 'DF02/V01/H01', 'DF02/V01/S02', 'DF02/V01/V01/H01', 'DF02/V01/V01/C01', 'DF02/V01/V01/S02', 'DF02/V01/C01', 'DD00/S02', 'DD00/V01/S02', 'DF02/S01', 'DF02/C01', 'DF02/V03/V03/C01']\n",
        "\n",
        "['DF02/H01', 'DF02/V03/O01', 'DH00/V03/H01', 'DH00/V01/O01', 'DH00/V01/V03/V01/H01', 'DH00/V03/V01/H01', 'DF02/V02/V02/V03/H01', 'DF02/V02/V02/H01', 'DF02/V02/C01', 'DF02/V02/H01', 'DF02/F01', 'DF02', 'DF02/S02', 'DF02/S03', 'DF02/V01/V01/S01', 'DF02/V01/V01/S01/F01', 'DF02/V01', 'DF02/V01/S01', 'DF02/V01/H01', 'DF02/V01/S02', 'DF02/V01/V01/H01', 'DF02/V01/V01/C01', 'DF02/V01/V01/S02', 'DF02/V01/C01', 'DD00/S02', 'DD00/V01/S02', 'DF02/S01', 'DF02/C01', 'DF02/V03/V03/C01']\n",
        "\n",
        "['DF02/V03/O01', 'DH00/V03/H01', 'DH00/V01/O01', 'DH00/V01/V03/V01/H01', 'DH00/V03/V01/H01', 'DH00/V03', 'DF02/V02/V02/V03/H01', 'DF02/V02/V02/H01', 'DF02/V02/C01', 'DF02/V02/H01', 'DF02/F01', 'DF02', 'DF02/S02', 'DF02/O01', 'DF02/S03', 'DF02/V01/V01/S01', 'DF02/V01/V01/S01/F01', 'DF02/V01', 'DF02/V01/S01', 'DF02/V01/H01', 'DF02/V01/V01/H01', 'DF02/V01/V01/C01', 'DF02/V01/V01/S02', 'DF02/V01/C01', 'DD00/S02', 'DD00/V01/S02', 'DF02/S01', 'DF02/C01', 'DF02/V03/V03/C01']\n",
        "\n",
        "['DF02/V03/O01', 'DH00/V03/H01', 'DH00/C01', 'DH00/V01/O01', 'DH00/V01/V03/V01/H01', 'DH00/V03/V01/H01', 'DH00/V03/V01/V01/H01', 'DH00/V03', 'DF02/V02/V02/H01', 'DF02/V02/F01', 'DF02/V02/C01', 'DF02/V02/H01', 'DF02/F01', 'DF02', 'DF02/S02', 'DF02/O01', 'DF02/S03', 'DF02/V01/V01/S01', 'DF02/V01/V01/S01/F01', 'DF02/V01', 'DF02/V01/S01', 'DF02/V01/H01', 'DF02/V01/V01/H01', 'DF02/V01/V01/C01', 'DF02/V01/V01/V02', 'DF02/V01/C01', 'DD00/S02', 'DD00/V01/S02', 'DF02/S01', 'DF02/C01', 'DF02/V03/V03/C01']\n",
        "\n",
        "['DF02/V03/O01', 'DH00/V03/H01', 'DH00/C01', 'DH00/V01/O01', 'DH00/V01/V03/V01/H01', 'DH00/V03/V01/H01', 'DH00/V03/F01', 'DH00/V03/V01/V01/H01', 'DH00/V03', 'DF02/V02/V02/H01', 'DF02/V02/F01', 'DF02/V02/C01', 'DF02/V02/H01', 'DF02/F01', 'DF02/O01', 'DF02', 'DF02/S02', 'DF02/H01', 'DF02/S03', 'DF02/V01/V01/S01', 'DF02/V01/V01/S01/F01', 'DF02/V01', 'DF02/V01/S01', 'DF02/V01/V01/H01', 'DF02/V01/V01/C01', 'DF02/V01/V01/V02', 'DF02/V01/C01', 'DD00/S02', 'DD00/V01/S02', 'DF02/S01', 'DF02/C01', 'DF02/V03/V03/C01']\n",
        "\n",
        "['DF02/V03/O01', 'DH00/V03/H01', 'DH00/C01', 'DH00/V01/O01', 'DH00/V01/V03/V01/H01', 'DH00/V03/V01/H01', 'DH00/V03/F01', 'DH00/V03/V01/V01/H01', 'DH00/V03/O01', 'DH00/V03', 'DF02/V02/V02/H01', 'DF02/V02/C01', 'DF02/V02/H01', 'DF02/F01', 'DF02/O01', 'DF02', 'DF02/S02', 'DF02/H01', 'DF02/S03', 'DF02/V03/V01/S01', 'DF02/V01/V01/S01/F01', 'DF02/V01', 'DF02/V01/S01', 'DF02/V01/V01/H01', 'DF02/V01/V01/V02/C01', 'DF02/V01/V01/V02/S01', 'DF02/V01/V01/C01', 'DF02/V01/V01/V02', 'DF02/V01/C01', 'DD00/S02', 'DD00/V01/S02', 'DF02/S01', 'DF02/C01', 'DF02/V03/V03/C01']\n",
        "\n",
        "['DF02/V03/O01', 'DH00/V03/H01', 'DH00/C01', 'DH00/V01/O01', 'DH00/V01/V03/V01/H01', 'DH00/V03/V01/O01', 'DH00/V03/V01/H01', 'DH00/V03/F01', 'DH00/V03/V01/V01/H01', 'DH00/V03/O01', 'DF02/V02/V02/H01', 'DF02/V02/C01', 'DF02/V02/H01', 'DF02/F01', 'DF02/O01', 'DF02', 'DF02/S02', 'DF02/H01', 'DF02/S03', 'DF02/V03/V01/S01', 'DF02/V01/V01/S01/F01', 'DF02/V01', 'DF02/V01/S01', 'DF02/V01/H01', 'DF02/V01/V01/V02/C01', 'DF02/V01/V01/V02/S01', 'DF02/V01/V01/C01', 'DF02/V01/V01/V02', 'DF02/V01/C01', 'DD00/S02', 'DD00/V01/S02', 'DF02/S01', 'DF02/C01', 'DF02/V03/V03/C01']\n",
        "\n",
        "['DF02/V03/O01', 'DH00/V03/H01', 'DH00/V03', 'DH00/O01', 'DH00/V01/O01', 'DH00/V01/V03/V01/H01', 'DH00/F01', 'DH00/V03/V01/O01', 'DH00/V03/V01/H01', 'DH00/V03/F01', 'DH00/V03/V01/V01/H01', 'DH00/V03/O01', 'DF02/V02/V02/V01', 'DF02/V02/C01', 'DF02/V02/H01', 'DF02/F01', 'DF02/O01', 'DF02', 'DF02/S02', 'DF02/H01', 'DF02/S03', 'DF02/V03/V01/S01', 'DF02/V01/V01/S01/F01', 'DF02/V01', 'DF02/V01/S01', 'DF02/V01/H01', 'DF02/V01/V01/V02/C01', 'DF02/V01/V01/V02/S01', 'DF02/V01/V01/C01', 'DF02/V01/V01/V02', 'DF02/V01/C01', 'DD00/S02', 'DD00/V01/S02', 'DF02/S01', 'DF02/C01', 'DF02/V03/V03/C01']\n",
        "\n"
       ]
      }
     ],
     "prompt_number": 219
    },
    {
     "cell_type": "code",
     "collapsed": false,
     "input": [
      "O.paths"
     ],
     "language": "python",
     "metadata": {},
     "outputs": [
      {
       "metadata": {},
       "output_type": "pyout",
       "prompt_number": 220,
       "text": [
        "['DF02/V03/O01',\n",
        " 'DH00/V03/H01',\n",
        " 'DH00/V03',\n",
        " 'DH00/O01',\n",
        " 'DH00/V01/O01',\n",
        " 'DH00/V01/V03/V01/H01',\n",
        " 'DH00/F01',\n",
        " 'DH00/V03/V01/O01',\n",
        " 'DH00/V03/V01/H01',\n",
        " 'DH00/V03/F01',\n",
        " 'DH00/V03/V01/V01/H01',\n",
        " 'DH00/V03/O01',\n",
        " 'DF02/V02/V02/V01',\n",
        " 'DF02/V02/C01',\n",
        " 'DF02/V02/H01',\n",
        " 'DF02/F01',\n",
        " 'DF02/O01',\n",
        " 'DF02',\n",
        " 'DF02/S02',\n",
        " 'DF02/H01',\n",
        " 'DF02/S03',\n",
        " 'DF02/V03/V01/S01',\n",
        " 'DF02/V01/V01/S01/F01',\n",
        " 'DF02/V01',\n",
        " 'DF02/V01/S01',\n",
        " 'DF02/V01/H01',\n",
        " 'DF02/V01/V01/V02/C01',\n",
        " 'DF02/V01/V01/V02/S01',\n",
        " 'DF02/V01/V01/C01',\n",
        " 'DF02/V01/V01/V02',\n",
        " 'DF02/V01/C01',\n",
        " 'DD00/S02',\n",
        " 'DD00/V01/S02',\n",
        " 'DF02/S01',\n",
        " 'DF02/C01',\n",
        " 'DF02/V03/V03/C01']"
       ]
      }
     ],
     "prompt_number": 220
    },
    {
     "cell_type": "code",
     "collapsed": false,
     "input": [
      "O.validate_paths()"
     ],
     "language": "python",
     "metadata": {},
     "outputs": [
      {
       "metadata": {},
       "output_type": "pyout",
       "prompt_number": 111,
       "text": [
        "['C01',\n",
        " 'O01',\n",
        " 'O01/V03/V01/O01',\n",
        " 'V03/V01/O01',\n",
        " 'C01',\n",
        " 'C01',\n",
        " 'H01',\n",
        " 'DH00',\n",
        " 'DH01',\n",
        " 'H01',\n",
        " 'V03/S03/H01',\n",
        " 'H01',\n",
        " 'S02']"
       ]
      }
     ],
     "prompt_number": 111
    },
    {
     "cell_type": "code",
     "collapsed": false,
     "input": [
      "O.sort_paths()\n",
      "print O.paths"
     ],
     "language": "python",
     "metadata": {},
     "outputs": [
      {
       "output_type": "stream",
       "stream": "stdout",
       "text": [
        "['DD03/O01', 'DD03/O01/F01', 'DD03/V01/O01', 'DD04/O01/DO03/H01', 'DV04/C01/F01', 'DV04/O01/V03/S03/H01', 'DV04/V03/H01/S02']\n"
       ]
      }
     ],
     "prompt_number": 103
    },
    {
     "cell_type": "markdown",
     "metadata": {},
     "source": [
      "identified problems:\n",
      "\n",
      "1) it's possible for digesters to get added to the end of veins without throwing an error\n",
      "because of an if \\molt!='V': statement which excludes veins from the validity check.\n",
      "####solved\n",
      "\n",
      "2) the number of digesters present can be much larger than the specified 2 because there\n",
      "can be different kinds of digesters therefore the possible number of digesters is 2*(number of digester kinds).\n",
      "####solved"
     ]
    },
    {
     "cell_type": "code",
     "collapsed": false,
     "input": [
      "a=[1,2,3]\n",
      "del a[2]\n",
      "print a"
     ],
     "language": "python",
     "metadata": {},
     "outputs": [
      {
       "output_type": "stream",
       "stream": "stdout",
       "text": [
        "[1, 2]\n"
       ]
      }
     ],
     "prompt_number": 4
    },
    {
     "cell_type": "code",
     "collapsed": false,
     "input": [
      "a=set(['a','b','c'])\n",
      "b=a=set(['a'])\n",
      "print a-b"
     ],
     "language": "python",
     "metadata": {},
     "outputs": [
      {
       "output_type": "stream",
       "stream": "stdout",
       "text": [
        "set([])\n"
       ]
      }
     ],
     "prompt_number": 51
    },
    {
     "cell_type": "code",
     "collapsed": false,
     "input": [
      "a=[1,2,3]\n",
      "print a[:2]"
     ],
     "language": "python",
     "metadata": {},
     "outputs": [
      {
       "output_type": "stream",
       "stream": "stdout",
       "text": [
        "[1, 2]\n"
       ]
      }
     ],
     "prompt_number": 19
    },
    {
     "cell_type": "code",
     "collapsed": false,
     "input": [
      "a=1\n",
      "b=1[0]"
     ],
     "language": "python",
     "metadata": {},
     "outputs": [
      {
       "ename": "TypeError",
       "evalue": "'int' object has no attribute '__getitem__'",
       "output_type": "pyerr",
       "traceback": [
        "\u001b[0;31m---------------------------------------------------------------------------\u001b[0m\n\u001b[0;31mTypeError\u001b[0m                                 Traceback (most recent call last)",
        "\u001b[0;32m<ipython-input-66-00662f3862de>\u001b[0m in \u001b[0;36m<module>\u001b[0;34m()\u001b[0m\n\u001b[1;32m      1\u001b[0m \u001b[0ma\u001b[0m\u001b[0;34m=\u001b[0m\u001b[0;36m1\u001b[0m\u001b[0;34m\u001b[0m\u001b[0m\n\u001b[0;32m----> 2\u001b[0;31m \u001b[0mb\u001b[0m\u001b[0;34m=\u001b[0m\u001b[0;36m1\u001b[0m\u001b[0;34m[\u001b[0m\u001b[0;36m0\u001b[0m\u001b[0;34m]\u001b[0m\u001b[0;34m\u001b[0m\u001b[0m\n\u001b[0m",
        "\u001b[0;31mTypeError\u001b[0m: 'int' object has no attribute '__getitem__'"
       ]
      }
     ],
     "prompt_number": 66
    },
    {
     "cell_type": "code",
     "collapsed": false,
     "input": [
      "a=[1,2,3,4,5,6]\n",
      "print a\n",
      "b=a[1]\n",
      "a[1:4]=a[2:5]\n",
      "print a\n",
      "a[5]=b\n",
      "print a"
     ],
     "language": "python",
     "metadata": {},
     "outputs": [
      {
       "output_type": "stream",
       "stream": "stdout",
       "text": [
        "[1, 2, 3, 4, 5, 6]\n",
        "[1, 3, 4, 5, 5, 6]\n",
        "[1, 3, 4, 5, 5, 2]\n"
       ]
      }
     ],
     "prompt_number": 178
    },
    {
     "cell_type": "code",
     "collapsed": false,
     "input": [
      "a.insert(2,10)"
     ],
     "language": "python",
     "metadata": {},
     "outputs": [],
     "prompt_number": 118
    },
    {
     "cell_type": "code",
     "collapsed": false,
     "input": [
      "print a"
     ],
     "language": "python",
     "metadata": {},
     "outputs": [
      {
       "output_type": "stream",
       "stream": "stdout",
       "text": [
        "[2, 3, 10, 4, 4, 5, 6]\n"
       ]
      }
     ],
     "prompt_number": 119
    },
    {
     "cell_type": "code",
     "collapsed": false,
     "input": [
      "randint(1,2)"
     ],
     "language": "python",
     "metadata": {},
     "outputs": [
      {
       "metadata": {},
       "output_type": "pyout",
       "prompt_number": 122,
       "text": [
        "1"
       ]
      }
     ],
     "prompt_number": 122
    },
    {
     "cell_type": "code",
     "collapsed": false,
     "input": [],
     "language": "python",
     "metadata": {},
     "outputs": []
    }
   ],
   "metadata": {}
  }
 ]
}