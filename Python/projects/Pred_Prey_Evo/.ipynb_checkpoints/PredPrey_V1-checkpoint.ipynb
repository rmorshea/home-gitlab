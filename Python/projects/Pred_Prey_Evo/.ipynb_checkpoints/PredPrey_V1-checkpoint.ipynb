{
 "metadata": {
  "name": ""
 },
 "nbformat": 3,
 "nbformat_minor": 0,
 "worksheets": [
  {
   "cells": [
    {
     "cell_type": "code",
     "collapsed": false,
     "input": [
      "import numpy as np\n",
      "from random import randint\n",
      "from random import random\n",
      "import random"
     ],
     "language": "python",
     "metadata": {},
     "outputs": [],
     "prompt_number": 285
    },
    {
     "cell_type": "code",
     "collapsed": false,
     "input": [
      "class environment:\n",
      "    def __init__(self):\n",
      "        o_parts={'H':300,'O':300,'C':300,'V':300,'D':300,'S':300,'F':300}"
     ],
     "language": "python",
     "metadata": {},
     "outputs": [],
     "prompt_number": 4
    },
    {
     "cell_type": "code",
     "collapsed": false,
     "input": [
      "class organism:\n",
      "    \n",
      "    #abbreviation: pcs\n",
      "    pieces=[# 'H' - holder\n",
      "            # 'O' - obsorber\n",
      "            # 'C' - cutter\n",
      "            # 'V' - vein\n",
      "            # 'D' - digester (only occurs at begining of a path)\n",
      "            # 'S' - storage\n",
      "            # 'F' - function\n",
      "            'H','O','C','V','S','F'\n",
      "            ]\n",
      "    \n",
      "    #abbreviation: v_cons\n",
      "    valid_cons={# 'V' and 'D' are valid for all connections\n",
      "                    # thus they don't require any validity verification\n",
      "                    'H':['V','D'],\n",
      "                    'O':['V','D'],\n",
      "                    'C':['V','D'],\n",
      "                    'S':['D','F'],\n",
      "                    'F':['S']\n",
      "                    }\n",
      "    \n",
      "    #abbreviation: con_lims\n",
      "    con_limits={'H':10,'O':5,'C':5,'V':15,'D':5,'S':10,'F':3} #connection limits for each piece\n",
      "    D_max=5 #maximum number of digesters\n",
      "    \n",
      "    #path formater: must format piece numbers to accomadate all possible number values which origionate from the various pieces\n",
      "    path_formater=\"%02d\"\n",
      "    \n",
      "    def __init__(self):\n",
      "        \n",
      "        self.paths = [] #list of all paths in organism\n",
      "        self.num_paths=0 #total number of paths in organism\n",
      "        self.num_Ds=0 #number of digesters\n",
      "        self.max_path_len=randint(1,4) #initial maximum on path length\n",
      "        \n",
      "    #-----------------------------------------------\n",
      "    #-----------------------------------------------\n",
      "    #Private:\n",
      "        \n",
      "    def add_path_origin(self):\n",
      "        '''adds path which begins from a new digester'''\n",
      "        \n",
      "        if self.num_Ds<self.D_max:\n",
      "            self.num_Ds+=1 #add new digester if possible\n",
      "        else:\n",
      "            return #otherwise don't add a new path\n",
      "        \n",
      "        formater = self.path_formater #path_formater\n",
      "        P = 'D' + formater % self.num_Ds #begin path with new digester\n",
      "        \n",
      "        part = None #initialize \\part\n",
      "        pcs = self.pieces #import pieces list\n",
      "        f = int(formater[2])+1 #index of part identifier\n",
      "        v_cons = self.valid_cons #import valid connection dic\n",
      "        con_lims = self.con_limits #import connection limits\n",
      "        pcs_i = len(self.pieces)-1 #index range for pieces\n",
      "        \n",
      "        for i in range(self.max_path_len):\n",
      "            if part!='V' and part!=None:\n",
      "                if part not in v_cons[P[-f]]:\n",
      "                    break\n",
      "\n",
      "            part = pcs[randint(0,pcs_i)]\n",
      "            part_num = randint(1,con_lims[part])\n",
      "            P+=part + formater%part_num\n",
      "        \n",
      "        paths = self.paths\n",
      "        max_path_len = self.max_path_len\n",
      "        if P not in paths:\n",
      "            new_len = len(P)/(f) #path length\n",
      "            if new_len>max_path_len: #if greater than current max path length\n",
      "                self.max_path_len = new_len #assign the greater value\n",
      "            paths.append(P) #add \\P to \\paths\n",
      "        \n",
      "    def path_edit(self):\n",
      "        '''edits a previously existing path'''\n",
      "        a=0\n",
      "    def path_append(self):\n",
      "        '''adds a path which extends from a previously existing one'''\n",
      "        a=0"
     ],
     "language": "python",
     "metadata": {},
     "outputs": [],
     "prompt_number": 406
    },
    {
     "cell_type": "code",
     "collapsed": false,
     "input": [
      "O=organism()\n",
      "print O.pieces"
     ],
     "language": "python",
     "metadata": {},
     "outputs": [
      {
       "output_type": "stream",
       "stream": "stdout",
       "text": [
        "['H', 'O', 'C', 'V', 'S', 'F']\n"
       ]
      }
     ],
     "prompt_number": 407
    },
    {
     "cell_type": "code",
     "collapsed": false,
     "input": [
      "for i in range(6):\n",
      "    O.add_path_origin()\n",
      "O.paths"
     ],
     "language": "python",
     "metadata": {},
     "outputs": [
      {
       "metadata": {},
       "output_type": "pyout",
       "prompt_number": 408,
       "text": [
        "['D01S10', 'D02F02', 'D03F03', 'D04O01', 'D05C02']"
       ]
      }
     ],
     "prompt_number": 408
    },
    {
     "cell_type": "code",
     "collapsed": false,
     "input": [],
     "language": "python",
     "metadata": {},
     "outputs": []
    }
   ],
   "metadata": {}
  }
 ]
}