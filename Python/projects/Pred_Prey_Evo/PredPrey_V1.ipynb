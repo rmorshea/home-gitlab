{
 "metadata": {
  "name": ""
 },
 "nbformat": 3,
 "nbformat_minor": 0,
 "worksheets": [
  {
   "cells": [
    {
     "cell_type": "code",
     "collapsed": false,
     "input": [
      "import numpy as np\n",
      "from random import randint\n",
      "from random import random\n",
      "import random"
     ],
     "language": "python",
     "metadata": {},
     "outputs": [],
     "prompt_number": 1
    },
    {
     "cell_type": "code",
     "collapsed": false,
     "input": [
      "class environment:\n",
      "    def __init__(self):\n",
      "        o_parts={'H':300,'O':300,'C':300,'V':300,'D':300,'S':300,'F':300}"
     ],
     "language": "python",
     "metadata": {},
     "outputs": [],
     "prompt_number": 2
    },
    {
     "cell_type": "code",
     "collapsed": false,
     "input": [
      "class organism:\n",
      "    \n",
      "    #abbreviation: molts\n",
      "    molecule_types=[# 'H' - holder\n",
      "            # 'O' - obsorber\n",
      "            # 'C' - cutter\n",
      "            # 'V' - vein\n",
      "            # 'S' - storage\n",
      "            # 'F' - function\n",
      "            # 'N' - nutrients\n",
      "            # 'D' - digester (only occurs at begining of a path)\n",
      "            'H','O','C','V','S','F','D','N'\n",
      "            ]\n",
      "    \n",
      "    #abbreviation: func_tps\n",
      "    function_types = [# 'su' - sustain (allows organism to continue living)\n",
      "                      # 'co' - consume (process of attaching to and obsorbing nutrients)\n",
      "                      # 'r' - reproduce: based on what organism subclass is used\n",
      "                      's','c','r'\n",
      "                      ]\n",
      "    \n",
      "    #abbreviation: v_cons\n",
      "    valid_cons={# 'V' and 'D' are valid for all connections\n",
      "                    # thus they don't require any validity verification\n",
      "                    'H':['V','D'],\n",
      "                    'O':['V','D'],\n",
      "                    'C':['V','D'],\n",
      "                    'S':['D','F'],\n",
      "                    'F':['S']\n",
      "                    }\n",
      "    \n",
      "    #abbreviation: pc_lims\n",
      "    molecule_limits={'H':10,'O':5,'C':5,'V':15,'D':5,'S':10,'F':3} #piece number limits for each molecule\n",
      "    D_max=5 #maximum number of digesters\n",
      "    \n",
      "    #abbreviation: con_lims\n",
      "    connection_limits={'H':1,'O':1,'C':1,'V':3,'D':4,'S':3,'F':1}#limits on number of connections for each molecule\n",
      "    \n",
      "    #path formater: must format piece numbers to accomadate all possible number values which origionate from the various pieces\n",
      "    path_formater=\"%02d\"\n",
      "    \n",
      "    def __init__(self):\n",
      "        \n",
      "        self.paths = [] #list of all paths in organism\n",
      "        self.num_paths=0 #total number of paths in organism\n",
      "        self.num_Ds=0 #number of digesters\n",
      "        self.max_path_len=randint(1,4) #initial maximum on path length\n",
      "        \n",
      "        \n",
      "        \n",
      "\n",
      "\n",
      "# 'rc' - reproduce: conjugation\n",
      "# 'rd' - reproduce: transduction\n",
      "    'rf','rc','rd'\n",
      "    \n"
     ],
     "language": "python",
     "metadata": {},
     "outputs": [],
     "prompt_number": 226
    },
    {
     "cell_type": "code",
     "collapsed": false,
     "input": [
      "class organism_rf(organism): # 'rf' - reproduction type: transformation\n",
      "    \n",
      "    def add_path_origin(self):\n",
      "        '''adds a path which begins from a new digester'''\n",
      "        \n",
      "        if self.num_Ds<self.D_max: #if possible to add digester\n",
      "            self.num_Ds+=1 #add new digester\n",
      "        else:\n",
      "            return #otherwise don't add a new path\n",
      "        \n",
      "        molts = self.molecule_types #import pieces list\n",
      "        formater = self.path_formater #path_formater\n",
      "        dt = molts[randint(0,len(molts)-2)] #new digester type\n",
      "        P = 'D' + dt + formater % self.num_Ds #begin path with new digester\n",
      "        \n",
      "        self.paths.append(P) #add \\path to \\paths\n",
      "        self.num_paths+=1 #add one to the number of paths\n",
      "        \n",
      "    def edit_path(self,method):\n",
      "        '''edits a previously existing path'''\n",
      "        \n",
      "        #selecting path and path index to edit\n",
      "        molts = self.molecule_types\n",
      "        path_ran = self.num_paths-1 #path index range\n",
      "        path_ind = randint(0,path_ran) #path index\n",
      "        path = self.paths[path_ind].split('/') #selected path to edit\n",
      "        edit_ind = randint(0,len(path)-1) #select path index to edit\n",
      "        \n",
      "        #selecting new piece:\n",
      "        formater = self.path_formater\n",
      "        mol_lims = self.molecule_limits\n",
      "        molt_i = len(molts)-2 #molecule type index range\n",
      "        n_mol = molts[randint(0,molt_i)] #new molecule\n",
      "        if n_mol == 'D':\n",
      "            molt = molts[randint(0,molt_i)] + formater%randint(0,self.D_max) #case for new digester type\n",
      "        elif n_mol != 'N':\n",
      "            molt = formater%randint(1,mol_lims[n_mol]) #case other kind of molecule type\n",
      "        n_mol = n_mol + molt #new molecule\n",
      "        \n",
      "        #edit methods...\n",
      "        \n",
      "        if method == 'amend':\n",
      "            #amend the selected index of the path being edited\n",
      "            path[edit_ind]=n_mol\n",
      "            path = '/'.join(path)\n",
      "            self.paths[path_ind] = path\n",
      "        \n",
      "        if method == 'append':\n",
      "            #append a new molecule following the selected index of the path being edited\n",
      "            path.insert(edit_ind+1,n_mol)\n",
      "            path = '/'.join(path)\n",
      "            self.paths[path_ind] = path\n",
      "        \n",
      "\n",
      "    def path_append(self):\n",
      "        '''adds a path which branches from a previously existing one'''\n",
      "        a=0"
     ],
     "language": "python",
     "metadata": {},
     "outputs": [],
     "prompt_number": 261
    },
    {
     "cell_type": "code",
     "collapsed": false,
     "input": [
      "O=organism_rf()"
     ],
     "language": "python",
     "metadata": {},
     "outputs": [],
     "prompt_number": 274
    },
    {
     "cell_type": "code",
     "collapsed": false,
     "input": [
      "for i in range(6):\n",
      "    O.add_path_origin()\n",
      "print O.paths"
     ],
     "language": "python",
     "metadata": {},
     "outputs": [
      {
       "output_type": "stream",
       "stream": "stdout",
       "text": [
        "['DF01', 'DV02', 'DC03', 'DV04', 'DD05']\n"
       ]
      }
     ],
     "prompt_number": 275
    },
    {
     "cell_type": "code",
     "collapsed": false,
     "input": [
      "for i in range(6):\n",
      "    O.edit_path('append')\n",
      "    O.edit_path('amend')\n",
      "print O.paths"
     ],
     "language": "python",
     "metadata": {},
     "outputs": [
      {
       "output_type": "stream",
       "stream": "stdout",
       "text": [
        "['O02/S04/F02/V13/S02/O01/S07', 'DV02/V01/S07/F03', 'DC03/S01/O01/H01/C04', 'C04/C02/V08', 'S07/H07/C03/F02/S09']\n"
       ]
      }
     ],
     "prompt_number": 284
    },
    {
     "cell_type": "code",
     "collapsed": false,
     "input": [],
     "language": "python",
     "metadata": {},
     "outputs": []
    }
   ],
   "metadata": {}
  }
 ]
}