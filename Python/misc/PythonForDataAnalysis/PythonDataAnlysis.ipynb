{
 "metadata": {
  "name": "",
  "signature": "sha256:900a756373b387f72addcb8240e8b828c2433b8f6ffbe9dbc4c23cd060923b3b"
 },
 "nbformat": 3,
 "nbformat_minor": 0,
 "worksheets": [
  {
   "cells": [
    {
     "cell_type": "markdown",
     "metadata": {},
     "source": [
      "##Chapter 2\n",
      "###Introductory Examples"
     ]
    },
    {
     "cell_type": "code",
     "collapsed": false,
     "input": [
      "path = 'ch02/usagov_bitly_data2012-03-16-1331923249.txt'\n",
      "open(path).readline()"
     ],
     "language": "python",
     "metadata": {},
     "outputs": [
      {
       "metadata": {},
       "output_type": "pyout",
       "prompt_number": 2,
       "text": [
        "'{ \"a\": \"Mozilla\\\\/5.0 (Windows NT 6.1; WOW64) AppleWebKit\\\\/535.11 (KHTML, like Gecko) Chrome\\\\/17.0.963.78 Safari\\\\/535.11\", \"c\": \"US\", \"nk\": 1, \"tz\": \"America\\\\/New_York\", \"gr\": \"MA\", \"g\": \"A6qOVH\", \"h\": \"wfLQtf\", \"l\": \"orofrog\", \"al\": \"en-US,en;q=0.8\", \"hh\": \"1.usa.gov\", \"r\": \"http:\\\\/\\\\/www.facebook.com\\\\/l\\\\/7AQEFzjSi\\\\/1.usa.gov\\\\/wfLQtf\", \"u\": \"http:\\\\/\\\\/www.ncbi.nlm.nih.gov\\\\/pubmed\\\\/22415991\", \"t\": 1331923247, \"hc\": 1331822918, \"cy\": \"Danvers\", \"ll\": [ 42.576698, -70.954903 ] }\\n'"
       ]
      }
     ],
     "prompt_number": 2
    },
    {
     "cell_type": "code",
     "collapsed": false,
     "input": [
      "import json\n",
      "records = [json.loads(line) for line in open(path)]\n",
      "records[7]"
     ],
     "language": "python",
     "metadata": {},
     "outputs": [
      {
       "metadata": {},
       "output_type": "pyout",
       "prompt_number": 20,
       "text": [
        "{u'a': u'Mozilla/5.0 (Windows NT 6.1; rv:2.0.1) Gecko/20100101 Firefox/4.0.1',\n",
        " u'al': u'bg,en-us;q=0.7,en;q=0.3',\n",
        " u'c': None,\n",
        " u'g': u'wcndER',\n",
        " u'h': u'zkpJBR',\n",
        " u'hc': 1331922854,\n",
        " u'hh': u'1.usa.gov',\n",
        " u'l': u'bnjacobs',\n",
        " u'nk': 0,\n",
        " u'r': u'http://www.facebook.com/',\n",
        " u't': 1331923255,\n",
        " u'tz': u'',\n",
        " u'u': u'http://www.nasa.gov/mission_pages/nustar/main/index.html'}"
       ]
      }
     ],
     "prompt_number": 20
    },
    {
     "cell_type": "code",
     "collapsed": false,
     "input": [
      "print records[0]['a']\n",
      "print records[1]['a']\n",
      "print records[0]['r']\n",
      "print records[1]['r']\n",
      "print records[0]['tz']\n",
      "print records[1]['tz']"
     ],
     "language": "python",
     "metadata": {},
     "outputs": [
      {
       "output_type": "stream",
       "stream": "stdout",
       "text": [
        "Mozilla/5.0 (Windows NT 6.1; WOW64) AppleWebKit/535.11 (KHTML, like Gecko) Chrome/17.0.963.78 Safari/535.11\n",
        "GoogleMaps/RochesterNY\n",
        "http://www.facebook.com/l/7AQEFzjSi/1.usa.gov/wfLQtf\n",
        "http://www.AwareMap.com/\n",
        "America/New_York\n",
        "America/Denver\n"
       ]
      }
     ],
     "prompt_number": 11
    },
    {
     "cell_type": "code",
     "collapsed": false,
     "input": [
      "Timezones = [i_rec['tz'] if 'tz' in i_rec and i_rec['tz'] != '' else '!-empty' for i_rec in records]\n",
      "for i in range(13):\n",
      "    print Timezones[i]"
     ],
     "language": "python",
     "metadata": {},
     "outputs": [
      {
       "output_type": "stream",
       "stream": "stdout",
       "text": [
        "America/New_York\n",
        "America/Denver\n",
        "America/New_York\n",
        "America/Sao_Paulo\n",
        "America/New_York\n",
        "America/New_York\n",
        "Europe/Warsaw\n",
        "!-empty\n",
        "!-empty\n",
        "!-empty\n",
        "America/Los_Angeles\n",
        "America/New_York\n",
        "America/New_York\n"
       ]
      }
     ],
     "prompt_number": 41
    },
    {
     "cell_type": "code",
     "collapsed": false,
     "input": [
      "filtTimezones = [tz for tz in Timezones if tz!='!-empty']\n",
      "for i in range(10):\n",
      "    print filtTimezones[i]"
     ],
     "language": "python",
     "metadata": {},
     "outputs": [
      {
       "output_type": "stream",
       "stream": "stdout",
       "text": [
        "America/New_York\n",
        "America/Denver\n",
        "America/New_York\n",
        "America/Sao_Paulo\n",
        "America/New_York\n",
        "America/New_York\n",
        "Europe/Warsaw\n",
        "America/Los_Angeles\n",
        "America/New_York\n",
        "America/New_York\n"
       ]
      }
     ],
     "prompt_number": 42
    },
    {
     "cell_type": "code",
     "collapsed": false,
     "input": [
      "from collections import defaultdict"
     ],
     "language": "python",
     "metadata": {},
     "outputs": [],
     "prompt_number": 43
    },
    {
     "cell_type": "code",
     "collapsed": false,
     "input": [
      "def get_counts(sequence):\n",
      "    counts = defaultdict(int)\n",
      "    for el in sequence:\n",
      "        counts[el] += 1\n",
      "    return counts"
     ],
     "language": "python",
     "metadata": {},
     "outputs": [],
     "prompt_number": 45
    },
    {
     "cell_type": "code",
     "collapsed": false,
     "input": [
      "for zone,count in get_counts(filtTimezones).items()[:10]:\n",
      "    print zone,count"
     ],
     "language": "python",
     "metadata": {},
     "outputs": [
      {
       "output_type": "stream",
       "stream": "stdout",
       "text": [
        "Europe/Lisbon 8\n",
        "Asia/Calcutta 9\n",
        "Europe/Skopje 1\n",
        "Europe/Copenhagen 5\n",
        "Europe/Amsterdam 22\n",
        "America/Phoenix 20\n",
        "Europe/Moscow 10\n",
        "Europe/Madrid 35\n",
        "Asia/Dubai 4\n",
        "America/Mazatlan 1\n"
       ]
      }
     ],
     "prompt_number": 69
    },
    {
     "cell_type": "code",
     "collapsed": false,
     "input": [
      "from collections import Counter"
     ],
     "language": "python",
     "metadata": {},
     "outputs": [],
     "prompt_number": 72
    },
    {
     "cell_type": "code",
     "collapsed": false,
     "input": [
      "counts = Counter(Timezones)"
     ],
     "language": "python",
     "metadata": {},
     "outputs": [],
     "prompt_number": 74
    },
    {
     "cell_type": "code",
     "collapsed": false,
     "input": [],
     "language": "python",
     "metadata": {},
     "outputs": []
    }
   ],
   "metadata": {}
  }
 ]
}