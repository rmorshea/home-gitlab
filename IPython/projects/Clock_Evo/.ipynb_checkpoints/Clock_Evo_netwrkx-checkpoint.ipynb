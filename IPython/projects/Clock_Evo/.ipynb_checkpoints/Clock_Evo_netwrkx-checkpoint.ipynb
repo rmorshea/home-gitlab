{
 "metadata": {
  "name": ""
 },
 "nbformat": 3,
 "nbformat_minor": 0,
 "worksheets": [
  {
   "cells": [
    {
     "cell_type": "markdown",
     "metadata": {},
     "source": [
      "This project is based on the common strawman argument from creationists which upholds the view that evolution is akin to taking apart a clock (a complex and intricate object), throwing it in a box, and shaking the box for millions of years expecting a clock to emerge at the end. this is clearly a false analogy when you consider that clocks are not living organisms subject to the pressures of natural selection where the parts themselves have an affinity for each other. this program here seeks to demonstrate how a clock could form if it were subject to the same pressures which are put on organisms in the natural world. In terms of generating structures this is probably most analagous to the spotanious generation of complex protien structures which have natural affinites for eachother."
     ]
    },
    {
     "cell_type": "code",
     "collapsed": false,
     "input": [
      "%matplotlib inline"
     ],
     "language": "python",
     "metadata": {},
     "outputs": [],
     "prompt_number": 1
    },
    {
     "cell_type": "raw",
     "metadata": {},
     "source": [
      "define key characteristics of the clock or \"organism\" (i.e. how many gears, how many ratchet, and how each part can connect to other parts)"
     ]
    },
    {
     "cell_type": "code",
     "collapsed": false,
     "input": [
      "orgs = {}\n",
      "parts = ['gears','ratchet','hands','spring','housing'] #list of parts in each \"organism\"\n",
      "\n",
      "subparts = []\n",
      "num_g = 30 #30 gears\n",
      "num_h = 7 #7 hands\n",
      "\n",
      "for k in range(1,num_g+1):\n",
      "    subparts.append('g{0}'.format(k))\n",
      "subparts.append('r')\n",
      "for k1 in range(1,num_h+1):\n",
      "    subparts.append('h{0}'.format(k1))\n",
      "subparts.append('s')\n",
      "subparts.append('H')\n",
      "\n",
      "print subparts #30 gears, 1 ratchet, 7 hands, 1 spring, and 1 housing. each individual part is called a subpart.\n",
      "               #so a part would be a gear while a subpart would be gear number 'n' denoted below as 'gn'."
     ],
     "language": "python",
     "metadata": {},
     "outputs": [
      {
       "output_type": "stream",
       "stream": "stdout",
       "text": [
        "['g1', 'g2', 'g3', 'g4', 'g5', 'g6', 'g7', 'g8', 'g9', 'g10', 'g11', 'g12', 'g13', 'g14', 'g15', 'g16', 'g17', 'g18', 'g19', 'g20', 'g21', 'g22', 'g23', 'g24', 'g25', 'g26', 'g27', 'g28', 'g29', 'g30', 'r', 'h1', 'h2', 'h3', 'h4', 'h5', 'h6', 'h7', 's', 'H']\n"
       ]
      }
     ],
     "prompt_number": 2
    },
    {
     "cell_type": "code",
     "collapsed": false,
     "input": [
      "pos_cons = []\n",
      "for k in range(1,num_g+1):\n",
      "    pos_cons.append('g{0}C'.format(k))\n",
      "    pos_cons.append('g{0}R'.format(k))\n",
      "pos_cons.append('rC')\n",
      "pos_cons.append('rR')\n",
      "for k1 in range(1,num_h+1):\n",
      "    pos_cons.append('h{0}A'.format(k1))\n",
      "    pos_cons.append('h{0}B'.format(k1))\n",
      "pos_cons.append('sC')\n",
      "pos_cons.append('sR')\n",
      "pos_cons.append('HC')\n",
      "\n",
      "part_cons = []\n",
      "for k in range(1,num_g+1):\n",
      "    part_cons.append(['g{0}C'.format(k),'g{0}R'.format(k)])\n",
      "part_cons.append(['rC','rR'])\n",
      "for k1 in range(1,num_h+1):\n",
      "    part_cons.append(['h{0}A'.format(k1),'h{0}B'.format(k1)])\n",
      "part_cons.append(['sC','sR'])\n",
      "\n",
      "print pos_cons\n",
      "print\n",
      "print part_cons\n",
      "\n",
      "#working with the properties that each part has, pos_cons, a list of all possible connection points, is created.\n",
      "#each gear can connect to it's center or it's rim (C or R) they can be connected at more than one place on the rim.\n",
      "#the ratchet can connect to it's center mounting point or the actual ratcheting device (C or R)\n",
      "#the hands of the clock can be attached at either of their ends (A or B)\n",
      "#the spring can connect to it's center or it's rim (C or R)\n",
      "#the housing can only be connected at one point. any functional clock must be attched to the housing first."
     ],
     "language": "python",
     "metadata": {},
     "outputs": [
      {
       "output_type": "stream",
       "stream": "stdout",
       "text": [
        "['g1C', 'g1R', 'g2C', 'g2R', 'g3C', 'g3R', 'g4C', 'g4R', 'g5C', 'g5R', 'g6C', 'g6R', 'g7C', 'g7R', 'g8C', 'g8R', 'g9C', 'g9R', 'g10C', 'g10R', 'g11C', 'g11R', 'g12C', 'g12R', 'g13C', 'g13R', 'g14C', 'g14R', 'g15C', 'g15R', 'g16C', 'g16R', 'g17C', 'g17R', 'g18C', 'g18R', 'g19C', 'g19R', 'g20C', 'g20R', 'g21C', 'g21R', 'g22C', 'g22R', 'g23C', 'g23R', 'g24C', 'g24R', 'g25C', 'g25R', 'g26C', 'g26R', 'g27C', 'g27R', 'g28C', 'g28R', 'g29C', 'g29R', 'g30C', 'g30R', 'rC', 'rR', 'h1A', 'h1B', 'h2A', 'h2B', 'h3A', 'h3B', 'h4A', 'h4B', 'h5A', 'h5B', 'h6A', 'h6B', 'h7A', 'h7B', 'sC', 'sR', 'HC']\n",
        "\n",
        "[['g1C', 'g1R'], ['g2C', 'g2R'], ['g3C', 'g3R'], ['g4C', 'g4R'], ['g5C', 'g5R'], ['g6C', 'g6R'], ['g7C', 'g7R'], ['g8C', 'g8R'], ['g9C', 'g9R'], ['g10C', 'g10R'], ['g11C', 'g11R'], ['g12C', 'g12R'], ['g13C', 'g13R'], ['g14C', 'g14R'], ['g15C', 'g15R'], ['g16C', 'g16R'], ['g17C', 'g17R'], ['g18C', 'g18R'], ['g19C', 'g19R'], ['g20C', 'g20R'], ['g21C', 'g21R'], ['g22C', 'g22R'], ['g23C', 'g23R'], ['g24C', 'g24R'], ['g25C', 'g25R'], ['g26C', 'g26R'], ['g27C', 'g27R'], ['g28C', 'g28R'], ['g29C', 'g29R'], ['g30C', 'g30R'], ['rC', 'rR'], ['h1A', 'h1B'], ['h2A', 'h2B'], ['h3A', 'h3B'], ['h4A', 'h4B'], ['h5A', 'h5B'], ['h6A', 'h6B'], ['h7A', 'h7B'], ['sC', 'sR']]\n"
       ]
      }
     ],
     "prompt_number": 3
    },
    {
     "cell_type": "raw",
     "metadata": {},
     "source": [
      "initilize the population with organisms and random organism characteristics\n",
      "\n",
      "the features which characterize an organism include what pieces are connected and which are not. lists of individual connections will be created and then combined to show the evolving networks. networks of connections which are better suited to performing as a functional clock are selected for through a process that will be detailed later."
     ]
    },
    {
     "cell_type": "code",
     "collapsed": false,
     "input": [
      "from random import random as rand\n",
      "from random import randint\n",
      "num_O = 10 #number of organisms in the population\n",
      "for org in range(1,num_O+1): #make organisms\n",
      "    orgs['O{0}'.format(org)]={}\n",
      "    for part in parts: #iterate through the list of parts\n",
      "        orgs['O{0}'.format(org)][part]={}\n",
      "        if part=='gears': #creating gears\n",
      "            for g in range(1,num_g+1): #create individual connections for each gear. this iterates through subparts.\n",
      "                orgs['O{0}'.format(org)][part]['g{0}'.format(g)]=[0,0,0]\n",
      "                for init in range(1,3): #two possible connections to iterate through initially\n",
      "                    if rand()<0.4: #probability that the gear will be connected\n",
      "                        con = pos_cons[randint(1,len(pos_cons)-1)] #generate random connection from pos_cons list\n",
      "                        if con[:-1]!='g{0}'.format(g): #if it is not connected to itself ascribe the connection to the gear\n",
      "                            orgs['O{0}'.format(org)][part]['g{0}'.format(g)][init] = con\n",
      "                orgs['O{0}'.format(org)][part]['g{0}'.format(g)][0]=(randint(4,1000)) #generate random number of teeth on each gear\n",
      "        if part=='ratchet': #creating ratchet\n",
      "            orgs['O{0}'.format(org)][part]['r']=[0,0] #ratchet has no subparts since there is only one\n",
      "            for init in range(2):\n",
      "                if rand()<0.4: \n",
      "                    con = pos_cons[randint(1,len(pos_cons)-1)]\n",
      "                    if con[:-1]!='r': \n",
      "                         orgs['O{0}'.format(org)][part]['r'][init] = con\n",
      "        if part=='hands': #creating clock hands\n",
      "            for h in range(1,num_h+1):\n",
      "                orgs['O{0}'.format(org)][part]['h{0}'.format(h)]=[0,0]\n",
      "                for init in range(2):\n",
      "                    if rand()<0.4:\n",
      "                        con = pos_cons[randint(1,len(pos_cons)-1)]\n",
      "                        if con[:-1]!='h{0}'.format(h):\n",
      "                            orgs['O{0}'.format(org)][part]['h{0}'.format(h)][init] = con\n",
      "        if part=='spring': #creating spring\n",
      "            orgs['O{0}'.format(org)][part]['s']=[0,0] #spring has no subparts since there is only one\n",
      "            for init in range(2):\n",
      "                if rand()<0.7:\n",
      "                    con = pos_cons[randint(1,len(pos_cons)-1)]\n",
      "                    if con[:-1]!='s':\n",
      "                        orgs['O{0}'.format(org)][part]['s'][init] = con\n",
      "        if part=='housing': #creating housing\n",
      "            orgs['O{0}'.format(org)][part]['H']=[0] #housing has no subparts since there is only one with a single connection point\n",
      "            if rand()<0.6:\n",
      "                 con = pos_cons[randint(1,len(pos_cons)-1)]\n",
      "                 if con[:-1]!='H':\n",
      "                    orgs['O{0}'.format(org)][part]['H'] = con"
     ],
     "language": "python",
     "metadata": {},
     "outputs": [],
     "prompt_number": 34
    },
    {
     "cell_type": "raw",
     "metadata": {},
     "source": [
      "all the following work is conducted on a single organism and will later be made into functions that can be called on later once i need to implament generational changes and competition between organisms."
     ]
    },
    {
     "cell_type": "code",
     "collapsed": false,
     "input": [
      "#get_con_vals is the only function used in this section.\n",
      "def isolate(num_O):\n",
      "    iso = []\n",
      "    for i in range(3):\n",
      "        iso.append(randint(1,num_O+1))\n",
      "    return iso\n",
      "\n",
      "def is_number(s):\n",
      "    try:\n",
      "        float(s)\n",
      "        return True\n",
      "    except ValueError:\n",
      "        return False\n",
      "\n",
      "def get_num(part):\n",
      "    part_num = part[1:len(part)]\n",
      "    if is_number(part_num)==True:\n",
      "        return int(part_num)\n",
      "    else:\n",
      "        return part\n",
      "    \n",
      "def get_con_vals(orgs,O_num,):\n",
      "    list = []\n",
      "    for part in dict.keys(orgs[O_num]):\n",
      "        for subpart in orgs[O_num][part]:\n",
      "            list.append([subpart,orgs[O_num][part][subpart]])\n",
      "    return list\n",
      "\n",
      "def no_digits(s):\n",
      "    string = []\n",
      "    for i in s:\n",
      "        if not i.isdigit():\n",
      "            string.append(i)\n",
      "    return ''.join(string)"
     ],
     "language": "python",
     "metadata": {},
     "outputs": [],
     "prompt_number": 35
    },
    {
     "cell_type": "code",
     "collapsed": false,
     "input": [
      "con_vals = get_con_vals(orgs,'O1')\n",
      "#gather connection values from within the nested dictionary 'orgs'. here if the value is 0, then the part is not connected\n",
      "#at that point. the index of each value is significant; in gears (g) index 0 is the number of teeth on the gears\n",
      "#while index 1 and index 2 show where the center and rim are connected to respectively. these indexes are used later to create\n",
      "#a list of individual connections\n",
      "con_vals"
     ],
     "language": "python",
     "metadata": {},
     "outputs": [
      {
       "metadata": {},
       "output_type": "pyout",
       "prompt_number": 36,
       "text": [
        "[['s', ['h4A', 0]],\n",
        " ['H', 'g23C'],\n",
        " ['r', [0, 0]],\n",
        " ['g26', [611, 'h1A', 0]],\n",
        " ['g27', [167, 0, 0]],\n",
        " ['g24', [289, 'g27R', 'g6R']],\n",
        " ['g25', [724, 'g9R', 0]],\n",
        " ['g22', [106, 'g11C', 0]],\n",
        " ['g23', [416, 0, 0]],\n",
        " ['g20', [648, 'g5R', 0]],\n",
        " ['g21', [666, 'rC', 0]],\n",
        " ['g28', [387, 0, 0]],\n",
        " ['g29', [305, 'h5B', 0]],\n",
        " ['g7', [806, 0, 0]],\n",
        " ['g6', [362, 0, 0]],\n",
        " ['g5', [907, 'g21C', 0]],\n",
        " ['g4', [195, 0, 0]],\n",
        " ['g3', [495, 'rC', 'g8R']],\n",
        " ['g2', [890, 'g1R', 0]],\n",
        " ['g1', [210, 'g2C', 0]],\n",
        " ['g9', [283, 'g24C', 'h5A']],\n",
        " ['g8', [737, 0, 'g14C']],\n",
        " ['g30', [930, 'g11R', 0]],\n",
        " ['g19', [600, 0, 0]],\n",
        " ['g18', [269, 0, 0]],\n",
        " ['g17', [990, 0, 0]],\n",
        " ['g16', [941, 'g9C', 0]],\n",
        " ['g15', [431, 0, 0]],\n",
        " ['g14', [298, 0, 'g9R']],\n",
        " ['g13', [91, 'g6C', 0]],\n",
        " ['g12', [144, 0, 0]],\n",
        " ['g11', [992, 0, 0]],\n",
        " ['g10', [848, 0, 'h6B']],\n",
        " ['h2', ['g3R', 'g24R']],\n",
        " ['h3', [0, 0]],\n",
        " ['h1', ['g28C', 'g15C']],\n",
        " ['h6', ['HC', 0]],\n",
        " ['h7', [0, 0]],\n",
        " ['h4', [0, 0]],\n",
        " ['h5', ['g8R', 0]]]"
       ]
      }
     ],
     "prompt_number": 36
    },
    {
     "cell_type": "code",
     "collapsed": false,
     "input": [
      "def get_connections(con_vals):\n",
      "    cons = []\n",
      "    for i in part_cons:\n",
      "        cons.append(i)\n",
      "    for i in con_vals:\n",
      "        if i[0][0]=='h':\n",
      "            count = 0\n",
      "            for j in i[1]:\n",
      "                if j!=0 and count==0:\n",
      "                    cons.append([i[0]+'A',j])\n",
      "                if j!=0 and count!=0:\n",
      "                    cons.append([i[0]+'B',j])\n",
      "                count+=1\n",
      "        if i[0][0]=='g':\n",
      "            count = 0\n",
      "            for j in i[1][1:2]:\n",
      "                if j!=0 and count==1:\n",
      "                    cons.append([i[0]+'C',j])\n",
      "                if j!=0 and count>1:\n",
      "                    cons.append([i[0]+'R',j])\n",
      "                count+=1\n",
      "        if i[0][0]=='H':\n",
      "            if j!=0:\n",
      "                cons.append([i[0]+'C',j])\n",
      "        if i[0][0]=='r' or i[0][0]=='s':\n",
      "            count = 0\n",
      "            for j in i[1]:\n",
      "                if j!=0 and count==0:\n",
      "                    cons.append([i[0]+'C',j])\n",
      "                if j!=0 and count!=0:\n",
      "                    cons.append([i[0]+'R',j])\n",
      "                count+=1\n",
      "    return cons"
     ],
     "language": "python",
     "metadata": {},
     "outputs": [],
     "prompt_number": 37
    },
    {
     "cell_type": "code",
     "collapsed": false,
     "input": [
      "con_list = get_connections(con_vals)\n",
      "#get_connections produces a list of individual connections in an organism\n",
      "print con_list"
     ],
     "language": "python",
     "metadata": {},
     "outputs": [
      {
       "output_type": "stream",
       "stream": "stdout",
       "text": [
        "[['g1C', 'g1R'], ['g2C', 'g2R'], ['g3C', 'g3R'], ['g4C', 'g4R'], ['g5C', 'g5R'], ['g6C', 'g6R'], ['g7C', 'g7R'], ['g8C', 'g8R'], ['g9C', 'g9R'], ['g10C', 'g10R'], ['g11C', 'g11R'], ['g12C', 'g12R'], ['g13C', 'g13R'], ['g14C', 'g14R'], ['g15C', 'g15R'], ['g16C', 'g16R'], ['g17C', 'g17R'], ['g18C', 'g18R'], ['g19C', 'g19R'], ['g20C', 'g20R'], ['g21C', 'g21R'], ['g22C', 'g22R'], ['g23C', 'g23R'], ['g24C', 'g24R'], ['g25C', 'g25R'], ['g26C', 'g26R'], ['g27C', 'g27R'], ['g28C', 'g28R'], ['g29C', 'g29R'], ['g30C', 'g30R'], ['rC', 'rR'], ['h1A', 'h1B'], ['h2A', 'h2B'], ['h3A', 'h3B'], ['h4A', 'h4B'], ['h5A', 'h5B'], ['h6A', 'h6B'], ['h7A', 'h7B'], ['sC', 'sR'], ['sC', 'h4A'], ['h2A', 'g3R'], ['h2B', 'g24R'], ['h1A', 'g28C'], ['h1B', 'g15C'], ['h6A', 'HC'], ['h5A', 'g8R']]\n"
       ]
      }
     ],
     "prompt_number": 38
    },
    {
     "cell_type": "raw",
     "metadata": {},
     "source": [
      "Formation of networks from individual connections begins"
     ]
    },
    {
     "cell_type": "code",
     "collapsed": false,
     "input": [
      "import networkx as nx\n",
      "import matplotlib.pylab as plt"
     ],
     "language": "python",
     "metadata": {},
     "outputs": [],
     "prompt_number": 39
    },
    {
     "cell_type": "code",
     "collapsed": false,
     "input": [
      "G=nx.Graph()\n",
      "for i in con_list:\n",
      "    G.add_edge(i[0],i[1])\n",
      "\n",
      "#G.adjacency_iter(\n",
      "pos=nx.drawing.layout.shell_layout(G)\n",
      "plt.Figure(figsize=(10,10))\n",
      "nx.draw_networkx_nodes(G,pos,node_size=15)\n",
      "nx.draw_networkx_edges(G,pos)\n",
      "plt.show()"
     ],
     "language": "python",
     "metadata": {},
     "outputs": [
      {
       "metadata": {},
       "output_type": "display_data",
       "png": "[encoded data removed]",
       "text": [
        "<matplotlib.figure.Figure at 0x1080e7c50>"
       ]
      }
     ],
     "prompt_number": 48
    },
    {
     "cell_type": "code",
     "collapsed": false,
     "input": [
      "a=nx.connected_components(G)\n",
      "b=nx.Graph.neighbors(G,'HC')\n",
      "\n",
      "print a\n",
      "print\n",
      "print b"
     ],
     "language": "python",
     "metadata": {},
     "outputs": [
      {
       "output_type": "stream",
       "stream": "stdout",
       "text": [
        "[['g28C', 'g15C'], ['g5C', 'g5R'], ['g13C', 'g13R'], ['g3R', 'g24C'], ['g7C', 'g7R'], ['g12R', 'g12C'], ['g18R', 'g18C'], ['g1C', 'g1R'], ['g6R', 'g6C'], ['g4R', 'g4C'], ['rR', 'rC'], ['h6A', 'HC'], ['h3B', 'h3A'], ['g27R', 'g27C'], ['g10R', 'g10C'], ['g9C', 'g9R'], ['h5A', 'g8C'], ['g14R', 'g14C'], ['g25R', 'g25C'], ['g16R', 'g16C'], ['g21R', 'g21C'], ['h7B', 'h7A'], ['g19C', 'g19R'], ['g23R', 'g23C'], ['g11C', 'g11R'], ['g29R', 'g29C'], ['g2R', 'g2C'], ['sC', 'sR'], ['g30R', 'g30C'], ['g22C', 'g22R'], ['g17C', 'g17R'], ['g26C', 'g26R'], ['g20C', 'g20R']]\n",
        "\n",
        "['h6A']\n"
       ]
      }
     ],
     "prompt_number": 53
    }
   ],
   "metadata": {}
  }
 ]
}