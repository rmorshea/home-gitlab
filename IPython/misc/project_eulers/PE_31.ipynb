{
 "metadata": {
  "name": ""
 },
 "nbformat": 3,
 "nbformat_minor": 0,
 "worksheets": [
  {
   "cells": [
    {
     "cell_type": "markdown",
     "metadata": {},
     "source": [
      "In England the currency is made up of pound, \u00a3, and pence, p, and there are eight coins in general circulation:\n",
      "\n",
      "$1$p, $2$p, $5$p, $10$p, $20$p, $50$p, \u00a3$1$ ($100$p) and \u00a3$2$ (200p).\n",
      "It is possible to make \u00a3$2$ in the following way:\n",
      "\n",
      "$1\\times1$p$ + 1\\times50$p$ + 2\\times20$p$ + 1\\times5$p$ + 1\\times2$p$ + 3\\times1$p\n",
      "How many different ways can \u00a3$2$ be made using any number of coins?"
     ]
    },
    {
     "cell_type": "code",
     "collapsed": false,
     "input": [
      "from timeit import default_timer as timer"
     ],
     "language": "python",
     "metadata": {},
     "outputs": [],
     "prompt_number": 3
    },
    {
     "cell_type": "code",
     "collapsed": false,
     "input": [
      "'''brute force method. requires approximately 20 minutes.'''\n",
      "\n",
      "def Ways(goal):\n",
      "    counter = 1\n",
      "    for a in range(201):\n",
      "        for b in range(101):\n",
      "            for c in range(41):\n",
      "                for d in range(21):\n",
      "                    for e in range(11):\n",
      "                        for f in range(5):\n",
      "                            for g in range(3):\n",
      "                                if (a*1)+(b*2)+(c*5)+(d*10)+(e*20)+(f*50)+(g*100)==goal:\n",
      "                                    counter +=1\n",
      "    return counter\n",
      "#counter pluss 1 because the single 2 pound coin case is not included in the loops.\n",
      "start = timer()  \n",
      "ans=Ways(200)\n",
      "elapsed_time = (timer() - start)/60 # units: minutes\n",
      "print \"Found %d in %r m.\" % (ans, round(elapsed_time,2))"
     ],
     "language": "python",
     "metadata": {},
     "outputs": [
      {
       "output_type": "stream",
       "stream": "stdout",
       "text": [
        "Found 73682 in 31.33 m.\n"
       ]
      }
     ],
     "prompt_number": 5
    },
    {
     "cell_type": "code",
     "collapsed": false,
     "input": [
      "coins = [1, 2, 5, 10, 20, 50, 100, 200]\n",
      "prim_target=200\n",
      "print\n",
      "def Ways(target,max_ind,count=0):\n",
      "    for i in range(0,max_ind):\n",
      "        current=coins[i]\n",
      "        if current==1:\n",
      "            count+=1\n",
      "        else:\n",
      "            for j in range(1,target/current+1):\n",
      "                n_target=target-j*current\n",
      "                if n_target==0:\n",
      "                    count+=1\n",
      "                else:\n",
      "                    count=Ways(n_target,i,count)\n",
      "    return count\n",
      "    \n",
      "\n",
      "start = timer()  \n",
      "ans=Ways(200,8,0)\n",
      "elapsed_time = (timer() - start) * 1000 # convert: s --> ms\n",
      "print \"Found %d in %r ms.\" % (ans, round(elapsed_time,2))"
     ],
     "language": "python",
     "metadata": {},
     "outputs": [
      {
       "output_type": "stream",
       "stream": "stdout",
       "text": [
        "\n",
        "Found 73682 in 125.63 ms."
       ]
      },
      {
       "output_type": "stream",
       "stream": "stdout",
       "text": [
        "\n"
       ]
      }
     ],
     "prompt_number": 14
    },
    {
     "cell_type": "code",
     "collapsed": false,
     "input": [
      "from bisect import bisect as bsct\n",
      "coins = [1, 2, 5, 10, 20, 50, 100, 200]\n",
      "prim_target=200\n",
      "\n",
      "def Ways(target,max_ind,Dic={},count=0):\n",
      "    try:\n",
      "        count=Dic[target]\n",
      "        return count\n",
      "    except:\n",
      "        for i in range(0,max_ind):\n",
      "            current=coins[i]\n",
      "            if current==1:\n",
      "                count+=1\n",
      "            else:\n",
      "                for j in range(1,target/current+1):\n",
      "                    n_target=target-j*current\n",
      "                    if n_target==0:\n",
      "                        count+=1\n",
      "                    else:\n",
      "                        count=Ways(n_target,i,Dic,count)\n",
      "        return count\n",
      "\n",
      "    \n",
      "def Fast_Ways(TARGET,coins):\n",
      "    Dic={}\n",
      "    for num in range(2,99):\n",
      "        ind=bsct(coins,num)-1\n",
      "        Dic[num]=Ways(num,ind,Dic)\n",
      "    print Dic\n",
      "\n",
      "    \n",
      "\n",
      "start = timer()  \n",
      "ans = Fast_Ways(200,coins)\n",
      "elapsed_time = (timer() - start) * 1000 # convert: s --> ms\n",
      "print \"Found {0} in {1} ms.\".format(ans, round(elapsed_time,2))"
     ],
     "language": "python",
     "metadata": {},
     "outputs": [
      {
       "output_type": "stream",
       "stream": "stdout",
       "text": [
        "{2: 1, 3: 1, 4: 1, 5: 2, 6: 2, 7: 2, 8: 2, 9: 2, 10: 3, 11: 3, 12: 1, 13: 1, 14: 1, 15: 3, 16: 3, 17: 1, 18: 1, 19: 1, 20: 4, 21: 4, 22: 1, 23: 1, 24: 1, 25: 2, 26: 2, 27: 2, 28: 2, 29: 2, 30: 4, 31: 4, 32: 1, 33: 1, 34: 1, 35: 2, 36: 2, 37: 2, 38: 2, 39: 2, 40: 4, 41: 4, 42: 1, 43: 1, 44: 1, 45: 2, 46: 2, 47: 2, 48: 2, 49: 2, 50: 3, 51: 3, 52: 1, 53: 1, 54: 1, 55: 3, 56: 3, 57: 1, 58: 1, 59: 1, 60: 5, 61: 5, 62: 1, 63: 1, 64: 1, 65: 2, 66: 2, 67: 2, 68: 2, 69: 2, 70: 3, 71: 3, 72: 1, 73: 1, 74: 1, 75: 3, 76: 3, 77: 1, 78: 1, 79: 1, 80: 5, 81: 5, 82: 1, 83: 1, 84: 1, 85: 2, 86: 2, 87: 2, 88: 2, 89: 2, 90: 3, 91: 3, 92: 1, 93: 1, 94: 1, 95: 3, 96: 3, 97: 1, 98: 1}\n",
        "Found None in 3.92 ms.\n"
       ]
      }
     ],
     "prompt_number": 5
    },
    {
     "cell_type": "code",
     "collapsed": false,
     "input": [
      "Ways(3,1)"
     ],
     "language": "python",
     "metadata": {},
     "outputs": [
      {
       "metadata": {},
       "output_type": "pyout",
       "prompt_number": 43,
       "text": [
        "1"
       ]
      }
     ],
     "prompt_number": 43
    },
    {
     "cell_type": "code",
     "collapsed": false,
     "input": [
      "coins.index(2)"
     ],
     "language": "python",
     "metadata": {},
     "outputs": [
      {
       "metadata": {},
       "output_type": "pyout",
       "prompt_number": 21,
       "text": [
        "1"
       ]
      }
     ],
     "prompt_number": 21
    },
    {
     "cell_type": "code",
     "collapsed": false,
     "input": [
      "from bisect import bisect as bsct"
     ],
     "language": "python",
     "metadata": {},
     "outputs": [],
     "prompt_number": 1
    },
    {
     "cell_type": "code",
     "collapsed": false,
     "input": [
      "bsct"
     ],
     "language": "python",
     "metadata": {},
     "outputs": [],
     "prompt_number": 68
    },
    {
     "cell_type": "code",
     "collapsed": false,
     "input": [],
     "language": "python",
     "metadata": {},
     "outputs": []
    }
   ],
   "metadata": {}
  }
 ]
}