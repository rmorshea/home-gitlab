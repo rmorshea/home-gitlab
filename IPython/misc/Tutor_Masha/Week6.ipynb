{
 "metadata": {
  "name": ""
 },
 "nbformat": 3,
 "nbformat_minor": 0,
 "worksheets": [
  {
   "cells": [
    {
     "cell_type": "code",
     "collapsed": false,
     "input": [
      "import numpy as np\n",
      "import matplotlib.pyplot as plt \n",
      "%matplotlib inline"
     ],
     "language": "python",
     "metadata": {},
     "outputs": [],
     "prompt_number": 9
    },
    {
     "cell_type": "markdown",
     "metadata": {},
     "source": [
      "Project Euler 19\n",
      "---"
     ]
    },
    {
     "cell_type": "code",
     "collapsed": false,
     "input": [
      "month=[31,28,29,31,30,31,30,31,31,30,31,30,31]"
     ],
     "language": "python",
     "metadata": {},
     "outputs": [],
     "prompt_number": 3
    },
    {
     "cell_type": "code",
     "collapsed": false,
     "input": [
      "def is_leap(y):\n",
      "    '''determines if it's a leap year and returns True of False'''\n",
      "    leap=(y%4==0,y%400!=0)\n",
      "    true=(True,True)\n",
      "    if leap==true:\n",
      "        return True\n",
      "    if leap!=true:\n",
      "        return False\n",
      "\n",
      "def d_in_m(m,l):\n",
      "    '''finds the number of days in a month given whether it's a leap year and the month'''\n",
      "    if l==True:\n",
      "        if m==1:\n",
      "            m=m-1\n",
      "        if m==2:\n",
      "            m=2\n",
      "        return month[m]\n",
      "    if l==False:\n",
      "        if m==1:\n",
      "            m=m-1\n",
      "        if m==2:\n",
      "            m=1\n",
      "        return month[m]"
     ],
     "language": "python",
     "metadata": {},
     "outputs": [],
     "prompt_number": 4
    },
    {
     "cell_type": "code",
     "collapsed": false,
     "input": [
      "count=0\n",
      "meter=1\n",
      "for y in range(1900,2000):\n",
      "    l=is_leap(y)\n",
      "    for m in range(1,13):\n",
      "        meter+=d_in_m(m,l)%28\n",
      "        if meter>6:\n",
      "            meter=meter-7\n",
      "        if meter==0:\n",
      "            count+=1\n",
      "print count"
     ],
     "language": "python",
     "metadata": {},
     "outputs": [
      {
       "output_type": "stream",
       "stream": "stdout",
       "text": [
        "171\n"
       ]
      }
     ],
     "prompt_number": 5
    },
    {
     "cell_type": "markdown",
     "metadata": {},
     "source": [
      "Interpolation\n",
      "---"
     ]
    },
    {
     "cell_type": "code",
     "collapsed": false,
     "input": [
      "%%file Electrostatics.py\n",
      "\n",
      "import numpy as np\n",
      "\n",
      "def pointPotential(x,y,q,Xc,Yc):\n",
      "    \"\"\"\n",
      "    Return the electric potential for a \n",
      "    point charge q at (Xc,Yc)\n",
      "    \n",
      "    Units returned are [Volts] if input \n",
      "    units are [meters] and [Coulombs]                                   \n",
      "    \"\"\"\n",
      "    k = 8.987551787997912e9 #(Nm^2/C^2)                                                                        \n",
      "    Vxy = k*q/np.sqrt(((x-Xc)**2 + (y-Yc)**2))\n",
      "    return Vxy\n",
      "\n",
      "def dipolePotential(x,y,q,d):\n",
      "    \"\"\"\n",
      "    Return the electric potential for a \n",
      "    pair of point charges +/- q                                         \n",
      "    separated by distance d along the x-axis \n",
      "    with their midpoint at (0,0).                                  \n",
      "                                                                                                               \n",
      "    Units returned are [Volts] if input\n",
      "    units are [meters] and [Coulombs]                                   \n",
      "    \"\"\"\n",
      "    Vxy=pointPotential(x,y,q,-d/2.,0.) + pointPotential(x,y,-q,+d/2.,0.)\n",
      "    return Vxy"
     ],
     "language": "python",
     "metadata": {},
     "outputs": [
      {
       "output_type": "stream",
       "stream": "stdout",
       "text": [
        "Writing Electrostatics.py\n"
       ]
      }
     ],
     "prompt_number": 20
    },
    {
     "cell_type": "code",
     "collapsed": false,
     "input": [
      "from Electrostatics import *"
     ],
     "language": "python",
     "metadata": {},
     "outputs": [],
     "prompt_number": 21
    },
    {
     "cell_type": "markdown",
     "metadata": {},
     "source": [
      "##Problem 1\n",
      "\n",
      "###a)"
     ]
    },
    {
     "cell_type": "code",
     "collapsed": false,
     "input": [
      "from scipy.interpolate import interp1d"
     ],
     "language": "python",
     "metadata": {},
     "outputs": [],
     "prompt_number": 6
    },
    {
     "cell_type": "code",
     "collapsed": false,
     "input": [
      "x,y = np.meshgrid(np.arange(-5,5.01,0.5),np.arange(-5,5.01,0.5))\n",
      "msk1=(x==0)\n",
      "Vdipole = dipolePotential(x,y,1e-9,2.)\n",
      "plt.contour(x,y,Vdipole,cmap=cm.coolwarm)\n",
      "plt.plot(x[msk1],y[msk1])\n",
      "plt.show()"
     ],
     "language": "python",
     "metadata": {},
     "outputs": [
      {
       "ename": "NameError",
       "evalue": "name 'np' is not defined",
       "output_type": "pyerr",
       "traceback": [
        "\u001b[0;31m---------------------------------------------------------------------------\u001b[0m\n\u001b[0;31mNameError\u001b[0m                                 Traceback (most recent call last)",
        "\u001b[0;32m<ipython-input-8-a8bd8a4e2eea>\u001b[0m in \u001b[0;36m<module>\u001b[0;34m()\u001b[0m\n\u001b[0;32m----> 1\u001b[0;31m \u001b[0mx\u001b[0m\u001b[0;34m,\u001b[0m\u001b[0my\u001b[0m \u001b[0;34m=\u001b[0m \u001b[0mnp\u001b[0m\u001b[0;34m.\u001b[0m\u001b[0mmeshgrid\u001b[0m\u001b[0;34m(\u001b[0m\u001b[0mnp\u001b[0m\u001b[0;34m.\u001b[0m\u001b[0marange\u001b[0m\u001b[0;34m(\u001b[0m\u001b[0;34m-\u001b[0m\u001b[0;36m5\u001b[0m\u001b[0;34m,\u001b[0m\u001b[0;36m5.01\u001b[0m\u001b[0;34m,\u001b[0m\u001b[0;36m0.5\u001b[0m\u001b[0;34m)\u001b[0m\u001b[0;34m,\u001b[0m\u001b[0mnp\u001b[0m\u001b[0;34m.\u001b[0m\u001b[0marange\u001b[0m\u001b[0;34m(\u001b[0m\u001b[0;34m-\u001b[0m\u001b[0;36m5\u001b[0m\u001b[0;34m,\u001b[0m\u001b[0;36m5.01\u001b[0m\u001b[0;34m,\u001b[0m\u001b[0;36m0.5\u001b[0m\u001b[0;34m)\u001b[0m\u001b[0;34m)\u001b[0m\u001b[0;34m\u001b[0m\u001b[0m\n\u001b[0m\u001b[1;32m      2\u001b[0m \u001b[0mmsk1\u001b[0m\u001b[0;34m=\u001b[0m\u001b[0;34m(\u001b[0m\u001b[0mx\u001b[0m\u001b[0;34m==\u001b[0m\u001b[0;36m0\u001b[0m\u001b[0;34m)\u001b[0m\u001b[0;34m\u001b[0m\u001b[0m\n\u001b[1;32m      3\u001b[0m \u001b[0mVdipole\u001b[0m \u001b[0;34m=\u001b[0m \u001b[0mdipolePotential\u001b[0m\u001b[0;34m(\u001b[0m\u001b[0mx\u001b[0m\u001b[0;34m,\u001b[0m\u001b[0my\u001b[0m\u001b[0;34m,\u001b[0m\u001b[0;36m1e-9\u001b[0m\u001b[0;34m,\u001b[0m\u001b[0;36m2.\u001b[0m\u001b[0;34m)\u001b[0m\u001b[0;34m\u001b[0m\u001b[0m\n\u001b[1;32m      4\u001b[0m \u001b[0mplt\u001b[0m\u001b[0;34m.\u001b[0m\u001b[0mcontour\u001b[0m\u001b[0;34m(\u001b[0m\u001b[0mx\u001b[0m\u001b[0;34m,\u001b[0m\u001b[0my\u001b[0m\u001b[0;34m,\u001b[0m\u001b[0mVdipole\u001b[0m\u001b[0;34m,\u001b[0m\u001b[0mcmap\u001b[0m\u001b[0;34m=\u001b[0m\u001b[0mcm\u001b[0m\u001b[0;34m.\u001b[0m\u001b[0mcoolwarm\u001b[0m\u001b[0;34m)\u001b[0m\u001b[0;34m\u001b[0m\u001b[0m\n\u001b[1;32m      5\u001b[0m \u001b[0mplt\u001b[0m\u001b[0;34m.\u001b[0m\u001b[0mplot\u001b[0m\u001b[0;34m(\u001b[0m\u001b[0mx\u001b[0m\u001b[0;34m[\u001b[0m\u001b[0mmsk1\u001b[0m\u001b[0;34m]\u001b[0m\u001b[0;34m,\u001b[0m\u001b[0my\u001b[0m\u001b[0;34m[\u001b[0m\u001b[0mmsk1\u001b[0m\u001b[0;34m]\u001b[0m\u001b[0;34m)\u001b[0m\u001b[0;34m\u001b[0m\u001b[0m\n",
        "\u001b[0;31mNameError\u001b[0m: name 'np' is not defined"
       ]
      }
     ],
     "prompt_number": 8
    },
    {
     "cell_type": "markdown",
     "metadata": {},
     "source": [
      "###b) and c)\n"
     ]
    },
    {
     "cell_type": "code",
     "collapsed": false,
     "input": [
      "print dipolePotential(x[msk1],y[msk1],1e-9,2.)\n",
      "msk2=(y==0)\n",
      "print dipolePotential(x[msk2],y[msk2],1e-9,2.)"
     ],
     "language": "python",
     "metadata": {},
     "outputs": [
      {
       "output_type": "stream",
       "stream": "stdout",
       "text": [
        "[ 0.  0.  0.  0.  0.  0.  0.  0.  0.  0.  0.  0.  0.  0.  0.  0.  0.  0.\n",
        "  0.  0.  0.]\n",
        "[  0.74896265   0.93377161   1.19834024   1.59778698   2.24688795\n",
        "   3.42382925   5.99170119  14.38008286          inf  11.98340238   0.\n",
        " -11.98340238         -inf -14.38008286  -5.99170119  -3.42382925\n",
        "  -2.24688795  -1.59778698  -1.19834024  -0.93377161  -0.74896265]\n"
       ]
      }
     ],
     "prompt_number": 65
    },
    {
     "cell_type": "markdown",
     "metadata": {},
     "source": [
      "###2)"
     ]
    },
    {
     "cell_type": "code",
     "collapsed": false,
     "input": [
      "T_dat=range(10,40)\n",
      "print T_dat"
     ],
     "language": "python",
     "metadata": {},
     "outputs": [
      {
       "output_type": "stream",
       "stream": "stdout",
       "text": [
        "[10, 11, 12, 13, 14, 15, 16, 17, 18, 19, 20, 21, 22, 23, 24, 25, 26, 27, 28, 29, 30, 31, 32, 33, 34, 35, 36, 37, 38, 39]\n"
       ]
      }
     ],
     "prompt_number": 80
    },
    {
     "cell_type": "code",
     "collapsed": false,
     "input": [
      "R_raw=[[3.239,2.610, 2.169,1.857,1.634],\n",
      "[3.118,2.526,2.110,1.815,1.603],\n",
      "[3.004,2.446,2.053,1.774,1.574],\n",
      "[2.897,2.371,2.000,1.736,1.547],\n",
      "[2.795,2.300,1.950,1.700,1.521],\n",
      "[2.700,2.233,1.902,1.666,1.496]]"
     ],
     "language": "python",
     "metadata": {},
     "outputs": [],
     "prompt_number": 81
    },
    {
     "cell_type": "code",
     "collapsed": false,
     "input": [
      "R_dat=[]\n",
      "for i in zip(*R_raw):\n",
      "    R_dat+=list(i)\n",
      "print R_dat"
     ],
     "language": "python",
     "metadata": {},
     "outputs": [
      {
       "output_type": "stream",
       "stream": "stdout",
       "text": [
        "[3.239, 3.118, 3.004, 2.897, 2.795, 2.7, 2.61, 2.526, 2.446, 2.371, 2.3, 2.233, 2.169, 2.11, 2.053, 2.0, 1.95, 1.902, 1.857, 1.815, 1.774, 1.736, 1.7, 1.666, 1.634, 1.603, 1.574, 1.547, 1.521, 1.496]\n"
       ]
      }
     ],
     "prompt_number": 82
    },
    {
     "cell_type": "code",
     "collapsed": false,
     "input": [
      "def interp_R(T_dat,R_dat,T):\n",
      "    return interp1d(T_dat,R_dat)(T)"
     ],
     "language": "python",
     "metadata": {},
     "outputs": [],
     "prompt_number": 83
    },
    {
     "cell_type": "code",
     "collapsed": false,
     "input": [
      "print interp_R(T_dat,R_dat,10),interp_R(T_dat,R_dat,10.5),interp_R(T_dat,R_dat,11)"
     ],
     "language": "python",
     "metadata": {},
     "outputs": [
      {
       "output_type": "stream",
       "stream": "stdout",
       "text": [
        "3.239 3.1785 3.118\n"
       ]
      }
     ],
     "prompt_number": 85
    },
    {
     "cell_type": "code",
     "collapsed": false,
     "input": [
      "T=np.linspace(10,39,100)\n",
      "R=interp_R(T_dat,R_dat,T)\n",
      "plt.plot(T,R,color='r')\n",
      "plt.scatter(T_dat,R_dat)\n",
      "plt.show()"
     ],
     "language": "python",
     "metadata": {},
     "outputs": [
      {
       "metadata": {},
       "output_type": "display_data",
       "png": "[encoded data removed]",
       "text": [
        "<matplotlib.figure.Figure at 0x10d90de90>"
       ]
      }
     ],
     "prompt_number": 92
    },
    {
     "cell_type": "code",
     "collapsed": false,
     "input": [
      "year = range(1900, 2000)\n",
      "month = range(1,13)\n",
      "count = 1\n",
      "counter = 1\n",
      "for y in year:\n",
      "    for m in month:\n",
      "        \n",
      "        if (m == 1) or (m == 3) or (m == 5) or (m == 7) or (m == 8) or (m == 10) or (m == 12):\n",
      "            M = 31\n",
      "        if (m == 4) or (m == 6) or (m == 9) or (m == 11):\n",
      "            M = 30\n",
      "        if (m == 2) and (y % 4 == 0) and (y % 400 != 0):\n",
      "            M = 29\n",
      "        if (m == 2) and (y % 4 != 0):\n",
      "            M = 28\n",
      "        day = range(1, M+1)\n",
      "       \n",
      "        for d in day:\n",
      "            if count == 7:\n",
      "                count =0 \n",
      "                if d == 1:\n",
      "                    counter += 1\n",
      "            count += 1\n",
      "            \n",
      "print counter"
     ],
     "language": "python",
     "metadata": {},
     "outputs": [
      {
       "output_type": "stream",
       "stream": "stdout",
       "text": [
        "171\n"
       ]
      }
     ],
     "prompt_number": 1
    },
    {
     "cell_type": "code",
     "collapsed": false,
     "input": [],
     "language": "python",
     "metadata": {},
     "outputs": []
    }
   ],
   "metadata": {}
  }
 ]
}