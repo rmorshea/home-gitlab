{
 "metadata": {
  "name": ""
 },
 "nbformat": 3,
 "nbformat_minor": 0,
 "worksheets": [
  {
   "cells": [
    {
     "cell_type": "markdown",
     "metadata": {},
     "source": [
      "Project Euler 6\n",
      "---\n",
      "\n",
      "Find the difference between the sum of the squares of the first one hundred natural numbers and the square of the sum."
     ]
    },
    {
     "cell_type": "code",
     "collapsed": false,
     "input": [
      "Sum=0\n",
      "for i in range(100):\n",
      "    Sum+=i+1\n",
      "    \n",
      "Sqr_of_Sum=Sum**2    \n",
      "\n",
      "Sum_of_Sqrs=0\n",
      "for i in range(100):\n",
      "    Sum_of_Sqrs+=(i+1)**2\n",
      "    \n",
      "print Sqr_of_Sum-Sum_of_Sqrs"
     ],
     "language": "python",
     "metadata": {},
     "outputs": [
      {
       "output_type": "stream",
       "stream": "stdout",
       "text": [
        "25164150\n"
       ]
      }
     ],
     "prompt_number": 7
    },
    {
     "cell_type": "markdown",
     "metadata": {},
     "source": [
      "Project Euler 31\n",
      "---\n",
      "\n",
      "How many different ways can \u00a32 be made using any number of coins?"
     ]
    },
    {
     "cell_type": "code",
     "collapsed": false,
     "input": [
      "coins = [1, 2, 5, 10, 20, 50, 100, 200]\n",
      "prim_target=200\n",
      "print\n",
      "def Ways(target,t_ind,min_ind=0,count=0):\n",
      "\n",
      "    for i in range(min_ind,t_ind):\n",
      "        current=coins[i]\n",
      "        print '    coin:', current\n",
      "        print '  target:',target\n",
      "        if current==1:\n",
      "            count+=1\n",
      "            print '   count:',count\n",
      "            print\n",
      "        else:\n",
      "            for j in range(1,target/current+1):\n",
      "                n_target=target-j*current\n",
      "                print 'n_target:',n_target\n",
      "        \n",
      "                if n_target==0:\n",
      "                    act=0\n",
      "                    count+=1\n",
      "                else:\n",
      "                    count=Ways(n_target,i,min_ind,count)\n",
      "                print;print\n",
      "    return count\n",
      "    \n",
      "\n",
      "    \n",
      "#print Ways(5,2,0)"
     ],
     "language": "python",
     "metadata": {},
     "outputs": [
      {
       "output_type": "stream",
       "stream": "stdout",
       "text": [
        "\n"
       ]
      }
     ],
     "prompt_number": 279
    },
    {
     "cell_type": "code",
     "collapsed": false,
     "input": [
      "from timeit import default_timer as timer\n",
      "\n",
      "coins = [1, 2, 5, 10, 20, 50, 100, 200]\n",
      "prim_target=200\n",
      "print\n",
      "def Ways(target,t_ind,min_ind=0,count=0):\n",
      "    for i in range(min_ind,t_ind):\n",
      "        current=coins[i]\n",
      "        if current==1:\n",
      "            count+=1\n",
      "        else:\n",
      "            for j in range(1,target/current+1):\n",
      "                n_target=target-j*current\n",
      "                if n_target==0:\n",
      "                    act=0\n",
      "                    count+=1\n",
      "                else:\n",
      "                    count=Ways(n_target,i,min_ind,count)\n",
      "    return count\n",
      "    \n",
      "\n",
      "start = timer()  \n",
      "ans=Ways(200,8,0)\n",
      "elapsed_time = (timer() - start) * 1000 # s --> ms\n",
      "print \"Found %d in %r ms.\" % (ans, elapsed_time)"
     ],
     "language": "python",
     "metadata": {},
     "outputs": [
      {
       "output_type": "stream",
       "stream": "stdout",
       "text": [
        "\n",
        "Found 73682 in 110.6259822845459 ms."
       ]
      },
      {
       "output_type": "stream",
       "stream": "stdout",
       "text": [
        "\n"
       ]
      }
     ],
     "prompt_number": 287
    },
    {
     "cell_type": "code",
     "collapsed": false,
     "input": [
      "coins = [1, 2, 5, 10, 20, 50, 100, 200]\n",
      "prim_target=200\n",
      "print\n",
      "def Ways(target,t_ind,min_ind=0,count=0):\n",
      "    for i in range(min_ind,t_ind):\n",
      "        current=coins[i]\n",
      "        \n",
      "        n_target=target-(target/current)*current\n",
      "        \n",
      "        if n_target==0:\n",
      "            count+=1\n",
      "        count=Ways(n_target,i,min_ind,count)\n",
      "        count=count+Ways(current,i,min_ind,count)\n",
      "    return count\n",
      "    \n",
      "\n",
      "    \n",
      "print Ways(100,6,1)"
     ],
     "language": "python",
     "metadata": {},
     "outputs": [
      {
       "output_type": "stream",
       "stream": "stdout",
       "text": [
        "\n",
        "640373011511758606589822874240\n"
       ]
      }
     ],
     "prompt_number": 208
    },
    {
     "cell_type": "code",
     "collapsed": false,
     "input": [
      "print 'for 1p:   | ',200./1\n",
      "print 'for 2p:   | ',200./2\n",
      "print 'for 5p:   | ',200./5\n",
      "print 'for 10p:  | ',200./10\n",
      "print 'for 20p:  | ',200./20\n",
      "print 'for 50p:  | ',200./50\n",
      "print 'for 100p: | ',200./100\n",
      "print 'for 200p: | ',200./200"
     ],
     "language": "python",
     "metadata": {},
     "outputs": [
      {
       "output_type": "stream",
       "stream": "stdout",
       "text": [
        "for 1p:   |  200.0\n",
        "for 2p:   |  100.0\n",
        "for 5p:   |  40.0\n",
        "for 10p:  |  20.0\n",
        "for 20p:  |  10.0\n",
        "for 50p:  |  4.0\n",
        "for 100p: |  2.0\n",
        "for 200p: |  1.0\n"
       ]
      }
     ],
     "prompt_number": 32
    },
    {
     "cell_type": "code",
     "collapsed": false,
     "input": [
      "200/5"
     ],
     "language": "python",
     "metadata": {},
     "outputs": [
      {
       "metadata": {},
       "output_type": "pyout",
       "prompt_number": 33,
       "text": [
        "40"
       ]
      }
     ],
     "prompt_number": 33
    },
    {
     "cell_type": "code",
     "collapsed": false,
     "input": [
      "print range(3)"
     ],
     "language": "python",
     "metadata": {},
     "outputs": [
      {
       "output_type": "stream",
       "stream": "stdout",
       "text": [
        "[0, 1, 2]\n"
       ]
      }
     ],
     "prompt_number": 134
    },
    {
     "cell_type": "code",
     "collapsed": false,
     "input": [],
     "language": "python",
     "metadata": {},
     "outputs": [
      {
       "metadata": {},
       "output_type": "pyout",
       "prompt_number": 94,
       "text": [
        "[2, 3, 4, 5, 6, 7, 8, 9]"
       ]
      }
     ],
     "prompt_number": 94
    },
    {
     "cell_type": "code",
     "collapsed": false,
     "input": [
      "print range(4,5)"
     ],
     "language": "python",
     "metadata": {},
     "outputs": [
      {
       "output_type": "stream",
       "stream": "stdout",
       "text": [
        "[4]\n"
       ]
      }
     ],
     "prompt_number": 229
    },
    {
     "cell_type": "code",
     "collapsed": false,
     "input": [],
     "language": "python",
     "metadata": {},
     "outputs": []
    }
   ],
   "metadata": {}
  }
 ]
}