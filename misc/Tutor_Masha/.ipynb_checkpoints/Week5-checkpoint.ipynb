{
 "metadata": {
  "name": ""
 },
 "nbformat": 3,
 "nbformat_minor": 0,
 "worksheets": [
  {
   "cells": [
    {
     "cell_type": "markdown",
     "metadata": {},
     "source": [
      "Project Euler 6\n",
      "---\n",
      "\n",
      "Find the difference between the sum of the squares of the first one hundred natural numbers and the square of the sum."
     ]
    },
    {
     "cell_type": "code",
     "collapsed": false,
     "input": [
      "Sum=0\n",
      "for i in range(100):\n",
      "    Sum+=i+1\n",
      "    \n",
      "Sqr_of_Sum=Sum**2    \n",
      "\n",
      "Sum_of_Sqrs=0\n",
      "for i in range(100):\n",
      "    Sum_of_Sqrs+=(i+1)**2\n",
      "    \n",
      "print Sqr_of_Sum-Sum_of_Sqrs"
     ],
     "language": "python",
     "metadata": {},
     "outputs": [
      {
       "output_type": "stream",
       "stream": "stdout",
       "text": [
        "25164150\n"
       ]
      }
     ],
     "prompt_number": 6
    },
    {
     "cell_type": "markdown",
     "metadata": {},
     "source": [
      "Project Euler 31\n",
      "---\n",
      "\n",
      "How many different ways can \u00a32 be made using any number of coins?"
     ]
    },
    {
     "cell_type": "code",
     "collapsed": false,
     "input": [
      "from timeit import default_timer as timer"
     ],
     "language": "python",
     "metadata": {},
     "outputs": [],
     "prompt_number": 2
    },
    {
     "cell_type": "code",
     "collapsed": false,
     "input": [
      "'''brute force method. requires approximately 20 minutes.'''\n",
      "\n",
      "def Ways(goal):\n",
      "    counter = 1\n",
      "    for a in range(201):\n",
      "        for b in range(101):\n",
      "            for c in range(41):\n",
      "                for d in range(21):\n",
      "                    for e in range(11):\n",
      "                        for f in range(5):\n",
      "                            for g in range(3):\n",
      "                                if (a*1)+(b*2)+(c*5)+(d*10)+(e*20)+(f*50)+(g*100)==goal:\n",
      "                                    counter +=1\n",
      "    return counter\n",
      "#counter starts at 1 because the single 2 pound coin case is not included in the loops.\n",
      "start = timer()  \n",
      "elapsed_time = (timer() - start)/60 # units: seconds\n",
      "print \"Found %d in %r s.\" % (Ways(200), round(elapsed_time,2))"
     ],
     "language": "python",
     "metadata": {},
     "outputs": [
      {
       "ename": "KeyboardInterrupt",
       "evalue": "",
       "output_type": "pyerr",
       "traceback": [
        "\u001b[0;31m---------------------------------------------------------------------------\u001b[0m\n\u001b[0;31mKeyboardInterrupt\u001b[0m                         Traceback (most recent call last)",
        "\u001b[0;32m<ipython-input-3-6347ab833c24>\u001b[0m in \u001b[0;36m<module>\u001b[0;34m()\u001b[0m\n\u001b[1;32m     16\u001b[0m \u001b[0mstart\u001b[0m \u001b[0;34m=\u001b[0m \u001b[0mtimer\u001b[0m\u001b[0;34m(\u001b[0m\u001b[0;34m)\u001b[0m\u001b[0;34m\u001b[0m\u001b[0m\n\u001b[1;32m     17\u001b[0m \u001b[0melapsed_time\u001b[0m \u001b[0;34m=\u001b[0m \u001b[0;34m(\u001b[0m\u001b[0mtimer\u001b[0m\u001b[0;34m(\u001b[0m\u001b[0;34m)\u001b[0m \u001b[0;34m-\u001b[0m \u001b[0mstart\u001b[0m\u001b[0;34m)\u001b[0m\u001b[0;34m/\u001b[0m\u001b[0;36m60\u001b[0m \u001b[0;31m# units: seconds\u001b[0m\u001b[0;34m\u001b[0m\u001b[0m\n\u001b[0;32m---> 18\u001b[0;31m \u001b[0;32mprint\u001b[0m \u001b[0;34m\"Found %d in %r s.\"\u001b[0m \u001b[0;34m%\u001b[0m \u001b[0;34m(\u001b[0m\u001b[0mWays\u001b[0m\u001b[0;34m(\u001b[0m\u001b[0;36m200\u001b[0m\u001b[0;34m)\u001b[0m\u001b[0;34m,\u001b[0m \u001b[0mround\u001b[0m\u001b[0;34m(\u001b[0m\u001b[0melapsed_time\u001b[0m\u001b[0;34m,\u001b[0m\u001b[0;36m2\u001b[0m\u001b[0;34m)\u001b[0m\u001b[0;34m)\u001b[0m\u001b[0;34m\u001b[0m\u001b[0m\n\u001b[0m",
        "\u001b[0;32m<ipython-input-3-6347ab833c24>\u001b[0m in \u001b[0;36mWays\u001b[0;34m(goal)\u001b[0m\n\u001b[1;32m     10\u001b[0m                         \u001b[0;32mfor\u001b[0m \u001b[0mf\u001b[0m \u001b[0;32min\u001b[0m \u001b[0mrange\u001b[0m\u001b[0;34m(\u001b[0m\u001b[0;36m5\u001b[0m\u001b[0;34m)\u001b[0m\u001b[0;34m:\u001b[0m\u001b[0;34m\u001b[0m\u001b[0m\n\u001b[1;32m     11\u001b[0m                             \u001b[0;32mfor\u001b[0m \u001b[0mg\u001b[0m \u001b[0;32min\u001b[0m \u001b[0mrange\u001b[0m\u001b[0;34m(\u001b[0m\u001b[0;36m3\u001b[0m\u001b[0;34m)\u001b[0m\u001b[0;34m:\u001b[0m\u001b[0;34m\u001b[0m\u001b[0m\n\u001b[0;32m---> 12\u001b[0;31m                                 \u001b[0;32mif\u001b[0m \u001b[0;34m(\u001b[0m\u001b[0ma\u001b[0m\u001b[0;34m*\u001b[0m\u001b[0;36m1\u001b[0m\u001b[0;34m)\u001b[0m\u001b[0;34m+\u001b[0m\u001b[0;34m(\u001b[0m\u001b[0mb\u001b[0m\u001b[0;34m*\u001b[0m\u001b[0;36m2\u001b[0m\u001b[0;34m)\u001b[0m\u001b[0;34m+\u001b[0m\u001b[0;34m(\u001b[0m\u001b[0mc\u001b[0m\u001b[0;34m*\u001b[0m\u001b[0;36m5\u001b[0m\u001b[0;34m)\u001b[0m\u001b[0;34m+\u001b[0m\u001b[0;34m(\u001b[0m\u001b[0md\u001b[0m\u001b[0;34m*\u001b[0m\u001b[0;36m10\u001b[0m\u001b[0;34m)\u001b[0m\u001b[0;34m+\u001b[0m\u001b[0;34m(\u001b[0m\u001b[0me\u001b[0m\u001b[0;34m*\u001b[0m\u001b[0;36m20\u001b[0m\u001b[0;34m)\u001b[0m\u001b[0;34m+\u001b[0m\u001b[0;34m(\u001b[0m\u001b[0mf\u001b[0m\u001b[0;34m*\u001b[0m\u001b[0;36m50\u001b[0m\u001b[0;34m)\u001b[0m\u001b[0;34m+\u001b[0m\u001b[0;34m(\u001b[0m\u001b[0mg\u001b[0m\u001b[0;34m*\u001b[0m\u001b[0;36m100\u001b[0m\u001b[0;34m)\u001b[0m\u001b[0;34m==\u001b[0m\u001b[0mgoal\u001b[0m\u001b[0;34m:\u001b[0m\u001b[0;34m\u001b[0m\u001b[0m\n\u001b[0m\u001b[1;32m     13\u001b[0m                                     \u001b[0mcounter\u001b[0m \u001b[0;34m+=\u001b[0m\u001b[0;36m1\u001b[0m\u001b[0;34m\u001b[0m\u001b[0m\n\u001b[1;32m     14\u001b[0m     \u001b[0;32mreturn\u001b[0m \u001b[0mcounter\u001b[0m\u001b[0;34m\u001b[0m\u001b[0m\n",
        "\u001b[0;31mKeyboardInterrupt\u001b[0m: "
       ]
      }
     ],
     "prompt_number": 3
    },
    {
     "cell_type": "code",
     "collapsed": false,
     "input": [
      "coins = [1, 2, 5, 10, 20, 50, 100, 200]\n",
      "\n",
      "\n",
      "def Ways(target,max_ind,count=0,depth=-1):\n",
      "    depth+=1\n",
      "    for i in range(0,max_ind):\n",
      "        current=coins[i]\n",
      "        \n",
      "        if depth == 0:\n",
      "            print;print;print\n",
      "            print 'DEPTH:',depth,',','STARTING COIN:', current\n",
      "            print '~~~~~~~~~~~~~~~~~~~~~~~~~~~'\n",
      "        if depth !=0 and current ==1:\n",
      "            print '...............'\n",
      "            print 'DEPTH:',depth,',','COIN:', current\n",
      "            \n",
      "        if current==1:\n",
      "            count+=1\n",
      "            print 'target:', target\n",
      "            print 'target reached?', 'Yes!'\n",
      "            print 'count =',count\n",
      "\n",
      "        else:\n",
      "            for j in range(1,target/current+1):\n",
      "                n_target=target-j*current\n",
      "                print '...............'\n",
      "                print 'DEPTH:',depth,',','COIN:', current\n",
      "                print 'target:', target\n",
      "                print '# of coins:',j\n",
      "                print 'n_target:',n_target\n",
      "                if n_target==0:\n",
      "                    print 'target reached?', 'Yes!'\n",
      "                    count+=1\n",
      "                    print 'count =',count\n",
      "                else:\n",
      "                    print 'target reached?', 'No'\n",
      "                    count=Ways(n_target,i,count,depth)\n",
      "    return count\n",
      "    \n",
      "\n",
      "\n",
      "TOTAL_WAYS=Ways(10,3)\n",
      "print;print;\n",
      "print 'TOTAL NUMBER OF WAYS:', TOTAL_WAYS"
     ],
     "language": "python",
     "metadata": {},
     "outputs": [
      {
       "output_type": "stream",
       "stream": "stdout",
       "text": [
        "\n",
        "\n",
        "\n",
        "DEPTH: 0 , STARTING COIN: 1\n",
        "~~~~~~~~~~~~~~~~~~~~~~~~~~~\n",
        "target: 10\n",
        "target reached? Yes!\n",
        "count = 1\n",
        "\n",
        "\n",
        "\n",
        "DEPTH: 0 , STARTING COIN: 2\n",
        "~~~~~~~~~~~~~~~~~~~~~~~~~~~\n",
        "...............\n",
        "DEPTH: 0 , COIN: 2\n",
        "target: 10\n",
        "# of coins: 1\n",
        "n_target: 8\n",
        "target reached? No\n",
        "...............\n",
        "DEPTH: 1 , COIN: 1\n",
        "target: 8\n",
        "target reached? Yes!\n",
        "count = 2\n",
        "...............\n",
        "DEPTH: 0 , COIN: 2\n",
        "target: 10\n",
        "# of coins: 2\n",
        "n_target: 6\n",
        "target reached? No\n",
        "...............\n",
        "DEPTH: 1 , COIN: 1\n",
        "target: 6\n",
        "target reached? Yes!\n",
        "count = 3\n",
        "...............\n",
        "DEPTH: 0 , COIN: 2\n",
        "target: 10\n",
        "# of coins: 3\n",
        "n_target: 4\n",
        "target reached? No\n",
        "...............\n",
        "DEPTH: 1 , COIN: 1\n",
        "target: 4\n",
        "target reached? Yes!\n",
        "count = 4\n",
        "...............\n",
        "DEPTH: 0 , COIN: 2\n",
        "target: 10\n",
        "# of coins: 4\n",
        "n_target: 2\n",
        "target reached? No\n",
        "...............\n",
        "DEPTH: 1 , COIN: 1\n",
        "target: 2\n",
        "target reached? Yes!\n",
        "count = 5\n",
        "...............\n",
        "DEPTH: 0 , COIN: 2\n",
        "target: 10\n",
        "# of coins: 5\n",
        "n_target: 0\n",
        "target reached? Yes!\n",
        "count = 6\n",
        "\n",
        "\n",
        "\n",
        "DEPTH: 0 , STARTING COIN: 5\n",
        "~~~~~~~~~~~~~~~~~~~~~~~~~~~\n",
        "...............\n",
        "DEPTH: 0 , COIN: 5\n",
        "target: 10\n",
        "# of coins: 1\n",
        "n_target: 5\n",
        "target reached? No\n",
        "...............\n",
        "DEPTH: 1 , COIN: 1\n",
        "target: 5\n",
        "target reached? Yes!\n",
        "count = 7\n",
        "...............\n",
        "DEPTH: 1 , COIN: 2\n",
        "target: 5\n",
        "# of coins: 1\n",
        "n_target: 3\n",
        "target reached? No\n",
        "...............\n",
        "DEPTH: 2 , COIN: 1\n",
        "target: 3\n",
        "target reached? Yes!\n",
        "count = 8\n",
        "...............\n",
        "DEPTH: 1 , COIN: 2\n",
        "target: 5\n",
        "# of coins: 2\n",
        "n_target: 1\n",
        "target reached? No\n",
        "...............\n",
        "DEPTH: 2 , COIN: 1\n",
        "target: 1\n",
        "target reached? Yes!\n",
        "count = 9\n",
        "...............\n",
        "DEPTH: 0 , COIN: 5\n",
        "target: 10\n",
        "# of coins: 2\n",
        "n_target: 0\n",
        "target reached? Yes!\n",
        "count = 10\n",
        "\n",
        "\n",
        "TOTAL NUMBER OF WAYS: 10\n"
       ]
      }
     ],
     "prompt_number": 263
    },
    {
     "cell_type": "code",
     "collapsed": false,
     "input": [
      "from timeit import default_timer as timer\n",
      "import numpy as np\n",
      "coins = [1, 2, 5, 10, 20, 50, 100, 200]\n",
      "prim_target=200\n",
      "print\n",
      "def Ways(target,t_ind,min_ind=0,count=0):\n",
      "    for i in range(min_ind,t_ind):\n",
      "        current=coins[i]\n",
      "        if current==1:\n",
      "            count+=1\n",
      "        else:\n",
      "            for j in range(1,target/current+1):\n",
      "                n_target=target-j*current\n",
      "                if n_target==0:\n",
      "                    count+=1\n",
      "                else:\n",
      "                    count=Ways(n_target,i,min_ind,count)\n",
      "    return count\n",
      "    \n",
      "\n",
      "start = timer()  \n",
      "ans=Ways(200,8,0)\n",
      "elapsed_time = (timer() - start) * 1000 # s --> ms\n",
      "print \"Found %d in %r ms.\" % (ans, elapsed_time)"
     ],
     "language": "python",
     "metadata": {},
     "outputs": [
      {
       "output_type": "stream",
       "stream": "stdout",
       "text": [
        "\n",
        "Found 73682 in 102.40006446838379 ms."
       ]
      },
      {
       "output_type": "stream",
       "stream": "stdout",
       "text": [
        "\n"
       ]
      }
     ],
     "prompt_number": 209
    },
    {
     "cell_type": "code",
     "collapsed": false,
     "input": [
      "coins = [1, 2, 5, 10, 20, 50, 100, 200]\n",
      "\n",
      "TARGET=200\n",
      "\n",
      "start = timer()  \n",
      "\n",
      "matrix = {}\n",
      "for y in xrange(0, TARGET+1):\n",
      "    # There is only one way to form a target sum N\n",
      "    # via 1-cent coins: use N 1-cents!\n",
      "    matrix[y, 0] = 1  # equivalent to matrix[(y,0)]=1\n",
      "\n",
      "for y in xrange(0, TARGET+1):\n",
      "    for x in xrange(1, len(coins)):\n",
      "        matrix[y, x] = 0\n",
      "        # Is the target big enough to accomodate coins[x]?\n",
      "        if y>=coins[x]:\n",
      "            # If yes, then the number of ways to form\n",
      "            # the target sum are obtained via:\n",
      "            #\n",
      "            # (a) the number of ways to form this target\n",
      "            #     using ONLY coins less than column x\n",
      "            #     i.e. matrix[y][x-1]\n",
      "            matrix[y, x] += matrix[y, x-1]\n",
      "            # plus\n",
      "            # (b) the number of ways to form this target\n",
      "            #     when USING the coin of column x\n",
      "            #     which means for a remainder of y-coins[x]\n",
      "            #     i.e. matrix[y-coins[x]][x]\n",
      "            matrix[y, x] += matrix[y-coins[x], x]\n",
      "        else:\n",
      "            # if the target is not big enough to allow\n",
      "            # usage of the coin in column x,\n",
      "            # then just copy the number of ways from the\n",
      "            # column to the left (i.e. with smaller coins)\n",
      "            matrix[y, x] = matrix[y, x-1]\n",
      "\n",
      "    \n",
      "\n",
      "elapsed_time = (timer() - start) * 1000 # s --> ms\n",
      "print elapsed_time"
     ],
     "language": "python",
     "metadata": {},
     "outputs": [
      {
       "output_type": "stream",
       "stream": "stdout",
       "text": [
        "4.26506996155\n"
       ]
      }
     ],
     "prompt_number": 83
    },
    {
     "cell_type": "markdown",
     "metadata": {},
     "source": [
      "test question #5\n",
      "---\n",
      "\n",
      "Create a 100x5 NumPy array called arr of random floating point numbers between 10.7 and 36.2.\n",
      "\n",
      "Write the array to a file called numbers.txt as 5 columns separated by 2 spaces and formatted with 3 places after the decimal.\n",
      "\n",
      "Include a 3-line header that lists the date and time on line 2 (hint: try !date).\n",
      "\n",
      "Show the first 10 lines of the file using the !head command.\n",
      "\n",
      "Read the data back in from the file to a new floating point NumPy array called arr2 and use a slice to print the first ten lines of the array."
     ]
    },
    {
     "cell_type": "code",
     "collapsed": false,
     "input": [
      "import numpy as np\n",
      "import random as rand"
     ],
     "language": "python",
     "metadata": {},
     "outputs": [],
     "prompt_number": 22
    },
    {
     "cell_type": "code",
     "collapsed": false,
     "input": [
      "X=[]\n",
      "for i in range(100):\n",
      "    Y=[]\n",
      "    for i in range(5):\n",
      "        Y.append(10.7+rand.random()*(36.2-10.7))\n",
      "    X.append(np.array(Y))\n",
      "\n",
      "X=np.array(X)\n",
      "day=!date\n",
      "\n",
      "np.savetxt('test_file.txt',X,fmt='%2.3f',delimiter='  ',header='\\n{0}\\n'.format(day[0]))"
     ],
     "language": "python",
     "metadata": {},
     "outputs": [],
     "prompt_number": 81
    },
    {
     "cell_type": "code",
     "collapsed": false,
     "input": [
      "print np.loadtxt('test_file.txt')[0:10]"
     ],
     "language": "python",
     "metadata": {},
     "outputs": [
      {
       "output_type": "stream",
       "stream": "stdout",
       "text": [
        "[[ 25.402  11.77   20.815  25.083  16.141]\n",
        " [ 31.934  14.099  26.031  20.934  12.158]\n",
        " [ 21.355  18.426  30.274  23.537  23.704]\n",
        " [ 31.692  23.819  15.567  15.64   17.638]\n",
        " [ 16.228  27.855  30.806  19.244  27.592]\n",
        " [ 33.244  35.762  22.091  11.01   31.787]\n",
        " [ 17.174  22.775  18.712  17.418  25.396]\n",
        " [ 27.606  35.207  22.315  27.777  35.211]\n",
        " [ 11.424  14.399  23.166  11.427  31.086]\n",
        " [ 34.108  28.503  18.004  30.787  23.964]]\n"
       ]
      }
     ],
     "prompt_number": 86
    },
    {
     "cell_type": "code",
     "collapsed": false,
     "input": [
      "a*1+b*2+c*5+d*20"
     ],
     "language": "python",
     "metadata": {},
     "outputs": []
    }
   ],
   "metadata": {}
  }
 ]
}