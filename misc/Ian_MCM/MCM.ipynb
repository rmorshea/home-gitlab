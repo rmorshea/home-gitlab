{
 "metadata": {
  "name": "MCM"
 },
 "nbformat": 3,
 "nbformat_minor": 0,
 "worksheets": [
  {
   "cells": [
    {
     "cell_type": "code",
     "collapsed": false,
     "input": [
      "from numpy import random\n",
      "chunks2=[[1,2,3,-4],[5,-6,-7,-8],[-9,10,-11,12],[1,2,3,4]]\n",
      "l_2=range(0,10)\n",
      "Storage=[]\n",
      "refined2=[],[],[],[],[],[],[],[],[],[],[]\n",
      "print chunks2[0][0]\n",
      "x2=[1,2,3,4,5,6,7,8]\n",
      "\n",
      "print range(1,5)\n",
      "for i in range(0,len(chunks2[1])):\n",
      "    for j in range(0,len(chunks2[1])):\n",
      "        if chunks2[i][j]>0:\n",
      "            refined2[i].append(chunks2[i][j]) \n",
      "            Storage.append((i,j))        #(refined2[i].append(chunks2[i][j]) and \n",
      "        elif all(chunks2[i][j]<0):\n",
      "            refined2[i].append(max(l_2)-x2[i]+min(x2)-1)\n",
      "        else:\n",
      "            refined2[i].append(0.)\n",
      "print \"storage\", Storage\n",
      "print Storage[3][0]\n",
      "pop=array([1,2,0,3,4,5])\n",
      "print nonzero(pop==0)[0][0]\n",
      "print min([0,1,2,3,4,5])\n",
      "\n",
      "NOPE=[(0,1),(2,3),(3,4),(5,2)]\n",
      "print NOPE\n",
      "NopeYay=[]\n",
      "for i in range(len(NOPE)):\n",
      "        if NOPE[i][0]>NOPE[i][1]:\n",
      "            NopeYay.append((NOPE[i]))\n",
      "        elif NOPE[i][0]<NOPE[i][1]:\n",
      "           NopeYay.append((NOPE[i][0],int(NOPE[i][1]+1)))\n",
      "        else:\n",
      "            None\n",
      "print NopeYay"
     ],
     "language": "python",
     "metadata": {},
     "outputs": [
      {
       "output_type": "stream",
       "stream": "stdout",
       "text": [
        "1\n",
        "[1, 2, 3, 4]\n",
        "storage [(0, 0), (0, 1), (0, 2), (1, 0), (2, 1), (2, 3), (3, 0), (3, 1), (3, 2), (3, 3)]\n",
        "1\n",
        "2\n",
        "0\n",
        "[(0, 1), (2, 3), (3, 4), (5, 2)]\n",
        "[(0, 2), (2, 4), (3, 5), (5, 2)]\n"
       ]
      }
     ],
     "prompt_number": 1
    },
    {
     "cell_type": "code",
     "collapsed": false,
     "input": [
      "from collections import Counter\n",
      "a=[1,1,2,2,3,3,3,3]\n",
      "c=Counter(a)\n",
      "c[3]"
     ],
     "language": "python",
     "metadata": {},
     "outputs": [
      {
       "output_type": "pyout",
       "prompt_number": 2,
       "text": [
        "4"
       ]
      }
     ],
     "prompt_number": 2
    },
    {
     "cell_type": "code",
     "collapsed": false,
     "input": [
      "d=[0,1,2,3,4,5]\n",
      "a=[0,0,0,0,1,2]\n",
      "b=[0,0,0,0,1,2,3,4,5,6,7]\n",
      "c=[0,0,0,0,1,2,3]\n",
      "\n",
      "while len(d)<len(a): #FUDGE FACTORS\n",
      "    d.append(0)\n",
      "    if len(d)==len(a):\n",
      "        break\n",
      "while len(c)<len(b): #FUDGE FACTORS\n",
      "    c.append(0)\n",
      "    if len(c)==len(b):\n",
      "        break\n",
      "while len(d)>len(a): #FUDGE FACTORS\n",
      "    d.remove(0)\n",
      "    if len(d)==len(a):\n",
      "        break\n",
      "while len(c)>len(b): #FUDGE FACTORS\n",
      "    c.remove(0)\n",
      "    if len(c)==len(b):\n",
      "        break\n",
      "print a,b,c,d"
     ],
     "language": "python",
     "metadata": {},
     "outputs": [
      {
       "output_type": "stream",
       "stream": "stdout",
       "text": [
        "[0, 0, 0, 0, 1, 2] [0, 0, 0, 0, 1, 2, 3, 4, 5, 6, 7] [0, 0, 0, 0, 1, 2, 3, 0, 0, 0, 0] [0, 1, 2, 3, 4, 5]\n"
       ]
      }
     ],
     "prompt_number": 3
    },
    {
     "cell_type": "code",
     "collapsed": false,
     "input": [
      "#random velocities and positions:\n",
      "num_cars=5\n",
      "l=arange(1,11)\n",
      "random.shuffle(l)\n",
      "X = l[:5]\n",
      "pos1=[1,2,3,4,5,None,None,None,None,None]\n",
      "pos2=[2,None,4,None,6,None,None,9,None,1]\n",
      "#print pos2\n",
      "#print X\n",
      "V = l[5:]\n",
      "#print V\n",
      "THEONE=[]\n",
      "pos1r=[(1,2),(2,3),(3,4)]\n",
      "for i in range(len(pos1)):\n",
      "    if 1<2:\n",
      "        THEONE.append(i)\n",
      "        print 'hi'\n",
      "QRTY=[1,2,3,4,5]\n",
      "pasta=[0,9,8,7,6,5,4,3,2,12]\n",
      "QRTY.insert(1,pasta[2])\n",
      "#print QRTY\n",
      "aaa=array([[1,2,3],[23,3,4]])\n",
      "print len(pos1r)\n",
      "#print aaa\n",
      "bbb = array([[pos1],[pos2]]).reshape(max(l),2)\n",
      "#print bbb\n",
      "#bbb.insert(1,2)\n",
      "print THEONE\n",
      "THEONE.insert(1,12)\n",
      "print THEONE"
     ],
     "language": "python",
     "metadata": {},
     "outputs": [
      {
       "output_type": "stream",
       "stream": "stdout",
       "text": [
        "hi\n",
        "hi\n",
        "hi\n",
        "hi\n",
        "hi\n",
        "hi\n",
        "hi\n",
        "hi\n",
        "hi\n",
        "hi\n",
        "3\n",
        "[0, 1, 2, 3, 4, 5, 6, 7, 8, 9]\n",
        "[0, 12, 1, 2, 3, 4, 5, 6, 7, 8, 9]\n"
       ]
      }
     ],
     "prompt_number": 4
    },
    {
     "cell_type": "markdown",
     "metadata": {},
     "source": [
      "###CA184 "
     ]
    },
    {
     "cell_type": "code",
     "collapsed": false,
     "input": [
      "#Edited and working!\n",
      "#Initial Conditions for testing purposes:\n",
      "v_max = 10\n",
      "num_cars11=3\n",
      "num_cars22=2\n",
      "l_1=arange(1,101)\n",
      "l_2=arange(1,101)\n",
      "\n",
      "random.shuffle(l_1)\n",
      "random.shuffle(l_2)\n",
      "#random and non-repeating positions\n",
      "X_1 = sort(l_1[:num_cars11])\n",
      "X_2 = sort(l_2[:num_cars22])\n",
      "X_1=list(X_1)\n",
      "X_2=list(X_2)\n",
      "\n",
      "#x11test=[52,3,43,23,12,44,1,90,88,80,81,63]\n",
      "x11test=[12,80,14]\n",
      "#x22test=[13,12,54,60,90,70,80,1]\n",
      "x22test=[67,41]\n",
      "v1test=[1,4,8]\n",
      "v2test=[10,5]\n",
      "#random and non-repeating velocities\n",
      "V_1=[]\n",
      "while len(V_1)<num_cars11:\n",
      "    V_1.append(randint(0,v_max))\n",
      "    if len(V_1)==num_cars11:\n",
      "        break\n",
      "#V_1=array(V_1)\n",
      "\n",
      "V_2=[]\n",
      "while len(V_2)<num_cars22:\n",
      "    V_2.append(randint(0,v_max))\n",
      "    if len(V_2)==num_cars22:\n",
      "        break\n",
      "#V_2=array(V_2)\n",
      "        \n",
      "print \"initial position lane 1\",x11test\n",
      "print \"initial velocity lane 1\",v1test\n",
      "\n",
      "print \"initial position lane 2\",x22test\n",
      "print \"initial velocity lane 2\",v2test\n",
      "#Now as for the CA184 function:\n",
      "\n",
      "def STCA(x1,x2,v1,v2,l_1,l_2,num_cars1,num_cars2):\n",
      "    num_cars1=int(num_cars1)\n",
      "    num_cars2=int(num_cars2)\n",
      "#this g_i list iterates and appends the number of spaces in front of each car    \n",
      "    g_i1=[]\n",
      "    y1 = []\n",
      "    j1=[]\n",
      "    x1=list(x1)\n",
      "    x2=list(x2)\n",
      "    v1=list(v1)\n",
      "    v2=list(v2)\n",
      "#complicated but worth it:\n",
      "    #append all differences:\n",
      "    for i in range(0,shape(x1)[0]):\n",
      "        for j in range(0,shape(x1)[0]):\n",
      "            if i!=j:\n",
      "                y1.append(x1[j]-x1[i]-1)\n",
      "            else:\n",
      "                None\n",
      "    #slice list into list of sublists (for each car):\n",
      "    chunks1 = [y1[i*(int(num_cars1)-1):i*(int(num_cars1)-1)+int(num_cars1)-1] for i in xrange(0,len(x1))]\n",
      "  #  print 'chunks 1', chunks1\n",
      "    #N lists for N-max cars for \"refined\" (I can have as many lists as i want and nothing will change)\n",
      "    refined=[],[],[],[],[],[],[],[],[],[],[],[],[],[],[],[],[],[],[],[],[],[],[],[],[],[],[],[],[],[],[],[],[],[],[],[],[],[],[],[],[],[],[],[],[],[],[],[],[],[],[],[],[],[],[],[],[],[],[],[],[],[],[],[],[],[],[],[],[],[],[],[],[],[],[],[],[],[],[],[],[],[],[],[],[],[],[],[],[],[],[],[],[],[],[],[],[],[],[],[],[],[],[],[],[],[],[],[],[],[],[],[],[],[],[],[],[],[],[],[],[],[],[],[],[],[],[],[],[],[],[],[],[],[],[],[],[],[],[],[],[],[],[],[],[],[],[],[],[],[],[],[],[],[],[],[],[],[],[],[],[],[],[],[],[],[],[],[],[],[],[],[],[],[],[],[],[],[],[],[],\n",
      "    #iterating over all of \"chunks\" to get appropriate values into \"refined\":\n",
      "    for i in range(0,len(chunks1[i])+1):\n",
      "        for j in range(0,len(chunks1[j])):\n",
      "            if chunks1[i][j]>0:\n",
      "                refined[i].append(chunks1[i][j])\n",
      "            elif all(chunks1[i][j]<0):\n",
      "                refined[i].append(max(l_1)-x1[i]+min(x1)-1)\n",
      "            else:\n",
      "                refined[i].append(0.)\n",
      "    #finally:\n",
      "    for i in range(0,len(refined[0])+1):\n",
      "        if shape(refined[i])[0]!=0:\n",
      "            g_i1.append(min(refined[i]))\n",
      "        else:\n",
      "            None\n",
      "#########################################################################################################            \n",
      "    yy=[]       \n",
      " #   print \"g_i1 is\", g_i1\n",
      "#For j:\n",
      "    #append all differences:\n",
      "    for i in range(0,shape(x1)[0]):\n",
      "        for j in range(0,shape(x2)[0]):\n",
      "            yy.append(x2[j]-x1[i]-1)\n",
      "            \n",
      "    store=[]\n",
      " \n",
      "    chunx = [yy[i*(int(num_cars2)):(i+1)*int(num_cars2)] for i in xrange(0,shape(x1)[0])]\n",
      "   # print \"chunx is\", chunx\n",
      "    #N lists for N-max cars for \"refined\" (I can have as many lists as i want and nothing will change)\n",
      "    refinedj=[],[],[],[],[],[],[],[],[],[],[],[],[],[],[],[],[],[],[],[],[],[],[],[],[],[],[],[],[],[],[],[],[],[],[],[],[],[],[],[],[],[],[],[],[],[],[],[],[],[],[],[],[],[],[],[],[],[],[],[],[],[],[],[],[],[],[],[],[],[],[],[],[],[],[],[],[],[],[],[],[],[],[],[],[],[],[],[],[],[],[],[],[],[],[],[],[],[],[],[],[],[],[],[],[],[],[],[],[],[],[],[],[],[],[],[],[],[],[],[],[],[],[],[],[],[],[],[],[],[],[],[],[],[],[],[],[],[],[],[],[],[],[],[],[],[],[],[],[],[],[],[],[],[],[],[],[],[],[],[],[],[],[],[],[],[],[],[],[],[],[],[],[],[],[],[],[],[],[],[],\n",
      "    #iterating over all of \"chunks\" to get appropriate values into \"refined\":\n",
      "    for i in range(0,num_cars1): #chunx[i]\n",
      "        for j in range(0,(num_cars2)): #chunx[j]\n",
      "            if chunx[i][j]>0:\n",
      "                refinedj[i].append(chunx[i][j])\n",
      "                store.append((i,j))\n",
      "            elif all(chunx[i][j]<0):\n",
      "                refinedj[i].append(max(l_1)-x1[i]+min(x2)-1)\n",
      "           \n",
      "            else:\n",
      "                refinedj[i].append(0.)\n",
      "   # print \"DA STORE IZ\", store\n",
      "    refstore=[]\n",
      "    #finally:\n",
      "   # print \"refined for j is\", refinedj\n",
      "    for i in range(0,len(refinedj[0])+num_cars1+1):\n",
      "        if (shape(refinedj[i])[0]!=0 and len(set(refinedj[i]))!=1):\n",
      "            j1.append(min(refinedj[i]))\n",
      "            refstore.append((i,int(refinedj[i].index(min(refinedj[i])))))\n",
      "        elif (shape(refinedj[i])[0]!=0 and len(set(refinedj[i]))==1):\n",
      "            refstore.append((i,x2.index(min(x2))))\n",
      "            j1.append(min(refinedj[i]))\n",
      "        else:\n",
      "            None\n",
      "    \n",
      "    \n",
      " #   print \"j1 is\", j1\n",
      "  #  print \"refstore for j is\", refstore\n",
      "    #giving relative car positions for j\n",
      "    qq=[]\n",
      "    for i in range(len(refstore)):\n",
      "        qq.append((x1[refstore[i][0]],x2[refstore[i][1]]))\n",
      " #   print \"QQQQ IS\", qq\n",
      "    FinalRefStore_j=[]\n",
      "    for i in range(len(qq)):\n",
      "        FinalRefStore_j.append((x1.index(x1[refstore[i][0]]),x2.index(x2[refstore[i][1]])))\n",
      " #   print \"FinalRefStore_j =\", FinalRefStore_j\n",
      "    \n",
      "##################################################################################################\n",
      "#FINDING k_i\n",
      "  #  k_i1=[]\n",
      "   # Mu=[]\n",
      "    #Nu=[]\n",
      "   # for i in range(num_cars2):\n",
      "    \n",
      "    #k_i1.append(x1[FinalRefStore[i][0]]-Nu[i])#x2[FinalRefStore[i][0]-1]\n",
      "   # print k_i1\n",
      "    ##g_i2 works and so does j1\n",
      "    #k=g_i2[i-1]-j\n",
      "                                                                    \n",
      "    #####(x1,x2)\n",
      "   # PLSQ=[]\n",
      " #   for i in range(len(refstore)):\n",
      "       # PLSQ.append((nonzero(x1==x1[refstore[i][0]]),(nonzero(x2==x2[refstore[i][1]]))))\n",
      "  #  print 'plsq is', PLSQ[0]\n",
      "##########################################################################################################            \n",
      "            \n",
      "#this g_i list iterates and appends the number of spaces in front of each car    \n",
      "    g_i2=[]\n",
      "    y2 = []\n",
      "#complicated but worth it:\n",
      "    #append all differences:\n",
      "    for i in range(0,len(x2)):\n",
      "        for j in range(0,len(x2)):\n",
      "            if i!=j:\n",
      "                y2.append(x2[j]-x2[i]-1) \n",
      "            else:\n",
      "                None\n",
      " \n",
      "    #slice list into list of sublists (for each car):\n",
      "    chunks2 = [y2[i*(int(num_cars2)-1):i*(int(num_cars2)-1)+int(num_cars2)-1] for i in xrange(0,len(x2))] #fix\n",
      "   # print 'chunks2 is', chunks2\n",
      "\n",
      "   # refstore2=[]\n",
      "    #asd=[]\n",
      "    #adf=[]\n",
      "    #refstore2.append((i,int(refined2[i].index(min(refined2[i])))))\n",
      "    #for i in range(num_cars2):\n",
      "      #  for j in range(num_cars2-1):\n",
      "       #     if i!=j:\n",
      "        #        asd.append\n",
      "        #        \n",
      "    lol=[]\n",
      "    #N lists for N-max cars for \"refined\" (I can have as many lists as i want and nothing will change)\n",
      "    refined2=[],[],[],[],[],[],[],[],[],[],[],[],[],[],[],[],[],[],[],[],[],[],[],[],[],[],[],[],[],[],[],[],[],[],[],[],[],[],[],[],[],[],[],[],[],[],[],[],[],[],[],[],[],[],[],[],[],[],[],[],[],[],[],[],[],[],[],[],[],[],[],[],[],[],[],[],[],[],[],[],[],[],[],[],[],[],[],[],[],[],[],[],[],[],[],[],[],[],[],[],[],[],[],[],[],[],[],[],[],[],[],[],[],[],[],[],[],[],[],[],[],[],[],[],[],[],[],[],[],[],[],[],[],[],[],[],[],[],[],[],[],[],[],[],[],[],[],[],[],[],[],[],[],[],[],[],[],[],[],[],[],[],[],[],[],[],[],[],[],[],[],[],[],[],[],[],[],[],[],[],\n",
      "    #iterating over all of \"chunks\" to get appropriate values into \"refined\":\n",
      "    for i in range(0,len(v2)):\n",
      "        for j in range(0,len(v2)-1):\n",
      "            if chunks2[i][j]>0:\n",
      "                refined2[i].append(chunks2[i][j]) \n",
      "                   #(refined2[i].append(chunks2[i][j]) and \n",
      "            elif all(chunks2[i][j]<0):\n",
      "                refined2[i].append(max(l_2)-x2[i]+min(x2)-1)\n",
      "                lol.append((i,j))\n",
      "            else:\n",
      "                refined2[i].append(0.)\n",
      "#    print \"refined2\", refined2\n",
      "#    print \"lol is\", lol \n",
      "    lolref=[]\n",
      "    for i in range(0,len(lol)):\n",
      "        if x2[lol[i][0]]==max(x2) and x2[lol[i][1]]==min(x2):\n",
      "            lolref.append((lol[i]))\n",
      "        else:\n",
      "            None\n",
      " #   print \"HEY YOU LOL REF IS\", lolref\n",
      "            \n",
      "    refstore2=[]\n",
      "    #finally:\n",
      "    \n",
      "   # print \"refined 2 is\", refined2\n",
      "  #  for i in range(0,len(refined2[0])+1):\n",
      "   #     if (i!=0 and shape(refined2[i])[0]!=0 and refined2[i].index(min(refined2[i]))>i): #x2.index(x2[i])\n",
      "   #         refstore2.append((i,1+int(refined2[i].index(min(refined2[i])))))\n",
      "   ##     if (i!=0 and shape(refined2[i])[0]!=0 and refined2[i].index(min(refined2[i]))<i): #x2.index(x2[i])\n",
      "   #         refstore2.append((i,int(refined2[i].index(min(refined2[i])))))\n",
      "   #     if (i!=0 and shape(refined2[i])[0]!=0 and refined2[i].index(min(refined2[i]))==i):\n",
      "   #         None#refstore2.append((i,1+int(refined2[i].index(min(refined2[i])))))\n",
      "    #    elif shape(refined2[i])[0]!=0 and i==0:\n",
      "    #        refstore2.append((i,1+int(refined2[i].index(min(refined2[i])))))\n",
      "    \n",
      " #   for i in range(0,num_cars2):\n",
      "  #      for j in range(0,num_cars2-1):\n",
      "   #         if chunks2[i][j]>0:\n",
      "     #           refined2[i].append(chunks2[i][j])\n",
      "     #       elif all(chunks2[i][j]<0):\n",
      "     #           refined2[i].append(max(l_2)-x2[i]+min(x2)-1)\n",
      "     #       else:\n",
      "      #          refined2[i].append(0.)\n",
      "    #finally:\n",
      "    for i in range(0,len(refined2[0])+1):\n",
      "        if shape(refined2[i])[0]!=0:\n",
      "            g_i2.append(min(refined2[i]))\n",
      "        else:\n",
      "            None\n",
      "            \n",
      "    for i in range(0,len(refined2[0])+num_cars2+1):\n",
      "        if (shape(refined2[i])[0]!=0 and len(set(refined2[i]))!=1):\n",
      "            #j1.append(min(refinedj[i]))\n",
      "            refstore2.append((i,int(refined2[i].index(min(refined2[i])))))\n",
      "        elif (shape(refined2[i])[0]!=0 and len(set(refined2[i]))==1):\n",
      "            refstore2.append((i,x2.index(min(x2))))\n",
      "        else:\n",
      "            None\n",
      "    refstore22=[]\n",
      "    for i in range(len(refstore2)):\n",
      "        if refstore2[i][0]>refstore2[i][1]:\n",
      "            refstore22.append((refstore2[i]))\n",
      "        elif (refstore2[i][0]<refstore2[i][1] or refstore2[i][0]==refstore2[i][1]):\n",
      "           refstore22.append((refstore2[i][0],int(refstore2[i][1]+1)))\n",
      "        else:\n",
      "            None\n",
      " #   print \"HELLO\", refstore2   \n",
      "    \n",
      "   # for i in range(num_cars2):\n",
      "     #   if refstore2[i][0]==lolref[0][0]:\n",
      "     #       refstore2.insert(refstore2.index(refstore2[i+1]),lolref[0])\n",
      "     ##       refstore2.remove(refstore2[i])\n",
      "       # else:\n",
      "      #      None\n",
      " #   print \"g_i2 is\", g_i2\n",
      " #   print \"refstore 2 is\", refstore2\n",
      " #   print \"refstore 22 (final) is\", refstore22\n",
      "##################################################################################################    \n",
      "    yyyk=[]\n",
      "    #KREFSTORE\n",
      "    for i in range(0,shape(x2)[0]):\n",
      "        for j in range(0,shape(x1)[0]):\n",
      "            yyyk.append(x1[j]-x2[i]-1)\n",
      "            \n",
      "   # store=[]\n",
      "    k1=[]\n",
      "    chunxk = [yyyk[i*(int(num_cars1)):(i+1)*int(num_cars1)] for i in xrange(0,shape(x2)[0])]\n",
      " #   print \"chunxk is\", chunxk\n",
      "    #N lists for N-max cars for \"refined\" (I can have as many lists as i want and nothing will change)\n",
      "    refinedk=[],[],[],[],[],[],[],[],[],[],[],[],[],[],[],[],[],[],[],[],[],[],[],[],[],[],[],[],[],[],[],[],[],[],[],[],[],[],[],[],[],[],[],[],[],[],[],[],[],[],[],[],[],[],[],[],[],[],[],[],[],[],[],[],[],[],[],[],[],[],[],[],[],[],[],[],[],[],[],[],[],[],[],[],[],[],[],[],[],[],[],[],[],[],[],[],[],[],[],[],[],[],[],[],[],[],[],[],[],[],[],[],[],[],[],[],[],[],[],[],[],[],[],[],[],[],[],[],[],[],[],[],[],[],[],[],[],[],[],[],[],[],[],[],[],[],[],[],[],[],[],[],[],[],[],[],[],[],[],[],[],[],[],[],[],[],[],[],[],[],[],[],[],[],[],[],[],[],[],[],\n",
      "    #iterating over all of \"chunks\" to get appropriate values into \"refined\":\n",
      "    for i in range(0,num_cars2): #chunx[i]\n",
      "        for j in range(0,(num_cars1)): #chunx[j]\n",
      "            if chunxk[i][j]>0:\n",
      "                refinedk[i].append(chunxk[i][j])\n",
      "                #store.append((i,j))\n",
      "            elif all(chunxk[i][j]<0):\n",
      "                refinedk[i].append((max(l_1)-x2[i]+min(x1)-1))\n",
      "                \n",
      "            else:\n",
      "                refinedk[i].append(0.)\n",
      "  #  print refinedk\n",
      "   # print \"DA STORE IZ\", store\n",
      "    krefstore=[]\n",
      "    #finally:\n",
      "   # print \"refined for k is\", refinedk\n",
      "    for i in range(0,len(refinedk[0])+num_cars2+1):\n",
      "        if (shape(refinedk[i])[0]!=0 and len(set(refinedk[i]))!=1):\n",
      "            k1.append(min(refinedk[i]))\n",
      "            krefstore.append((i,int(refinedk[i].index(min(refinedk[i])))))\n",
      "        elif (shape(refinedk[i])[0]!=0 and len(set(refinedk[i]))==1):\n",
      "            krefstore.append((i,x1.index(min(x1))))\n",
      "            k1.append(min(refinedk[i]))\n",
      "            \n",
      "        else:\n",
      "            None\n",
      "    \n",
      "    \n",
      "  #  print \"j1 is\", j1\n",
      "   # print \"refstore for k is\", krefstore\n",
      " \n",
      " #   print 'k1 is', k1\n",
      "#################################################################################################\n",
      "#Using the CA184 rules I change my initial velocity accordingly \n",
      "    \n",
      "    for i in range(len(v1)):\n",
      "        if g_i1[i]==0:\n",
      "            v1[i]=0\n",
      "            \n",
      "    for i in range(len(v2)):\n",
      "        if g_i2[i]==0:\n",
      "            v2[i]=0  \n",
      "    for i in range(len(v2)):\n",
      "        if v2[i]>v_max:\n",
      "            v2[i]=v_max\n",
      "    for i in range(len(v1)):\n",
      "        if v1[i]>v_max:\n",
      "            v1[i]=v_max\n",
      "            \n",
      "    \n",
      "    for i in range(len(v1)):\n",
      "        if g_i1[i]>v1[i] and v_max>v1[i]:\n",
      "            v1[i]=(v1[i]+1)\n",
      " \n",
      "            \n",
      "            \n",
      "    a=[]\n",
      "    for i in range(num_cars1):\n",
      "        if (g_i1[i]>v1[i] and v_max>v1[i]):\n",
      "            v1[i]=(v1[i]+1)\n",
      "    for i in range(num_cars1):\n",
      "        if (v1[i]>g_i1[i] and j1[i]>g_i1[i]):\n",
      "            a.append(1)\n",
      "        else:\n",
      "            a.append(0)\n",
      "            \n",
      "    for i in range(len(v1)):\n",
      "        if g_i1[i]<v1[i]:\n",
      "            v1[i]=g_i1[i]       \n",
      "           \n",
      " #   print len(a)\n",
      " #   print 'for a', a\n",
      "    \n",
      "    for i in range(len(v2)):\n",
      "        if g_i2[i]<v2[i]:\n",
      "            v2[i]=g_i2[i]\n",
      "    for i in range(len(v2)):\n",
      "        if g_i2[i]>v2[i] and v_max>v2[i]:\n",
      "            v2[i]=(v2[i]+1)\n",
      "        \n",
      "    for i in range(len(v1)):\n",
      "        if ranf(1)<p and v1[i]>0:\n",
      "            v1[i]=v1[i]-1\n",
      "    for i in range(len(v2)):\n",
      "        if ranf(1)<p and v2[i]>0:\n",
      "            v2[i]=v2[i]-1        \n",
      "    \n",
      "    b=[] #left lane to right lane\n",
      "    for i in range(len(v2)):\n",
      "        if (v2[i]<=k1[i]): #k1[i]>g_i2[i] and  j_behind>v1_behind and g2i-j_ahead-1>=v_you:\n",
      "            b.append(1)\n",
      "        else:\n",
      "            b.append(0)\n",
      "  #  print 'for b', b\n",
      " #   c=[]\n",
      " #   for i in range(len(b)):\n",
      "  #      if b[i]==1 and len(g_i2)>2: \n",
      "  #          for j in range(len(a)):\n",
      "  #              if refstore22[i][1]==refstore[j][0]: #does this work?\n",
      "  #                  if v1[krefstore[i][1]]<j1[krefstore[i][1]]:\n",
      "  #                      c.append(1)\n",
      "   #                 else:\n",
      "   #                     c.append(0)\n",
      "  #              else:\n",
      "  #                  None\n",
      "  #      else:\n",
      "   #         c.append(0)\n",
      "   # print 'for c', c\n",
      "    #Old Logic For CA184\n",
      "            \n",
      "  #  d=[]\n",
      "  #  for i in range(len(a)):\n",
      "  #      if a[i]==1 and len(g_i1)>2: \n",
      "   #         for j in range(len(b)):\n",
      "    #            if refstore[i][1]==refstore22[j][1]:\n",
      "    #                if v2[refstore[j][0]]<g_i2[refstore22[j][0]]-j1[j]:\n",
      "     #                   d.append(1)\n",
      "    #                else:\n",
      "     #                   d.append(0)\n",
      "     #           else:\n",
      "     #               None\n",
      "     #   else:\n",
      "      #      d.append(0)\n",
      "   # if len(d)!=len(a):\n",
      "   #     while len(d)<len(a): #FUDGE FACTORS\n",
      "   #         d.append(0)\n",
      "    #        if len(d)>=len(a):\n",
      "    #            break\n",
      "    ##    while len(d)>len(a): #FUDGE FACTORS\n",
      "    #        d.remove(0)\n",
      "    #        if len(d)==len(a):\n",
      "     #           break\n",
      "    #else:\n",
      "    #    None\n",
      "    #if len(c)!=len(b):\n",
      "  #      while len(c)<len(b): #FUDGE FACTORS\n",
      "  #          c.append(0)\n",
      "  #          if len(c)>=len(b):\n",
      "  #              break\n",
      "  #      while len(c)>len(b): #FUDGE FACTORS\n",
      "  #          c.remove(0)\n",
      "  #          if len(c)==len(b):\n",
      "  #              break\n",
      " #   else:\n",
      " #       None\n",
      "    \n",
      " #   print 'for d', d\n",
      "            \n",
      "          #  v2[refstore22[i-1][0]]<g_i2[refstore22[i-1][0]]-j1[i]\n",
      "            \n",
      "#With the new velocity I make an array of new position   \n",
      "    X_new1 = []\n",
      "    for i in range(len(x1)):\n",
      "        if x1[i]+v1[i]<=max(l_1):\n",
      "            X_new1.append(x1[i]+v1[i])\n",
      "        elif x1[i]+v1[i]>max(l_1):\n",
      "            X_new1.append(x1[i]+v1[i]-max(l_1))\n",
      "        else:\n",
      "            None\n",
      "            \n",
      " #   print \"XNew1 before lane change logic is\", X_new1\n",
      "            \n",
      "#With the new velocity I make an array of new position   \n",
      "    X_new2 = []\n",
      "    for i in range(len(x2)):\n",
      "        if x2[i]+v2[i]<=max(l_2):\n",
      "            X_new2.append(x2[i]+v2[i])\n",
      "        elif x2[i]+v2[i]>max(l_2):\n",
      "            X_new2.append(x2[i]+v2[i]-max(l_2))\n",
      "        else:\n",
      "            None\n",
      "            \n",
      "       \n",
      "  #  print \"XNew2 before lane change logic is\", X_new2\n",
      "      #FOR SAFETY REASONS:  \n",
      "   # for i in range(0,len(x1)-1):#FIX\n",
      "    #    if (d[i]==1):  #find j-1\n",
      "    #        print X_new1[i]\n",
      "    #        X_new2.insert(refstore[i][1],X_new1[i])\n",
      "    #        X_new1.remove(X_new1[i]) #lane change\n",
      "     #       v2.insert(refstore[i][1],v1[i]) #lane change\n",
      "     #       v1.remove(v1[i])\n",
      "     #   elif d[i]!=1:\n",
      "     ##       X_new1[i]=X_new1[i]-v1[i]+g_i1[i]\n",
      "     #   else:\n",
      "     #       None\n",
      "            \n",
      "  #  for i in range(0,len(x2)):\n",
      " #       if (c[i]==1):  #find j-1\n",
      "       #     print krefstore[i][1],X_new2[i]\n",
      "       #     X_new1.insert(krefstore[i][1],X_new2[i]) #lane change\n",
      "       #     X_new2.remove(X_new2[i]) #lane change\n",
      "       #     v1.insert(krefstore[i][1],v2[i]) #lane change\n",
      "       #     v2.remove(v2[i])\n",
      "       # elif c[i] == 0:\n",
      "       #     None\n",
      "       ## else:\n",
      "       #     None\n",
      "    \n",
      "    \n",
      "    xfin1=[]   \n",
      "    xfin2=[]\n",
      "    vfin1=[]\n",
      "    vfin2=[]\n",
      "    \n",
      "    from collections import Counter\n",
      "    \n",
      "    qr=Counter(a)\n",
      "    st=Counter(b)\n",
      "    \n",
      "    \n",
      "    for i in range(0,len(a)):#FIX\n",
      "        if ((a[i]==1) and len(g_i1)>qr[1]+2 and X_new2.count(X_new1[i])==0 and ranf(1)<.5):  #find j-1\n",
      "            xfin2.append(X_new1[i])\n",
      "            vfin2.append(v1[i])\n",
      "        else:\n",
      "            xfin1.append(X_new1[i])\n",
      "            vfin1.append(v1[i])\n",
      "    \n",
      "    for i in range(0,len(b)):\n",
      "        if (b[i]==1 and len(g_i2)>st[1]+2 and  X_new1.count(X_new2[i])==0 and ranf(1)<.5):\n",
      "            xfin1.append(X_new2[i])\n",
      "            vfin1.append(v2[i])\n",
      "        else:\n",
      "            xfin2.append(X_new2[i])\n",
      "            vfin2.append(v2[i])\n",
      "    \n",
      " #   print \"xfin1 is\", xfin1\n",
      " #   print \"xfin2 is\", xfin2\n",
      " #   print \"vfin1 is\", vfin1\n",
      " #   print \"vfin2 is\", vfin2\n",
      "    \n",
      "    \n",
      "  #  X_newfin1=X_new1\n",
      "   # X_newfin2=X_new2\n",
      "  #  for i in range(len(c)):\n",
      "     #   if c[i]==1:\n",
      "            \n",
      "        \n",
      "    \n",
      "    \n",
      "    return (xfin1),(vfin1),(xfin2),(vfin2),len(xfin1),len(xfin2)\n",
      "\n",
      "    \n",
      "\n",
      "X_new1,V_new1,X_new2,V_new2,num_cars1,num_cars2 = STCA(x11test,x22test,v1test,v2test,l_1,l_2,num_cars11,num_cars22)\n",
      "print \"new position lane 1 is\",X_new1\n",
      "print \"new velocity lane 1 is\",V_new1\n",
      "print \"new position lane 2 is\",X_new2\n",
      "print \"new velocity lane 2 is\",V_new2\n",
      "print \"new cars lane 1 is\", num_cars1\n",
      "print \"new cars lane 2 is\", num_cars2"
     ],
     "language": "python",
     "metadata": {},
     "outputs": [
      {
       "output_type": "stream",
       "stream": "stdout",
       "text": [
        "initial position lane 1 [12, 80, 14]\n",
        "initial velocity lane 1 [1, 4, 8]\n",
        "initial position lane 2 [67, 41]\n",
        "initial velocity lane 2 [10, 5]\n",
        "new position lane 1 is [13, 86, 24]\n",
        "new velocity lane 1 is [1, 6, 10]\n",
        "new position lane 2 is [77, 46]\n",
        "new velocity lane 2 is [10, 5]\n",
        "new cars lane 1 is 3\n",
        "new cars lane 2 is 2\n"
       ]
      }
     ],
     "prompt_number": 26
    },
    {
     "cell_type": "code",
     "collapsed": false,
     "input": [
      "longg=[[1,123123,36,4,12,-888,444,55],[1,444,5666,3342,234,432,1,2]]\n",
      "a=[]\n",
      "for i in range(len(longg[0])):\n",
      "    for j in range(len(longg[0])):\n",
      "        if i!=j:\n",
      "            a.append(longg[0][i]-longg[0][j]-1)\n",
      "        else:\n",
      "            None\n",
      "b=[]\n",
      "c=[]\n",
      "for i in range(len(a)):\n",
      "    if a[i]>0:\n",
      "        b.append(a[i])\n",
      "        c.append(\n",
      "    else:\n",
      "        None\n",
      "print min(b)\n",
      "    \n",
      "CA184(X_new,V_new,l_,num_cars)"
     ],
     "language": "python",
     "metadata": {},
     "outputs": []
    },
    {
     "cell_type": "code",
     "collapsed": false,
     "input": [
      "CA184(X_new,V_new,l_,num_cars)"
     ],
     "language": "python",
     "metadata": {},
     "outputs": [
      {
       "ename": "NameError",
       "evalue": "name 'X_new' is not defined",
       "output_type": "pyerr",
       "traceback": [
        "\u001b[1;31m---------------------------------------------------------------------------\u001b[0m\n\u001b[1;31mNameError\u001b[0m                                 Traceback (most recent call last)",
        "\u001b[1;32m<ipython-input-7-032b21b94e9d>\u001b[0m in \u001b[0;36m<module>\u001b[1;34m()\u001b[0m\n\u001b[1;32m----> 1\u001b[1;33m \u001b[0mCA184\u001b[0m\u001b[1;33m(\u001b[0m\u001b[0mX_new\u001b[0m\u001b[1;33m,\u001b[0m\u001b[0mV_new\u001b[0m\u001b[1;33m,\u001b[0m\u001b[0ml_\u001b[0m\u001b[1;33m,\u001b[0m\u001b[0mnum_cars\u001b[0m\u001b[1;33m)\u001b[0m\u001b[1;33m\u001b[0m\u001b[0m\n\u001b[0m",
        "\u001b[1;31mNameError\u001b[0m: name 'X_new' is not defined"
       ]
      }
     ],
     "prompt_number": 7
    },
    {
     "cell_type": "code",
     "collapsed": false,
     "input": [
      "CA184(X_new,V_new,l_,num_cars)"
     ],
     "language": "python",
     "metadata": {},
     "outputs": [
      {
       "ename": "NameError",
       "evalue": "name 'X_new' is not defined",
       "output_type": "pyerr",
       "traceback": [
        "\u001b[1;31m---------------------------------------------------------------------------\u001b[0m\n\u001b[1;31mNameError\u001b[0m                                 Traceback (most recent call last)",
        "\u001b[1;32m<ipython-input-8-032b21b94e9d>\u001b[0m in \u001b[0;36m<module>\u001b[1;34m()\u001b[0m\n\u001b[1;32m----> 1\u001b[1;33m \u001b[0mCA184\u001b[0m\u001b[1;33m(\u001b[0m\u001b[0mX_new\u001b[0m\u001b[1;33m,\u001b[0m\u001b[0mV_new\u001b[0m\u001b[1;33m,\u001b[0m\u001b[0ml_\u001b[0m\u001b[1;33m,\u001b[0m\u001b[0mnum_cars\u001b[0m\u001b[1;33m)\u001b[0m\u001b[1;33m\u001b[0m\u001b[0m\n\u001b[0m",
        "\u001b[1;31mNameError\u001b[0m: name 'X_new' is not defined"
       ]
      }
     ],
     "prompt_number": 8
    },
    {
     "cell_type": "code",
     "collapsed": false,
     "input": [
      "#l_=arange(1,31)\n",
      "num_cars=12\n",
      "x = array([3.,7.,1.,22.,32.,17.,31.,33.,39.,2.,5.,11.])  \n",
      "g_i=[]\n",
      "y = []\n",
      "for i in range(0,shape(x)[0]):\n",
      "    for j in range(0,shape(x)[0]):\n",
      "        if i!=j:\n",
      "            y.append(x[j]-x[i]-1)\n",
      "        else:\n",
      "            None\n",
      "print y\n",
      "chunks = [y[i*(num_cars-1):i*(num_cars-1)+num_cars-1] for i in xrange(0,shape(x)[0])]\n",
      "print chunks\n",
      "#g_i=[11,5,8,3,8]\n",
      "#num_cars = 5 so we have 5 empty lists\n",
      "refined=[],[],[],[],[],[],[],[],[],[],[],[],[],[],[],[],[],[],[],[],[],[],[],[],[],[],[],[],[],[],[],[],[],[],[],[],[],[],[],[],[],[],[],[],[],[],[],[],[],[],[],[],[],[],[],[],[],[],[],[],[],[],[],[],[],[],[],[],[],[],[],[],[],[],[],[],[],[],[],[],[],[],[],[],[],[],[],[],[],[],[],[],[],[],[],[],[],[],[],[],[],[],[],[],[],[],[],[],[],[],[],[],[],[],[],[],[],[],[],[],[],[],[],[],[],[],[],[],[],[],[],[],[],[],[],[],[],[],[],[],[],[],[],[],[],[],[],[],[],[],[],[],[],[],[],[],[],[],[],[],[],[],[],[],[],[],[],[],[],[],[],[],[],[],[],[],[],[],[],[],[],[],[],[],[],[],[],[],[],[],[],[],[],[],[],[],[],[],[],[],[],[],[],[],[],[],[],[],[],[],[],[],[],[],[],[],[],[],[],[],[],[],[],[],[],[],[],[]\n",
      "\n",
      "for i in range(0,len(chunks[i])+1):\n",
      "    for j in range(0,len(chunks[j])):\n",
      "        if chunks[i][j]>0:\n",
      "            refined[i].append(chunks[i][j])\n",
      "        elif all(chunks[i][j]<0):\n",
      "            refined[i].append(max(l_)-x[i]+min(x)-1)\n",
      "        else:\n",
      "            refined[i].append(0.)\n",
      "\n",
      "\n",
      "for i in range(0,len(refined[0])+1):\n",
      "    if shape(refined[i])[0]!=0:\n",
      "        g_i.append(min(refined[i]))\n",
      "    else:\n",
      "        None\n",
      "\n",
      "print 'g_i is',g_i\n",
      "print \"x is\",x"
     ],
     "language": "python",
     "metadata": {},
     "outputs": [
      {
       "ename": "NameError",
       "evalue": "name 'l_' is not defined",
       "output_type": "pyerr",
       "traceback": [
        "\u001b[1;31m---------------------------------------------------------------------------\u001b[0m\n\u001b[1;31mNameError\u001b[0m                                 Traceback (most recent call last)",
        "\u001b[1;32m<ipython-input-9-dac96489614d>\u001b[0m in \u001b[0;36m<module>\u001b[1;34m()\u001b[0m\n\u001b[0;32m     22\u001b[0m             \u001b[0mrefined\u001b[0m\u001b[1;33m[\u001b[0m\u001b[0mi\u001b[0m\u001b[1;33m]\u001b[0m\u001b[1;33m.\u001b[0m\u001b[0mappend\u001b[0m\u001b[1;33m(\u001b[0m\u001b[0mchunks\u001b[0m\u001b[1;33m[\u001b[0m\u001b[0mi\u001b[0m\u001b[1;33m]\u001b[0m\u001b[1;33m[\u001b[0m\u001b[0mj\u001b[0m\u001b[1;33m]\u001b[0m\u001b[1;33m)\u001b[0m\u001b[1;33m\u001b[0m\u001b[0m\n\u001b[0;32m     23\u001b[0m         \u001b[1;32melif\u001b[0m \u001b[0mall\u001b[0m\u001b[1;33m(\u001b[0m\u001b[0mchunks\u001b[0m\u001b[1;33m[\u001b[0m\u001b[0mi\u001b[0m\u001b[1;33m]\u001b[0m\u001b[1;33m[\u001b[0m\u001b[0mj\u001b[0m\u001b[1;33m]\u001b[0m\u001b[1;33m<\u001b[0m\u001b[1;36m0\u001b[0m\u001b[1;33m)\u001b[0m\u001b[1;33m:\u001b[0m\u001b[1;33m\u001b[0m\u001b[0m\n\u001b[1;32m---> 24\u001b[1;33m             \u001b[0mrefined\u001b[0m\u001b[1;33m[\u001b[0m\u001b[0mi\u001b[0m\u001b[1;33m]\u001b[0m\u001b[1;33m.\u001b[0m\u001b[0mappend\u001b[0m\u001b[1;33m(\u001b[0m\u001b[0mmax\u001b[0m\u001b[1;33m(\u001b[0m\u001b[0ml_\u001b[0m\u001b[1;33m)\u001b[0m\u001b[1;33m-\u001b[0m\u001b[0mx\u001b[0m\u001b[1;33m[\u001b[0m\u001b[0mi\u001b[0m\u001b[1;33m]\u001b[0m\u001b[1;33m+\u001b[0m\u001b[0mmin\u001b[0m\u001b[1;33m(\u001b[0m\u001b[0mx\u001b[0m\u001b[1;33m)\u001b[0m\u001b[1;33m-\u001b[0m\u001b[1;36m1\u001b[0m\u001b[1;33m)\u001b[0m\u001b[1;33m\u001b[0m\u001b[0m\n\u001b[0m\u001b[0;32m     25\u001b[0m         \u001b[1;32melse\u001b[0m\u001b[1;33m:\u001b[0m\u001b[1;33m\u001b[0m\u001b[0m\n\u001b[0;32m     26\u001b[0m             \u001b[0mrefined\u001b[0m\u001b[1;33m[\u001b[0m\u001b[0mi\u001b[0m\u001b[1;33m]\u001b[0m\u001b[1;33m.\u001b[0m\u001b[0mappend\u001b[0m\u001b[1;33m(\u001b[0m\u001b[1;36m0.\u001b[0m\u001b[1;33m)\u001b[0m\u001b[1;33m\u001b[0m\u001b[0m\n",
        "\u001b[1;31mNameError\u001b[0m: name 'l_' is not defined"
       ]
      },
      {
       "output_type": "stream",
       "stream": "stdout",
       "text": [
        "[3.0, -3.0, 18.0, 28.0, 13.0, 27.0, 29.0, 35.0, -2.0, 1.0, 7.0, -5.0, -7.0, 14.0, 24.0, 9.0, 23.0, 25.0, 31.0, -6.0, -3.0, 3.0, 1.0, 5.0, 20.0, 30.0, 15.0, 29.0, 31.0, 37.0, 0.0, 3.0, 9.0, -20.0, -16.0, -22.0, 9.0, -6.0, 8.0, 10.0, 16.0, -21.0, -18.0, -12.0, -30.0, -26.0, -32.0, -11.0, -16.0, -2.0, 0.0, 6.0, -31.0, -28.0, -22.0, -15.0, -11.0, -17.0, 4.0, 14.0, 13.0, 15.0, 21.0, -16.0, -13.0, -7.0, -29.0, -25.0, -31.0, -10.0, 0.0, -15.0, 1.0, 7.0, -30.0, -27.0, -21.0, -31.0, -27.0, -33.0, -12.0, -2.0, -17.0, -3.0, 5.0, -32.0, -29.0, -23.0, -37.0, -33.0, -39.0, -18.0, -8.0, -23.0, -9.0, -7.0, -38.0, -35.0, -29.0, 0.0, 4.0, -2.0, 19.0, 29.0, 14.0, 28.0, 30.0, 36.0, 2.0, 8.0, -3.0, 1.0, -5.0, 16.0, 26.0, 11.0, 25.0, 27.0, 33.0, -4.0, 5.0, -9.0, -5.0, -11.0, 10.0, 20.0, 5.0, 19.0, 21.0, 27.0, -10.0, -7.0]\n",
        "[[3.0, -3.0, 18.0, 28.0, 13.0, 27.0, 29.0, 35.0, -2.0, 1.0, 7.0], [-5.0, -7.0, 14.0, 24.0, 9.0, 23.0, 25.0, 31.0, -6.0, -3.0, 3.0], [1.0, 5.0, 20.0, 30.0, 15.0, 29.0, 31.0, 37.0, 0.0, 3.0, 9.0], [-20.0, -16.0, -22.0, 9.0, -6.0, 8.0, 10.0, 16.0, -21.0, -18.0, -12.0], [-30.0, -26.0, -32.0, -11.0, -16.0, -2.0, 0.0, 6.0, -31.0, -28.0, -22.0], [-15.0, -11.0, -17.0, 4.0, 14.0, 13.0, 15.0, 21.0, -16.0, -13.0, -7.0], [-29.0, -25.0, -31.0, -10.0, 0.0, -15.0, 1.0, 7.0, -30.0, -27.0, -21.0], [-31.0, -27.0, -33.0, -12.0, -2.0, -17.0, -3.0, 5.0, -32.0, -29.0, -23.0], [-37.0, -33.0, -39.0, -18.0, -8.0, -23.0, -9.0, -7.0, -38.0, -35.0, -29.0], [0.0, 4.0, -2.0, 19.0, 29.0, 14.0, 28.0, 30.0, 36.0, 2.0, 8.0], [-3.0, 1.0, -5.0, 16.0, 26.0, 11.0, 25.0, 27.0, 33.0, -4.0, 5.0], [-9.0, -5.0, -11.0, 10.0, 20.0, 5.0, 19.0, 21.0, 27.0, -10.0, -7.0]]\n"
       ]
      }
     ],
     "prompt_number": 9
    },
    {
     "cell_type": "markdown",
     "metadata": {},
     "source": [
      "##STCA"
     ]
    },
    {
     "cell_type": "code",
     "collapsed": false,
     "input": [
      "#defining a probabilitly:\n",
      "prob = 50. #%\n",
      "p = prob/100.\n",
      "#same initialization process\n",
      "v_max = 15\n",
      "num_cars=10\n",
      "l_=arange(1,41)\n",
      "random.shuffle(l_)\n",
      "XX = sort(l_[:num_cars])\n",
      "\n",
      "VV=[]\n",
      "for i in range(num_cars):\n",
      "    VV.append(random.randint(0,v_max))\n",
      "VV = list(set(VV))\n",
      "while len(VV)<num_cars:\n",
      "    VV.append(randint(0,v_max))\n",
      "    VV = list(set(VV))\n",
      "    if len(VV)==num_cars:\n",
      "        break\n",
      "VV=array(VV)\n",
      "\n",
      "print \"initial position\",XX\n",
      "print \"initial velocity\",VV\n",
      "v_max = 10\n",
      "\n",
      "\n",
      "from numpy import random\n",
      "#def STCA(x,v,l,num_cars):\n",
      "#same g_i logic:    \n",
      "    g_i=[]\n",
      "    y = []\n",
      "    for i in range(0,shape(x)[0]):\n",
      "        for j in range(0,shape(x)[0]):\n",
      "            if i!=j:\n",
      "                y.append(x[j]-x[i]-1)\n",
      "            else:\n",
      "                None\n",
      "    chunks = [y[i*(int(num_cars)-1):i*(int(num_cars)-1)+int(num_cars)-1] for i in xrange(0,shape(x)[0])]\n",
      "\n",
      "\n",
      "    #N lists for N-maximum cars for \"refined\"\n",
      "    refined=[],[],[],[],[],[],[],[],[],[],[],[],[],[],[],[],[],[],[],[],[],[],[],[],[],[],[],[],[],[],[],[],[],[],[],[],[],[],[],[],[],[],[],[],[],[],[],[],[],[],[],[],[],[],[],[],[],[],[],[],[],[],[],[],[],[],[],[],[],[],[],[],[],[],[],[],[],[],[],[],[],[],[],[],[],[],[],[],[],[],[],[],[],[],[],[],[],[],[],[],[],[],[],[],[],[],[],[],[],[],[],[],[],[],[],[],[],[],[],[],[],[],[],[],[],[],[],[],[],[],[],[],[],[],[],[],[],[],[],[],[],[],[],[],[],[],[],[],[],[],[],[]\n",
      "    for i in range(0,len(chunks[i])+1):\n",
      "        for j in range(0,len(chunks[j])):\n",
      "            if chunks[i][j]>0:\n",
      "                refined[i].append(chunks[i][j])\n",
      "            elif all(chunks[i][j]<0):\n",
      "                refined[i].append(max(l)-x[i]+min(x)-1)\n",
      "            else:\n",
      "                refined[i].append(0.)\n",
      "    \n",
      "    for i in range(0,len(refined[0])+1):\n",
      "        if shape(refined[i])[0]!=0:\n",
      "            g_i.append(min(refined[i]))\n",
      "        else:\n",
      "            None\n",
      "   \n",
      "#Using the STCA rules I change my initial velocity accordingly    \n",
      "    for i in range(v.shape[0]):\n",
      "        if g_i[i]<v[i]:\n",
      "            v[i]=g_i[i]\n",
      "    for i in range(v.shape[0]):\n",
      "        if g_i[i]>v[i] and v[i]<v_max:\n",
      "            v[i]=(v[i]+1)\n",
      "    for i in range(v.shape[0]):\n",
      "        if g_i[i]==0:\n",
      "            v[i]=0\n",
      "#the modification to make this STCA and not CA184:\n",
      "    for i in range(v.shape[0]):\n",
      "        if ranf(1)<p and v[i]>0:\n",
      "            v[i]=v[i]-1\n",
      "    for i in range(v.shape[0]):\n",
      "        if v[i]>v_max:\n",
      "            v[i]=v_max\n",
      "#With the new velocity I make an array of new position   \n",
      "    X_new=[]\n",
      "    for i in range(x.shape[0]):\n",
      "        X_new.append(x[i]+v[i])\n",
      "    for i in range(x.shape[0]):\n",
      "        if X_new[i]>max(l):\n",
      "            X_new[i]=X_new[i]-max(l)\n",
      "    return array(X_new),array(v)\n",
      "\n",
      "\n",
      "STCA(XX,VV,l_,num_cars)"
     ],
     "language": "python",
     "metadata": {},
     "outputs": [
      {
       "output_type": "stream",
       "stream": "stdout",
       "text": [
        "initial position [ 4 12 14 16 17 19 20 23 24 30]\n",
        "initial velocity [ 1  2  4  5  6  7  9 10 12 14]\n"
       ]
      },
      {
       "output_type": "pyout",
       "prompt_number": 10,
       "text": [
        "(array([ 6, 12, 14, 16, 17, 19, 22, 23, 28, 40]),\n",
        " array([ 2,  0,  0,  0,  0,  0,  2,  0,  4, 10]))"
       ]
      }
     ],
     "prompt_number": 10
    },
    {
     "cell_type": "markdown",
     "metadata": {},
     "source": [
      "##BROKEN ASEP"
     ]
    },
    {
     "cell_type": "code",
     "collapsed": false,
     "input": [
      "v_max = 20\n",
      "num_cars=15\n",
      "l_=arange(1,41)\n",
      "random.shuffle(l_)\n",
      "x = sort(l_[:num_cars])\n",
      "\n",
      "v=[]\n",
      "for i in range(num_cars):\n",
      "    v.append(random.randint(0,v_max))\n",
      "v = list(set(v))\n",
      "\n",
      "while len(v)<num_cars:\n",
      "    v.append(randint(0,v_max))\n",
      "    v = list(set(v))\n",
      "    if len(v)==num_cars:\n",
      "        break\n",
      "v=array(v)\n",
      "\n",
      "print \"initial position\",x\n",
      "print \"initial velocity\",v\n",
      "\n",
      "\n",
      "\n",
      "def ASEP(x,v,l,num_cars):\n",
      "    #randomizing the order of iteration:\n",
      "    a = range(num_cars)\n",
      "    random.shuffle(a)\n",
      "\n",
      "    g_i=[]\n",
      "    y = []\n",
      "    for i in range(0,shape(x)[0]):\n",
      "        for j in range(0,shape(x)[0]):\n",
      "            if i!=j:\n",
      "                y.append(x[j]-x[i]-1)\n",
      "            else:\n",
      "                None\n",
      "    chunks = [y[i*(int(num_cars)-1):i*(int(num_cars)-1)+int(num_cars)-1] for i in xrange(0,shape(x)[0])]\n",
      "\n",
      "    #N lists for N-maximum cars for \"refined\"\n",
      "    refined=[],[],[],[],[],[],[],[],[],[],[],[],[],[],[],[],[],[],[],[],[],[],[],[],[],[],[],[],[],[],[],[],[],[],[],[],[],[],[],[],[],[],[],[],[],[],[],[],[],[],[],[],[],[],[],[],[],[],[],[],[],[],[],[],[],[],[],[],[],[],[],[],[],[],[],[],[],[],[],[],[],[],[],[],[],[],[],[],[],[],[],[],[],[],[],[],[],[],[],[],[],[],[],[],[],[],[],[],[],[],[],[],[],[],[],[],[],[],[],[],[],[],[],[],[],[],[],[],[],[],[],[],[],[],[],[],[],[],[],[],[],[],[],[],[],[],\n",
      "    for i in range(0,len(chunks[i])+1):\n",
      "        for j in range(0,len(chunks[j])):\n",
      "            if chunks[i][j]>0:\n",
      "                refined[i].append(chunks[i][j])\n",
      "            elif all(chunks[i][j]<0):\n",
      "                refined[i].append(max(l)-x[i]+min(x)-1)\n",
      "            else:\n",
      "                refined[i].append(0.)\n",
      "    \n",
      "    for i in range(0,len(refined[0])+1):\n",
      "        if shape(refined[i])[0]!=0:\n",
      "            g_i.append(min(refined[i]))\n",
      "        else:\n",
      "            None\n",
      "   # print g_i\n",
      "#Using the ASEP rules I change my initial velocity accordingly    \n",
      "    for i in range(v.shape[0]):\n",
      "        if g_i[a[i]]<v[a[i]]:\n",
      "            v[a[i]]=g_i[a[i]]\n",
      "        if g_i[a[i]]>v[a[i]] and v[a[i]]<v_max:\n",
      "            v[a[i]]=(v[a[i]]+1)\n",
      "        if g_i[a[i]]==0:\n",
      "            v[a[i]]=0\n",
      "        if v[a[i]]>v_max:\n",
      "            v[a[i]]=v_max\n",
      "            \n",
      "    \n",
      "        x[a[i]]=(x[a[i]]+v[a[i]])\n",
      "    \n",
      "        if x[a[i]]>max(l):\n",
      "            x[a[i]]=x[a[i]]-max(l)\n",
      "   \n",
      "    return array(x),array(v)\n",
      "    \n",
      "    \n",
      "ASEP(x,v,l_,num_cars)"
     ],
     "language": "python",
     "metadata": {},
     "outputs": [
      {
       "output_type": "stream",
       "stream": "stdout",
       "text": [
        "initial position [ 6 13 15 17 18 19 25 28 33 34 35 36 37 38 39]\n",
        "initial velocity [ 0  2  3  4  6  7  9 10 11 12 14 15 16 17 18]\n"
       ]
      },
      {
       "output_type": "pyout",
       "prompt_number": 11,
       "text": [
        "(array([ 7, 14, 16, 17, 18, 24, 27, 32, 33, 34, 35, 36, 37, 38,  5]),\n",
        " array([1, 1, 1, 0, 0, 5, 2, 4, 0, 0, 0, 0, 0, 0, 6]))"
       ]
      }
     ],
     "prompt_number": 11
    },
    {
     "cell_type": "markdown",
     "metadata": {},
     "source": [
      "##BETTER ASEP"
     ]
    },
    {
     "cell_type": "code",
     "collapsed": false,
     "input": [
      "#THIS IS THE FUNCTION USED. IT IS THE PROPER ONE.\n",
      "v_max = 15\n",
      "num_cars=35\n",
      "l_=arange(1,41)\n",
      "random.shuffle(l_)\n",
      "x = sort(l_[:num_cars])\n",
      "print \"x is\",x\n",
      "v=[]\n",
      "\n",
      "while len(v)<num_cars:\n",
      "    v.append(randint(0,v_max))\n",
      "   \n",
      "    if len(v)==num_cars:\n",
      "        break\n",
      "v=array(v)\n",
      "print \"v is\",v\n",
      "\n",
      "def ASEP2(x,v,l,num_cars):\n",
      "    #randomizing the order of iteration:\n",
      "    a = range(num_cars)\n",
      "    random.shuffle(a)\n",
      "    g_i=[]\n",
      "    y = []\n",
      "    for k in range(0,num_cars):\n",
      "        for i in range(0,shape(x)[0]):\n",
      "            if i!=k:\n",
      "                y.append(x[a[k]]-x[i]-1)\n",
      "            else:\n",
      "                None\n",
      "        refined=[]\n",
      "        for i in range(len(y)):\n",
      "            if y[i]>0:\n",
      "                refined.append(y[i])\n",
      "            elif all(y[i]<0):\n",
      "                refined.append(max(l)-x[a[k]]+min(x)-1)\n",
      "            else:\n",
      "                refined.append(0.)\n",
      "        refined=array(refined)\n",
      "        for i in range(0,len(refined)+1):\n",
      "            if shape(refined)[0]!=0:\n",
      "                g_i.append(min(refined))\n",
      "            else:\n",
      "                None\n",
      "    for k in range(num_cars):\n",
      "        if g_i[a[k]]<v[a[k]]:\n",
      "            v[a[k]]=g_i[a[k]]\n",
      "        if g_i[a[k]]>v[a[k]] and v[a[k]]<v_max:\n",
      "            v[a[k]]=(v[a[k]]+1)\n",
      "        if g_i[a[k]]==0:\n",
      "            v[a[k]]=0\n",
      "        if v[a[k]]>v_max:\n",
      "            v[a[k]]=v_max\n",
      "            \n",
      "    \n",
      "        x[a[k]]=(x[a[k]]+v[a[k]])\n",
      "    \n",
      "        if x[a[k]]>max(l):\n",
      "            x[a[k]]=x[a[k]]-max(l)\n",
      "   \n",
      "    return array(x),array(v)\n",
      "    \n",
      "    \n",
      "ASEP(x,v,l_,num_cars)"
     ],
     "language": "python",
     "metadata": {},
     "outputs": [
      {
       "output_type": "stream",
       "stream": "stdout",
       "text": [
        "x is [ 1  2  3  4  5  6  7  8  9 10 11 13 16 17 18 19 20 21 22 23 24 25 26 27 28\n",
        " 29 30 31 32 34 35 36 38 39 40]\n",
        "v is [ 7 13 13 12 13  5 10 10 10 10  8 11 12  2  5  8  3  6 10  5  6 10  1 14  7\n",
        "  9  7  0  9 13 11 11  0 11  0]\n"
       ]
      },
      {
       "output_type": "pyout",
       "prompt_number": 12,
       "text": [
        "(array([ 1,  2,  3,  4,  5,  6,  7,  8,  9, 10, 12, 15, 16, 17, 18, 19, 20,\n",
        "       21, 22, 23, 24, 25, 26, 27, 28, 29, 30, 31, 33, 34, 35, 37, 38, 39,\n",
        "       40]),\n",
        " array([0, 0, 0, 0, 0, 0, 0, 0, 0, 0, 1, 2, 0, 0, 0, 0, 0, 0, 0, 0, 0, 0, 0,\n",
        "       0, 0, 0, 0, 0, 1, 0, 0, 1, 0, 0, 0]))"
       ]
      }
     ],
     "prompt_number": 12
    },
    {
     "cell_type": "markdown",
     "metadata": {},
     "source": [
      "##PLOTTING CURRENT AND AVG VELOCITY"
     ]
    },
    {
     "cell_type": "code",
     "collapsed": false,
     "input": [
      "iterations=100\n",
      "#initial conditions:\n",
      "v_max = 10\n",
      "num_cars1=40\n",
      "num_cars2=20\n",
      "\n",
      "#10 cars, 150 iterations-- so we have the following empty data sets:\n",
      "Positions = zeros(num_cars*iterations).reshape(iterations,num_cars)\n",
      "Velocities = zeros(num_cars*iterations).reshape(iterations,num_cars)\n",
      "DataCA184 = Positions,Velocities\n",
      "#Velocities[1,2] returns row 1, column 2\n",
      "#Data[1]=Velocities\n",
      "#Data[0]=Positions   "
     ],
     "language": "python",
     "metadata": {},
     "outputs": [],
     "prompt_number": 13
    },
    {
     "cell_type": "code",
     "collapsed": false,
     "input": [
      "#Initial Conditions:\n",
      "v_max = 10\n",
      "num_cars=40\n",
      "l_=arange(1,101)\n",
      "random.shuffle(l_)\n",
      "X_ = sort(l_[:num_cars])\n",
      "#==========================\n",
      "Positions[0]=X_\n",
      "#==========================\n",
      "V_=[]\n",
      "\n",
      "while len(V_)<num_cars:\n",
      "    V_.append(randint(0,v_max))\n",
      "    \n",
      "    if len(V_)==num_cars:\n",
      "        break\n",
      "V_=array(V_)\n",
      "#==========================\n",
      "Velocities[0]=V_\n",
      "#==========================\n",
      "print \"initial position\",Positions[0]\n",
      "print \"initial velocity\",Velocities[0]"
     ],
     "language": "python",
     "metadata": {},
     "outputs": [
      {
       "ename": "ValueError",
       "evalue": "shape mismatch: objects cannot be broadcast to a single shape",
       "output_type": "pyerr",
       "traceback": [
        "\u001b[1;31m---------------------------------------------------------------------------\u001b[0m\n\u001b[1;31mValueError\u001b[0m                                Traceback (most recent call last)",
        "\u001b[1;32m<ipython-input-14-f4a3fc2d4211>\u001b[0m in \u001b[0;36m<module>\u001b[1;34m()\u001b[0m\n\u001b[0;32m      6\u001b[0m \u001b[0mX_\u001b[0m \u001b[1;33m=\u001b[0m \u001b[0msort\u001b[0m\u001b[1;33m(\u001b[0m\u001b[0ml_\u001b[0m\u001b[1;33m[\u001b[0m\u001b[1;33m:\u001b[0m\u001b[0mnum_cars\u001b[0m\u001b[1;33m]\u001b[0m\u001b[1;33m)\u001b[0m\u001b[1;33m\u001b[0m\u001b[0m\n\u001b[0;32m      7\u001b[0m \u001b[1;31m#==========================\u001b[0m\u001b[1;33m\u001b[0m\u001b[1;33m\u001b[0m\u001b[0m\n\u001b[1;32m----> 8\u001b[1;33m \u001b[0mPositions\u001b[0m\u001b[1;33m[\u001b[0m\u001b[1;36m0\u001b[0m\u001b[1;33m]\u001b[0m\u001b[1;33m=\u001b[0m\u001b[0mX_\u001b[0m\u001b[1;33m\u001b[0m\u001b[0m\n\u001b[0m\u001b[0;32m      9\u001b[0m \u001b[1;31m#==========================\u001b[0m\u001b[1;33m\u001b[0m\u001b[1;33m\u001b[0m\u001b[0m\n\u001b[0;32m     10\u001b[0m \u001b[0mV_\u001b[0m\u001b[1;33m=\u001b[0m\u001b[1;33m[\u001b[0m\u001b[1;33m]\u001b[0m\u001b[1;33m\u001b[0m\u001b[0m\n",
        "\u001b[1;31mValueError\u001b[0m: shape mismatch: objects cannot be broadcast to a single shape"
       ]
      }
     ],
     "prompt_number": 14
    },
    {
     "cell_type": "code",
     "collapsed": false,
     "input": [
      "iterations=100\n",
      "#initial conditions:\n",
      "v_max = 10\n",
      "num_cars=40\n",
      "l_=arange(1,101)\n",
      "random.shuffle(l_)\n",
      "X_ = sort(l_[:num_cars])\n",
      "#==========================\n",
      "Positions[0]=X_\n",
      "#==========================\n",
      "V_=[]\n",
      "\n",
      "while len(V_)<num_cars:\n",
      "    V_.append(randint(0,v_max))\n",
      "    \n",
      "    if len(V_)==num_cars:\n",
      "        break\n",
      "V_=array(V_)\n",
      "#==========================\n",
      "Velocities[0]=V_\n",
      "#==========================\n",
      "print \"initial position\",Positions[0]\n",
      "print \"initial velocity\",Velocities[0]\n",
      "#==========================\n",
      "\n",
      "#Storing the data of each iteration in arrays\n",
      "for i in range(0,iterations-1):\n",
      "    Positions[i+1],Velocities[i+1]=CA184(Positions[i],Velocities[i],l_,num_cars);"
     ],
     "language": "python",
     "metadata": {},
     "outputs": [
      {
       "ename": "ValueError",
       "evalue": "shape mismatch: objects cannot be broadcast to a single shape",
       "output_type": "pyerr",
       "traceback": [
        "\u001b[1;31m---------------------------------------------------------------------------\u001b[0m\n\u001b[1;31mValueError\u001b[0m                                Traceback (most recent call last)",
        "\u001b[1;32m<ipython-input-15-d0943c3882fd>\u001b[0m in \u001b[0;36m<module>\u001b[1;34m()\u001b[0m\n\u001b[0;32m      7\u001b[0m \u001b[0mX_\u001b[0m \u001b[1;33m=\u001b[0m \u001b[0msort\u001b[0m\u001b[1;33m(\u001b[0m\u001b[0ml_\u001b[0m\u001b[1;33m[\u001b[0m\u001b[1;33m:\u001b[0m\u001b[0mnum_cars\u001b[0m\u001b[1;33m]\u001b[0m\u001b[1;33m)\u001b[0m\u001b[1;33m\u001b[0m\u001b[0m\n\u001b[0;32m      8\u001b[0m \u001b[1;31m#==========================\u001b[0m\u001b[1;33m\u001b[0m\u001b[1;33m\u001b[0m\u001b[0m\n\u001b[1;32m----> 9\u001b[1;33m \u001b[0mPositions\u001b[0m\u001b[1;33m[\u001b[0m\u001b[1;36m0\u001b[0m\u001b[1;33m]\u001b[0m\u001b[1;33m=\u001b[0m\u001b[0mX_\u001b[0m\u001b[1;33m\u001b[0m\u001b[0m\n\u001b[0m\u001b[0;32m     10\u001b[0m \u001b[1;31m#==========================\u001b[0m\u001b[1;33m\u001b[0m\u001b[1;33m\u001b[0m\u001b[0m\n\u001b[0;32m     11\u001b[0m \u001b[0mV_\u001b[0m\u001b[1;33m=\u001b[0m\u001b[1;33m[\u001b[0m\u001b[1;33m]\u001b[0m\u001b[1;33m\u001b[0m\u001b[0m\n",
        "\u001b[1;31mValueError\u001b[0m: shape mismatch: objects cannot be broadcast to a single shape"
       ]
      }
     ],
     "prompt_number": 15
    },
    {
     "cell_type": "code",
     "collapsed": false,
     "input": [
      "#I create an array of the sum of all velocities at each time step\n",
      "SumVel = []\n",
      "for i in range(shape(Velocities)[0]):\n",
      "    SumVel.append(sum(Velocities[i]))\n",
      "SumVel=array(SumVel)\n",
      "print shape(SumVel)[0]"
     ],
     "language": "python",
     "metadata": {},
     "outputs": [
      {
       "output_type": "stream",
       "stream": "stdout",
       "text": [
        "100\n"
       ]
      }
     ],
     "prompt_number": 16
    },
    {
     "cell_type": "code",
     "collapsed": false,
     "input": [
      "#I compute the average velocity per time step by simply dividing by the number of cars\n",
      "AvgVel = SumVel/num_cars\n",
      "print AvgVel"
     ],
     "language": "python",
     "metadata": {},
     "outputs": [
      {
       "output_type": "stream",
       "stream": "stdout",
       "text": [
        "[ 0.  0.  0.  0.  0.  0.  0.  0.  0.  0.  0.  0.  0.  0.  0.  0.  0.  0.\n",
        "  0.  0.  0.  0.  0.  0.  0.  0.  0.  0.  0.  0.  0.  0.  0.  0.  0.  0.\n",
        "  0.  0.  0.  0.  0.  0.  0.  0.  0.  0.  0.  0.  0.  0.  0.  0.  0.  0.\n",
        "  0.  0.  0.  0.  0.  0.  0.  0.  0.  0.  0.  0.  0.  0.  0.  0.  0.  0.\n",
        "  0.  0.  0.  0.  0.  0.  0.  0.  0.  0.  0.  0.  0.  0.  0.  0.  0.  0.\n",
        "  0.  0.  0.  0.  0.  0.  0.  0.  0.  0.]\n"
       ]
      }
     ],
     "prompt_number": 17
    },
    {
     "cell_type": "code",
     "collapsed": false,
     "input": [
      "#Plotting Car Positions Vs Time\n",
      "t_ = arange(shape(Positions[:,[1]])[0])\n",
      "print shape(Positions[:,[1]])[0]\n",
      "#positions for car #2 (column 2):\n",
      "plot(t_,Positions[:,[2]])\n",
      "xlabel('time')\n",
      "ylabel('position')\n",
      "title('CA184 position vs time')\n",
      "ylim(1,max(l_))\n",
      "xlim(0,150)\n",
      "show()\n",
      "print Positions"
     ],
     "language": "python",
     "metadata": {},
     "outputs": [
      {
       "output_type": "stream",
       "stream": "stdout",
       "text": [
        "100\n"
       ]
      },
      {
       "output_type": "display_data",
       "png": "[encoded data removed]"
      },
      {
       "output_type": "stream",
       "stream": "stdout",
       "text": [
        "[[ 0.  0.  0. ...,  0.  0.  0.]\n",
        " [ 0.  0.  0. ...,  0.  0.  0.]\n",
        " [ 0.  0.  0. ...,  0.  0.  0.]\n",
        " ..., \n",
        " [ 0.  0.  0. ...,  0.  0.  0.]\n",
        " [ 0.  0.  0. ...,  0.  0.  0.]\n",
        " [ 0.  0.  0. ...,  0.  0.  0.]]\n"
       ]
      }
     ],
     "prompt_number": 18
    },
    {
     "cell_type": "code",
     "collapsed": false,
     "input": [
      "#Plotting Current Vs. Time\n",
      "t = arange(iterations)\n",
      "#Current is simply density times avg vel\n",
      "plot(t,SumVel/len(l_))\n",
      "title(\"CA184Current Vs. Time\")\n",
      "xlabel('time')\n",
      "ylabel('current')\n",
      "xlim(0,iterations)\n",
      "ylim(0,1)\n",
      "show()"
     ],
     "language": "python",
     "metadata": {},
     "outputs": [
      {
       "output_type": "display_data",
       "png": "[encoded data removed]"
      }
     ],
     "prompt_number": 19
    },
    {
     "cell_type": "code",
     "collapsed": false,
     "input": [
      "iterations=150\n",
      "#initial conditions:\n",
      "v_max = 10\n",
      "num_cars=7\n",
      "\n",
      "#10 cars, 150 iterations-- so we have the following empty data sets:\n",
      "PositionsSTCA = zeros(num_cars*iterations).reshape(iterations,num_cars)\n",
      "VelocitiesSTCA = zeros(num_cars*iterations).reshape(iterations,num_cars)\n",
      "DataSTCA = PositionsSTCA,VelocitiesSTCA"
     ],
     "language": "python",
     "metadata": {},
     "outputs": [],
     "prompt_number": 20
    },
    {
     "cell_type": "code",
     "collapsed": false,
     "input": [
      "iterations=150\n",
      "#initial conditions:\n",
      "v_max = 10\n",
      "num_cars=7\n",
      "l_=arange(1,41)\n",
      "random.shuffle(l_)\n",
      "X_ = sort(l_[:num_cars])\n",
      "#==========================\n",
      "PositionsSTCA[0]=X_\n",
      "#==========================\n",
      "V_=[]\n",
      "for i in range(num_cars):\n",
      "    V_.append(random.randint(0,v_max))\n",
      "V_ = list(set(V_))\n",
      "while len(V_)<num_cars:\n",
      "    V_.append(randint(0,v_max))\n",
      "    V_ = list(set(V_))\n",
      "    if len(V_)==num_cars:\n",
      "        break\n",
      "V_=array(V_)\n",
      "#==========================\n",
      "VelocitiesSTCA[0]=V_\n",
      "#==========================\n",
      "print \"initial position\",PositionsSTCA[0]\n",
      "print \"initial velocity\",VelocitiesSTCA[0]\n",
      "#==========================\n",
      "\n",
      "#Storing the data of each iteration in arrays\n",
      "for i in range(0,iterations-1):\n",
      "    PositionsSTCA[i+1],VelocitiesSTCA[i+1]=STCA(PositionsSTCA[i],VelocitiesSTCA[i],l_,num_cars);"
     ],
     "language": "python",
     "metadata": {},
     "outputs": [
      {
       "output_type": "stream",
       "stream": "stdout",
       "text": [
        "initial position [  3.   5.  20.  28.  30.  31.  39.]\n",
        "initial velocity [ 0.  1.  2.  4.  6.  7.  8.]\n"
       ]
      }
     ],
     "prompt_number": 21
    },
    {
     "cell_type": "code",
     "collapsed": false,
     "input": [
      "SumVelSTCA = []\n",
      "for i in range(shape(VelocitiesSTCA)[0]):\n",
      "    SumVelSTCA.append(sum(VelocitiesSTCA[i]))\n",
      "SumVelSTCA=array(SumVelSTCA)"
     ],
     "language": "python",
     "metadata": {},
     "outputs": [],
     "prompt_number": 22
    },
    {
     "cell_type": "code",
     "collapsed": false,
     "input": [
      "#Plotting Current Vs. Time\n",
      "t = arange(iterations)\n",
      "#Current is simply density times avg vel\n",
      "plot(t,SumVelSTCA/len(l_))\n",
      "title(\"STCACurrent Vs. Time\")\n",
      "xlabel('time')\n",
      "ylabel('current')\n",
      "xlim(0,iterations)\n",
      "ylim(0,1)\n",
      "show()"
     ],
     "language": "python",
     "metadata": {},
     "outputs": [
      {
       "output_type": "display_data",
       "png": "[encoded data removed]"
      }
     ],
     "prompt_number": 23
    },
    {
     "cell_type": "code",
     "collapsed": false,
     "input": [
      "#Plotting Car Positions Vs Time\n",
      "t__ = arange(shape(PositionsSTCA[:,[1]])[0])\n",
      "#print PositionsSTCA for car #5 (column 5)\n",
      "plot(t__,PositionsSTCA[:,[5]])\n",
      "xlabel('time')\n",
      "ylabel('position')\n",
      "title('STCA position vs time')\n",
      "xlim(0,90)\n",
      "#print shape(Positions[:,[1]])\n",
      "show()"
     ],
     "language": "python",
     "metadata": {},
     "outputs": [
      {
       "output_type": "display_data",
       "png": "[encoded data removed]"
      }
     ],
     "prompt_number": 24
    },
    {
     "cell_type": "code",
     "collapsed": false,
     "input": [
      "iterations=150\n",
      "#initial conditions:\n",
      "v_max = 10\n",
      "num_cars=10\n",
      "\n",
      "PositionsASEP = zeros(num_cars*iterations).reshape(iterations,num_cars)\n",
      "VelocitiesASEP = zeros(num_cars*iterations).reshape(iterations,num_cars)\n",
      "DataASEP = PositionsASEP,VelocitiesASEP\n",
      "\n",
      "\n",
      "l__=arange(1,41)\n",
      "random.shuffle(l__)\n",
      "X__ = sort(l__[:num_cars])\n",
      "#==========================\n",
      "PositionsASEP[0]=X__\n",
      "#==========================\n",
      "V__=[]\n",
      "f\n",
      "while len(V__)<num_cars:\n",
      "    V__.append(randint(0,v_max))\n",
      "   \n",
      "    if len(V__)==num_cars:\n",
      "        break\n",
      "V__=array(V__)\n",
      "\n",
      "#==========================\n",
      "VelocitiesASEP[0]=V__\n",
      "#==========================\n",
      "print \"initial position\",PositionsASEP[0]\n",
      "print \"initial velocity\",VelocitiesASEP[0]\n",
      "#==========================\n",
      "\n",
      "\n",
      "for i in range(0,iterations-1):\n",
      "    PositionsASEP[i+1],VelocitiesASEP[i+1]=ASEP2(PositionsASEP[i],VelocitiesASEP[i],l__,num_cars);\n",
      "    "
     ],
     "language": "python",
     "metadata": {},
     "outputs": [
      {
       "output_type": "stream",
       "stream": "stdout",
       "text": [
        "initial position [ 11.  12.  16.  18.  22.  29.  30.  35.  36.  40.]\n",
        "initial velocity [ 6.  0.  9.  4.  4.  5.  7.  2.  2.  6.]\n"
       ]
      }
     ],
     "prompt_number": 202
    },
    {
     "cell_type": "code",
     "collapsed": false,
     "input": [],
     "language": "python",
     "metadata": {},
     "outputs": [],
     "prompt_number": 202
    },
    {
     "cell_type": "code",
     "collapsed": false,
     "input": [],
     "language": "python",
     "metadata": {},
     "outputs": [],
     "prompt_number": 202
    },
    {
     "cell_type": "code",
     "collapsed": false,
     "input": [],
     "language": "python",
     "metadata": {},
     "outputs": [],
     "prompt_number": 202
    },
    {
     "cell_type": "code",
     "collapsed": false,
     "input": [
      "#print VVV1\n",
      "        #XXX2.append(pos2)\n",
      "        #VVV1.append(vel1)\n",
      "        #VVV2.append(vel2)\n",
      "        #car1.append(car11)\n",
      "        #car2.append(car22)"
     ],
     "language": "python",
     "metadata": {},
     "outputs": [],
     "prompt_number": 2
    },
    {
     "cell_type": "code",
     "collapsed": false,
     "input": [
      "for i in range(len(VVV1)):\n",
      "    avg_vel1.append(sum(VVV1[i])/float(car1[i]))\n",
      "print len(VVV1[0])\n",
      "\n",
      "for i in range(len(VVV2)):\n",
      "    avg_vel2.append(sum(VVV2[i])/float(car2[i]))\n",
      "\n",
      "#print avg_vel1\n",
      "#print avg_vel2"
     ],
     "language": "python",
     "metadata": {},
     "outputs": [
      {
       "ename": "NameError",
       "evalue": "name 'VVV1' is not defined",
       "output_type": "pyerr",
       "traceback": [
        "\u001b[1;31m---------------------------------------------------------------------------\u001b[0m\n\u001b[1;31mNameError\u001b[0m                                 Traceback (most recent call last)",
        "\u001b[1;32m<ipython-input-3-b8478d6e6bb1>\u001b[0m in \u001b[0;36m<module>\u001b[1;34m()\u001b[0m\n\u001b[1;32m----> 1\u001b[1;33m \u001b[1;32mfor\u001b[0m \u001b[0mi\u001b[0m \u001b[1;32min\u001b[0m \u001b[0mrange\u001b[0m\u001b[1;33m(\u001b[0m\u001b[0mlen\u001b[0m\u001b[1;33m(\u001b[0m\u001b[0mVVV1\u001b[0m\u001b[1;33m)\u001b[0m\u001b[1;33m)\u001b[0m\u001b[1;33m:\u001b[0m\u001b[1;33m\u001b[0m\u001b[0m\n\u001b[0m\u001b[0;32m      2\u001b[0m     \u001b[0mavg_vel1\u001b[0m\u001b[1;33m.\u001b[0m\u001b[0mappend\u001b[0m\u001b[1;33m(\u001b[0m\u001b[0msum\u001b[0m\u001b[1;33m(\u001b[0m\u001b[0mVVV1\u001b[0m\u001b[1;33m[\u001b[0m\u001b[0mi\u001b[0m\u001b[1;33m]\u001b[0m\u001b[1;33m)\u001b[0m\u001b[1;33m/\u001b[0m\u001b[0mfloat\u001b[0m\u001b[1;33m(\u001b[0m\u001b[0mcar1\u001b[0m\u001b[1;33m[\u001b[0m\u001b[0mi\u001b[0m\u001b[1;33m]\u001b[0m\u001b[1;33m)\u001b[0m\u001b[1;33m)\u001b[0m\u001b[1;33m\u001b[0m\u001b[0m\n\u001b[0;32m      3\u001b[0m \u001b[1;32mprint\u001b[0m \u001b[0mlen\u001b[0m\u001b[1;33m(\u001b[0m\u001b[0mVVV1\u001b[0m\u001b[1;33m[\u001b[0m\u001b[1;36m0\u001b[0m\u001b[1;33m]\u001b[0m\u001b[1;33m)\u001b[0m\u001b[1;33m\u001b[0m\u001b[0m\n\u001b[0;32m      4\u001b[0m \u001b[1;33m\u001b[0m\u001b[0m\n\u001b[0;32m      5\u001b[0m \u001b[1;32mfor\u001b[0m \u001b[0mi\u001b[0m \u001b[1;32min\u001b[0m \u001b[0mrange\u001b[0m\u001b[1;33m(\u001b[0m\u001b[0mlen\u001b[0m\u001b[1;33m(\u001b[0m\u001b[0mVVV2\u001b[0m\u001b[1;33m)\u001b[0m\u001b[1;33m)\u001b[0m\u001b[1;33m:\u001b[0m\u001b[1;33m\u001b[0m\u001b[0m\n",
        "\u001b[1;31mNameError\u001b[0m: name 'VVV1' is not defined"
       ]
      }
     ],
     "prompt_number": 3
    },
    {
     "cell_type": "code",
     "collapsed": false,
     "input": [],
     "language": "python",
     "metadata": {},
     "outputs": [],
     "prompt_number": 3
    },
    {
     "cell_type": "code",
     "collapsed": false,
     "input": [],
     "language": "python",
     "metadata": {},
     "outputs": [],
     "prompt_number": 3
    },
    {
     "cell_type": "code",
     "collapsed": false,
     "input": [
      "#DATA CA184\n",
      "carsref=[]\n",
      "p=.1\n",
      "v_max=10\n",
      "iterations = 130.\n",
      "length = arange(1,101)\n",
      "l_1=length\n",
      "l_2=length\n",
      "VVV1_per=[]\n",
      "VVV2_per=[]\n",
      "car1_per=[]\n",
      "car2_per=[]\n",
      "fasterDataCA184 = zeros(5*79).reshape(79,5)\n",
      "avg_vel1=[]\n",
      "avg_vel2=[]\n",
      "for k in range(1,80):\n",
      "    fasterDataCA184[k-1:k,[0]]=(k+1)*.01\n",
      "#print fasterDataCA184\n",
      "num_cars01=0\n",
      "num_cars02=0\n",
      "for j in range(1,80):\n",
      "    num_cars1=num_cars01\n",
      "    random.shuffle(length)\n",
      "    num_cars1=int((fasterDataCA184[j:j+1,[0]])*max(length))\n",
      "    print 'numcars1!!!', num_cars1\n",
      "    num_cars2=0\n",
      "    random.shuffle(length)\n",
      "    if num_cars1<5:\n",
      "        num_cars2=2\n",
      "    if 5<=num_cars1<10:\n",
      "        num_cars2=4\n",
      "    if 10<=num_cars1<15:\n",
      "        num_cars2=5\n",
      "    if 15<=num_cars1<20:\n",
      "        num_cars2=6\n",
      "    if 20<=num_cars1<25:\n",
      "        num_cars2=7\n",
      "    if 25<=num_cars1<30:\n",
      "        num_cars2=8     \n",
      "    if 30<=num_cars1<35:\n",
      "        num_cars2=9\n",
      "    if 35<=num_cars1<40:\n",
      "        num_cars2=10\n",
      "    if 40<=num_cars1<45:\n",
      "        num_cars2=11\n",
      "    if 45<=num_cars1<50:\n",
      "        num_cars2=12\n",
      "    if 50<=num_cars1<55:\n",
      "        num_cars2=13\n",
      "    if 55<=num_cars1<60:\n",
      "        num_cars2=14\n",
      "    if 60<=num_cars1<65:\n",
      "        num_cars2=15\n",
      "    if 65<=num_cars1<70:\n",
      "        num_cars2=16\n",
      "    if 70<=num_cars1<75:\n",
      "        num_cars2=17\n",
      "    if 75<=num_cars1<=80:\n",
      "        num_cars2=18\n",
      "        \n",
      "    carsref.append(num_cars1+num_cars2)\n",
      "        \n",
      "    num_cars11=zeros(80)\n",
      "    #print num_cars11[0]\n",
      "    num_cars11[0]=num_cars1\n",
      "    #print num_cars11\n",
      "    num_cars22=zeros(80)\n",
      "    num_cars22[0]=num_cars2\n",
      "    \n",
      "    Positions1CA184=zeros((num_cars1)*iterations).reshape(iterations,num_cars1)\n",
      "    Positions2CA184=zeros((num_cars2)*iterations).reshape(iterations,num_cars2)\n",
      "    Velocities1CA184=zeros((num_cars1)*iterations).reshape(iterations,num_cars1)\n",
      "    Velocities2CA184=zeros((num_cars2)*iterations).reshape(iterations,num_cars2)\n",
      "   # Positions1CA18=[]\n",
      "   # Positions2CA184=[]\n",
      "   # Velocities1CA184=[]\n",
      "   # Velocities2CA184=[]\n",
      "    \n",
      "   \n",
      "    Positions1CA184[0]=sort(length[:int(num_cars1)])\n",
      "    Positions2CA184[0]=sort(length[:int(num_cars2)])\n",
      "    V1=[]\n",
      "    while len(V1)<num_cars1:\n",
      "        V1.append(randint(0,v_max))\n",
      "        if len(V1)==num_cars1:\n",
      "            break\n",
      "    V2=[]\n",
      "    while len(V2)<num_cars2:\n",
      "        V2.append(randint(0,v_max))\n",
      "        if len(V2)==num_cars2:\n",
      "            break\n",
      "  #  print Positions1CA184\n",
      "\n",
      "    Velocities1CA184[0]=V1\n",
      "    Velocities2CA184[0]=V2\n",
      " \n",
      "  #  print Velocities2CA184\n",
      "    XXX1=[list(Positions1CA184[0])]\n",
      "   # print XXX1\n",
      "    XXX2=[list(Positions2CA184[0])]\n",
      "    VVV1=[list(Velocities1CA184[0])]\n",
      "    VVV2=[list(Velocities2CA184[0])]\n",
      "    car1=[num_cars1]\n",
      "    car2=[num_cars2]\n",
      "    for a in range(0,int(iterations-1)):\n",
      "        #Positions1CA184[a+1],Velocities1CA184[a+1],Positions2CA184[a+1],Velocities2CA184[a+1],num_cars11[a+1],num_cars22[a+1]=CA184(Positions1CA184[a],Positions2CA184[a],Velocities1CA184[a],Velocities2CA184[a],l_1,l_2,num_cars11[a],num_cars22[a])\n",
      "        pos1,vel1,pos2,vel2,car11,car22=STCA(XXX1[a],XXX2[a],VVV1[a],VVV2[a],l_1,l_2,car1[a],car2[a])\n",
      "        XXX1.append(pos1)\n",
      "        XXX2.append(pos2)\n",
      "        VVV1.append(vel1)\n",
      "        VVV2.append(vel2)\n",
      "        car1.append(car11)\n",
      "        car2.append(car22)\n",
      "    \n",
      "    VVV1_per.append(VVV1)\n",
      "    VVV2_per.append(VVV2)\n",
      "    car1_per.append(car1)\n",
      "    car2_per.append(car2)\n",
      "     #   avg_vel1.append(sum(VVV1[a+1])/float(car1[a+1]))\n",
      "    \n",
      "    \n",
      "    \n",
      "     #   avg_vel2.append(sum(VVV2[a+1])/float(car2[a+1]))\n",
      "    \n",
      "#avg_veltot=[]\n",
      "#for i in range(len(avg_vel1)):\n",
      " #   avg_veltot.append((sum(avg_vel1[i])+sum(avg_vel2[i]))/2.)\n",
      "   \n",
      "    \n",
      "  #  fasterDataCA184[j-1:j,[1]]=avg_vel\n",
      "  #  fasterDataCA184[j-1:j,[2]]=avg_vel*num_cars/max(length)\n",
      " #   print fasterDataCA184"
     ],
     "language": "python",
     "metadata": {},
     "outputs": [
      {
       "output_type": "stream",
       "stream": "stdout",
       "text": [
        "numcars1!!! 3\n",
        "numcars1!!!"
       ]
      },
      {
       "output_type": "stream",
       "stream": "stdout",
       "text": [
        " 4\n",
        "numcars1!!!"
       ]
      },
      {
       "output_type": "stream",
       "stream": "stdout",
       "text": [
        " 5\n",
        "numcars1!!!"
       ]
      },
      {
       "output_type": "stream",
       "stream": "stdout",
       "text": [
        " 6\n",
        "numcars1!!!"
       ]
      },
      {
       "output_type": "stream",
       "stream": "stdout",
       "text": [
        " 7\n",
        "numcars1!!!"
       ]
      },
      {
       "output_type": "stream",
       "stream": "stdout",
       "text": [
        " 8\n",
        "numcars1!!!"
       ]
      },
      {
       "output_type": "stream",
       "stream": "stdout",
       "text": [
        " 9\n",
        "numcars1!!!"
       ]
      },
      {
       "output_type": "stream",
       "stream": "stdout",
       "text": [
        " 10\n",
        "numcars1!!!"
       ]
      },
      {
       "output_type": "stream",
       "stream": "stdout",
       "text": [
        " 11\n",
        "numcars1!!!"
       ]
      },
      {
       "output_type": "stream",
       "stream": "stdout",
       "text": [
        " 12\n",
        "numcars1!!!"
       ]
      },
      {
       "output_type": "stream",
       "stream": "stdout",
       "text": [
        " 13\n",
        "numcars1!!!"
       ]
      },
      {
       "output_type": "stream",
       "stream": "stdout",
       "text": [
        " 14\n",
        "numcars1!!!"
       ]
      },
      {
       "output_type": "stream",
       "stream": "stdout",
       "text": [
        " 15\n",
        "numcars1!!!"
       ]
      },
      {
       "output_type": "stream",
       "stream": "stdout",
       "text": [
        " 16\n",
        "numcars1!!!"
       ]
      },
      {
       "output_type": "stream",
       "stream": "stdout",
       "text": [
        " 17\n",
        "numcars1!!!"
       ]
      },
      {
       "output_type": "stream",
       "stream": "stdout",
       "text": [
        " 18\n",
        "numcars1!!!"
       ]
      },
      {
       "output_type": "stream",
       "stream": "stdout",
       "text": [
        " 19\n",
        "numcars1!!!"
       ]
      },
      {
       "output_type": "stream",
       "stream": "stdout",
       "text": [
        " 20\n",
        "numcars1!!!"
       ]
      },
      {
       "output_type": "stream",
       "stream": "stdout",
       "text": [
        " 21\n",
        "numcars1!!!"
       ]
      },
      {
       "output_type": "stream",
       "stream": "stdout",
       "text": [
        " 22\n",
        "numcars1!!!"
       ]
      },
      {
       "output_type": "stream",
       "stream": "stdout",
       "text": [
        " 23\n",
        "numcars1!!!"
       ]
      },
      {
       "output_type": "stream",
       "stream": "stdout",
       "text": [
        " 24\n",
        "numcars1!!!"
       ]
      },
      {
       "output_type": "stream",
       "stream": "stdout",
       "text": [
        " 25\n",
        "numcars1!!!"
       ]
      },
      {
       "output_type": "stream",
       "stream": "stdout",
       "text": [
        " 26\n",
        "numcars1!!!"
       ]
      },
      {
       "output_type": "stream",
       "stream": "stdout",
       "text": [
        " 27\n",
        "numcars1!!!"
       ]
      },
      {
       "output_type": "stream",
       "stream": "stdout",
       "text": [
        " 28\n",
        "numcars1!!!"
       ]
      },
      {
       "output_type": "stream",
       "stream": "stdout",
       "text": [
        " 28\n",
        "numcars1!!!"
       ]
      },
      {
       "output_type": "stream",
       "stream": "stdout",
       "text": [
        " 30\n",
        "numcars1!!!"
       ]
      },
      {
       "output_type": "stream",
       "stream": "stdout",
       "text": [
        " 31\n",
        "numcars1!!!"
       ]
      },
      {
       "output_type": "stream",
       "stream": "stdout",
       "text": [
        " 32\n",
        "numcars1!!!"
       ]
      },
      {
       "output_type": "stream",
       "stream": "stdout",
       "text": [
        " 33\n",
        "numcars1!!!"
       ]
      },
      {
       "output_type": "stream",
       "stream": "stdout",
       "text": [
        " 34\n",
        "numcars1!!!"
       ]
      },
      {
       "output_type": "stream",
       "stream": "stdout",
       "text": [
        " 35\n",
        "numcars1!!!"
       ]
      },
      {
       "output_type": "stream",
       "stream": "stdout",
       "text": [
        " 36\n",
        "numcars1!!!"
       ]
      },
      {
       "output_type": "stream",
       "stream": "stdout",
       "text": [
        " 37\n",
        "numcars1!!!"
       ]
      },
      {
       "output_type": "stream",
       "stream": "stdout",
       "text": [
        " 38\n",
        "numcars1!!!"
       ]
      },
      {
       "output_type": "stream",
       "stream": "stdout",
       "text": [
        " 39\n",
        "numcars1!!!"
       ]
      },
      {
       "output_type": "stream",
       "stream": "stdout",
       "text": [
        " 40\n",
        "numcars1!!!"
       ]
      },
      {
       "output_type": "stream",
       "stream": "stdout",
       "text": [
        " 41\n",
        "numcars1!!!"
       ]
      },
      {
       "output_type": "stream",
       "stream": "stdout",
       "text": [
        " 42\n",
        "numcars1!!!"
       ]
      },
      {
       "output_type": "stream",
       "stream": "stdout",
       "text": [
        " 43\n",
        "numcars1!!!"
       ]
      },
      {
       "output_type": "stream",
       "stream": "stdout",
       "text": [
        " 44\n",
        "numcars1!!!"
       ]
      },
      {
       "output_type": "stream",
       "stream": "stdout",
       "text": [
        " 45\n",
        "numcars1!!!"
       ]
      },
      {
       "output_type": "stream",
       "stream": "stdout",
       "text": [
        " 46\n",
        "numcars1!!!"
       ]
      },
      {
       "output_type": "stream",
       "stream": "stdout",
       "text": [
        " 47\n",
        "numcars1!!!"
       ]
      },
      {
       "output_type": "stream",
       "stream": "stdout",
       "text": [
        " 48\n",
        "numcars1!!!"
       ]
      },
      {
       "output_type": "stream",
       "stream": "stdout",
       "text": [
        " 49\n",
        "numcars1!!!"
       ]
      },
      {
       "output_type": "stream",
       "stream": "stdout",
       "text": [
        " 50\n",
        "numcars1!!!"
       ]
      },
      {
       "output_type": "stream",
       "stream": "stdout",
       "text": [
        " 51\n",
        "numcars1!!!"
       ]
      },
      {
       "output_type": "stream",
       "stream": "stdout",
       "text": [
        " 52\n",
        "numcars1!!!"
       ]
      },
      {
       "output_type": "stream",
       "stream": "stdout",
       "text": [
        " 53\n",
        "numcars1!!!"
       ]
      },
      {
       "output_type": "stream",
       "stream": "stdout",
       "text": [
        " 54\n",
        "numcars1!!!"
       ]
      },
      {
       "output_type": "stream",
       "stream": "stdout",
       "text": [
        " 55\n",
        "numcars1!!!"
       ]
      },
      {
       "output_type": "stream",
       "stream": "stdout",
       "text": [
        " 56\n",
        "numcars1!!!"
       ]
      },
      {
       "output_type": "stream",
       "stream": "stdout",
       "text": [
        " 57\n",
        "numcars1!!!"
       ]
      },
      {
       "output_type": "stream",
       "stream": "stdout",
       "text": [
        " 57\n",
        "numcars1!!!"
       ]
      },
      {
       "output_type": "stream",
       "stream": "stdout",
       "text": [
        " 59\n",
        "numcars1!!!"
       ]
      },
      {
       "output_type": "stream",
       "stream": "stdout",
       "text": [
        " 60\n",
        "numcars1!!!"
       ]
      },
      {
       "output_type": "stream",
       "stream": "stdout",
       "text": [
        " 61\n",
        "numcars1!!!"
       ]
      },
      {
       "output_type": "stream",
       "stream": "stdout",
       "text": [
        " 62\n",
        "numcars1!!!"
       ]
      },
      {
       "output_type": "stream",
       "stream": "stdout",
       "text": [
        " 63\n",
        "numcars1!!!"
       ]
      },
      {
       "output_type": "stream",
       "stream": "stdout",
       "text": [
        " 64\n",
        "numcars1!!!"
       ]
      },
      {
       "output_type": "stream",
       "stream": "stdout",
       "text": [
        " 65\n",
        "numcars1!!!"
       ]
      },
      {
       "output_type": "stream",
       "stream": "stdout",
       "text": [
        " 66\n",
        "numcars1!!!"
       ]
      },
      {
       "output_type": "stream",
       "stream": "stdout",
       "text": [
        " 67\n",
        "numcars1!!!"
       ]
      },
      {
       "output_type": "stream",
       "stream": "stdout",
       "text": [
        " 68\n",
        "numcars1!!!"
       ]
      },
      {
       "output_type": "stream",
       "stream": "stdout",
       "text": [
        " 69\n",
        "numcars1!!!"
       ]
      },
      {
       "output_type": "stream",
       "stream": "stdout",
       "text": [
        " 70\n",
        "numcars1!!!"
       ]
      },
      {
       "output_type": "stream",
       "stream": "stdout",
       "text": [
        " 71\n",
        "numcars1!!!"
       ]
      },
      {
       "output_type": "stream",
       "stream": "stdout",
       "text": [
        " 72\n",
        "numcars1!!!"
       ]
      },
      {
       "output_type": "stream",
       "stream": "stdout",
       "text": [
        " 73\n",
        "numcars1!!!"
       ]
      },
      {
       "output_type": "stream",
       "stream": "stdout",
       "text": [
        " 74\n",
        "numcars1!!!"
       ]
      },
      {
       "output_type": "stream",
       "stream": "stdout",
       "text": [
        " 75\n",
        "numcars1!!!"
       ]
      },
      {
       "output_type": "stream",
       "stream": "stdout",
       "text": [
        " 76\n",
        "numcars1!!!"
       ]
      },
      {
       "output_type": "stream",
       "stream": "stdout",
       "text": [
        " 77\n",
        "numcars1!!!"
       ]
      },
      {
       "output_type": "stream",
       "stream": "stdout",
       "text": [
        " 78\n",
        "numcars1!!!"
       ]
      },
      {
       "output_type": "stream",
       "stream": "stdout",
       "text": [
        " 79\n",
        "numcars1!!!"
       ]
      },
      {
       "ename": "TypeError",
       "evalue": "only length-1 arrays can be converted to Python scalars",
       "output_type": "pyerr",
       "traceback": [
        "\u001b[1;31m---------------------------------------------------------------------------\u001b[0m\n\u001b[1;31mTypeError\u001b[0m                                 Traceback (most recent call last)",
        "\u001b[1;32m<ipython-input-27-4af93c4ab025>\u001b[0m in \u001b[0;36m<module>\u001b[1;34m()\u001b[0m\n\u001b[0;32m     22\u001b[0m     \u001b[0mnum_cars1\u001b[0m\u001b[1;33m=\u001b[0m\u001b[0mnum_cars01\u001b[0m\u001b[1;33m\u001b[0m\u001b[0m\n\u001b[0;32m     23\u001b[0m     \u001b[0mrandom\u001b[0m\u001b[1;33m.\u001b[0m\u001b[0mshuffle\u001b[0m\u001b[1;33m(\u001b[0m\u001b[0mlength\u001b[0m\u001b[1;33m)\u001b[0m\u001b[1;33m\u001b[0m\u001b[0m\n\u001b[1;32m---> 24\u001b[1;33m     \u001b[0mnum_cars1\u001b[0m\u001b[1;33m=\u001b[0m\u001b[0mint\u001b[0m\u001b[1;33m(\u001b[0m\u001b[1;33m(\u001b[0m\u001b[0mfasterDataCA184\u001b[0m\u001b[1;33m[\u001b[0m\u001b[0mj\u001b[0m\u001b[1;33m:\u001b[0m\u001b[0mj\u001b[0m\u001b[1;33m+\u001b[0m\u001b[1;36m1\u001b[0m\u001b[1;33m,\u001b[0m\u001b[1;33m[\u001b[0m\u001b[1;36m0\u001b[0m\u001b[1;33m]\u001b[0m\u001b[1;33m]\u001b[0m\u001b[1;33m)\u001b[0m\u001b[1;33m*\u001b[0m\u001b[0mmax\u001b[0m\u001b[1;33m(\u001b[0m\u001b[0mlength\u001b[0m\u001b[1;33m)\u001b[0m\u001b[1;33m)\u001b[0m\u001b[1;33m\u001b[0m\u001b[0m\n\u001b[0m\u001b[0;32m     25\u001b[0m     \u001b[1;32mprint\u001b[0m \u001b[1;34m'numcars1!!!'\u001b[0m\u001b[1;33m,\u001b[0m \u001b[0mnum_cars1\u001b[0m\u001b[1;33m\u001b[0m\u001b[0m\n\u001b[0;32m     26\u001b[0m     \u001b[0mnum_cars2\u001b[0m\u001b[1;33m=\u001b[0m\u001b[1;36m0\u001b[0m\u001b[1;33m\u001b[0m\u001b[0m\n",
        "\u001b[1;31mTypeError\u001b[0m: only length-1 arrays can be converted to Python scalars"
       ]
      },
      {
       "output_type": "stream",
       "stream": "stdout",
       "text": [
        " 80\n"
       ]
      }
     ],
     "prompt_number": 27
    },
    {
     "cell_type": "code",
     "collapsed": false,
     "input": [
      "print len(VVV1_per[57][99])\n",
      "print car1_per[57][99]\n",
      "avgvel1_=[]\n",
      "\n",
      "for i in range(78):\n",
      "    for j in range(130):\n",
      "        avgvel1_.append(int(sum(VVV1_per[i][j]))/float(car1_per[i][j]))\n",
      "print len(avgvel1_)        \n",
      "\n",
      "chunky = [avgvel1_[i*(int(130)):(i+1)*int(130)] for i in xrange(0,78)]\n",
      "print sum(chunky[0])/130.\n",
      "finalvel1=[]\n",
      "for i in range(len(chunky)):\n",
      "    finalvel1.append(int(sum(chunky[i]))/float(130))\n",
      "print len(finalvel1)\n",
      "\n",
      "avgvel2_=[]\n",
      "for i in range(78):\n",
      "    for j in range(130):\n",
      "        avgvel2_.append(int(sum(VVV2_per[i][j]))/float(car2_per[i][j]))\n",
      "print len(avgvel2_)        \n",
      "\n",
      "chunky2 = [avgvel2_[i*(int(130)):(i+1)*int(130)] for i in xrange(0,78)]\n",
      "print sum(chunky2[0])/iterations\n",
      "finalvel2=[]\n",
      "for i in range(len(chunky2)):\n",
      "    finalvel2.append(int(sum(chunky2[i]))/float(130))\n",
      "print len(finalvel2)"
     ],
     "language": "python",
     "metadata": {},
     "outputs": [
      {
       "output_type": "stream",
       "stream": "stdout",
       "text": [
        "57\n",
        "57\n",
        "10140"
       ]
      },
      {
       "output_type": "stream",
       "stream": "stdout",
       "text": [
        "\n",
        "9.79487179487\n",
        "78\n",
        "10140"
       ]
      },
      {
       "output_type": "stream",
       "stream": "stdout",
       "text": [
        "\n",
        "9.60769230769\n",
        "78\n"
       ]
      }
     ],
     "prompt_number": 28
    },
    {
     "cell_type": "code",
     "collapsed": false,
     "input": [
      "print sum(car1[1])\n",
      "cur1_=[]\n",
      "for i in range(78):\n",
      "    cur1_.append(finalvel1[i]*sum(car1[i])/100.)\n",
      "print len(cur1_)  \n",
      "\n",
      "cur2_=[]\n",
      "for i in range(78):\n",
      "    cur2_.append(float(finalvel2[i])*float(sum(car2[i]))/100.)\n",
      "print cur2_  "
     ],
     "language": "python",
     "metadata": {},
     "outputs": [
      {
       "output_type": "stream",
       "stream": "stdout",
       "text": [
        "75\n",
        "78\n",
        "[1.7293846153846153, 2.170846153846154, 2.0967692307692305, 1.8463076923076924, 2.177923076923077, 1.7515384615384613, 1.4672307692307691, 1.4843076923076923, 1.5788461538461538, 1.3716923076923078, 1.3615384615384616, 1.425, 1.2788461538461537, 1.2230769230769232, 1.251923076923077, 1.1923076923076923, 1.3307692307692307, 1.1132307692307695, 1.1807692307692308, 1.058, 1.0375384615384615, 1.0006153846153847, 1.0412307692307692, 0.9507692307692308, 0.9895384615384615, 0.951923076923077, 0.9038461538461539, 0.9192307692307692, 0.8603076923076923, 0.8226923076923077, 0.8686923076923077, 0.882846153846154, 0.8032307692307693, 0.8880000000000001, 0.8418461538461538, 0.7632307692307693, 0.7801538461538462, 0.8055384615384615, 0.7123846153846154, 0.7209230769230769, 0.7378461538461539, 0.6836923076923077, 0.7158461538461539, 0.7378461538461539, 0.7253846153846153, 0.8616153846153846, 0.7660769230769232, 0.7926153846153846, 0.7218461538461538, 0.8244615384615385, 0.7855384615384615, 0.7625384615384615, 0.6970769230769229, 0.7006153846153846, 0.8676923076923078, 0.7550769230769231, 0.7753846153846154, 0.7384615384615385, 0.8038461538461539, 0.9858461538461537, 0.875, 0.8173076923076923, 0.8759999999999999, 0.7634615384615384, 0.8134615384615383, 0.8596153846153847, 0.7, 0.9730769230769231, 0.75, 0.954, 0.9640000000000001, 0.8340000000000001, 0.8660000000000001, 0.9179999999999999, 0.7892307692307692, 0.7310769230769232, 0.8909999999999999, 0.7301538461538462]\n"
       ]
      }
     ],
     "prompt_number": 33
    },
    {
     "cell_type": "code",
     "collapsed": false,
     "input": [
      "xlot=range(1,79)\n",
      "xlots=[]\n",
      "for i in range(len(carsref)):\n",
      "    xlots.append([i]/100.)\n",
      "print xlots\n",
      "current1=[]\n",
      "for i in range(len(xlots)):\n",
      "    current1.append(finalvel1[i]*xlots[i])\n",
      "print current1\n",
      "\n",
      "\n",
      "current2=[]\n",
      "for i in range(len(xlots)):\n",
      "    current2.append(finalvel2[i]*xlots[i])\n",
      "print len(current2)\n",
      "print len(current1)\n",
      "print len(xlots)"
     ],
     "language": "python",
     "metadata": {},
     "outputs": [
      {
       "output_type": "stream",
       "stream": "stdout",
       "text": [
        "[0.05, 0.06, 0.09, 0.1, 0.11, 0.12, 0.13, 0.15, 0.16, 0.17, 0.18, 0.19, 0.21, 0.22, 0.23, 0.24, 0.25, 0.27, 0.28, 0.29, 0.3, 0.31, 0.33, 0.34, 0.35, 0.36, 0.36, 0.39, 0.4, 0.41, 0.42, 0.43, 0.45, 0.46, 0.47, 0.48, 0.49, 0.51, 0.52, 0.53, 0.54, 0.55, 0.57, 0.58, 0.59, 0.6, 0.61, 0.63, 0.64, 0.65, 0.66, 0.67, 0.69, 0.7, 0.71, 0.71, 0.73, 0.75, 0.76, 0.77, 0.78, 0.79, 0.81, 0.82, 0.83, 0.84, 0.85, 0.87, 0.88, 0.89, 0.9, 0.91, 0.93, 0.94, 0.95, 0.96, 0.97, 0.98]\n",
        "[0.47384615384615386, 0.5663076923076923, 0.8342307692307692, 0.91, 0.9663076923076924, 0.9507692307692308, 1.021, 0.9738461538461538, 0.9230769230769231, 0.925846153846154, 0.8792307692307693, 0.8754615384615384, 0.8367692307692307, 0.8613846153846153, 0.8138461538461539, 0.803076923076923, 0.8384615384615385, 0.7373076923076923, 0.7430769230769231, 0.7763076923076923, 0.7223076923076922, 0.7273076923076923, 0.7539230769230769, 0.6878461538461539, 0.7, 0.6535384615384615, 0.6535384615384615, 0.66, 0.6246153846153847, 0.5897692307692307, 0.6009230769230769, 0.6152307692307692, 0.5815384615384616, 0.5803076923076923, 0.582076923076923, 0.539076923076923, 0.5503076923076923, 0.51, 0.54, 0.4973846153846154, 0.49430769230769234, 0.4780769230769231, 0.434076923076923, 0.45507692307692305, 0.4311538461538461, 0.3923076923076923, 0.4082307692307692, 0.4216153846153846, 0.3889230769230769, 0.37, 0.3756923076923077, 0.3607692307692308, 0.345, 0.3230769230769231, 0.32769230769230767, 0.3058461538461538, 0.27515384615384614, 0.2826923076923077, 0.27476923076923077, 0.29023076923076924, 0.28200000000000003, 0.22484615384615383, 0.21807692307692308, 0.19553846153846155, 0.2043076923076923, 0.21323076923076922, 0.20923076923076925, 0.16730769230769232, 0.18276923076923077, 0.15746153846153849, 0.1453846153846154, 0.17500000000000002, 0.13592307692307692, 0.1590769230769231, 0.13153846153846155, 0.17723076923076925, 0.1193846153846154, 0.12815384615384615]\n",
        "78\n",
        "78\n",
        "78\n"
       ]
      }
     ],
     "prompt_number": 30
    },
    {
     "cell_type": "code",
     "collapsed": false,
     "input": [
      "figure(num=None, figsize=(8, 6), dpi=80, facecolor='w', edgecolor='k')\n",
      "plot(xlots,finalvel1,label='Average velocity in lane 1')\n",
      "plot(xlots,current1, label='current in lane 1')\n",
      "plot(xlots,finalvel2,label='Average velocity in lane 2')\n",
      "plot(xlots,current2, label='current in lane 2')\n",
      "xlim(.05,.97)\n",
      "xlabel('density (cars/unit length)', fontsize=14)\n",
      "legend()\n",
      "\n",
      "show()"
     ],
     "language": "python",
     "metadata": {},
     "outputs": [
      {
       "output_type": "display_data",
       "png": "[encoded data removed]"
      }
     ],
     "prompt_number": 31
    },
    {
     "cell_type": "code",
     "collapsed": false,
     "input": [
      "figure(num=None, figsize=(8, 6), dpi=80, facecolor='w', edgecolor='k')\n",
      "totvel=[]\n",
      "for i in range(len(finalvel1)):\n",
      "    totvel.append((finalvel1[i]+finalvel2[i])/2.)\n",
      "    \n",
      "totalcurrent=[]\n",
      "for i in range(len(finalvel1)):\n",
      "    totalcurrent.append(float(current1[i]+current2[i])/2.)\n",
      "    \n",
      "plot(xlots,totvel,label='Total average velocity')\n",
      "plot(xlots,totalcurrent, label='Total average current')\n",
      "xlim(.05,.97)\n",
      "xlabel('density (cars/unit length)', fontsize=14)\n",
      "legend()\n",
      "\n",
      "show()"
     ],
     "language": "python",
     "metadata": {},
     "outputs": [
      {
       "output_type": "display_data",
       "png": "[encoded data removed]"
      }
     ],
     "prompt_number": 32
    },
    {
     "cell_type": "code",
     "collapsed": false,
     "input": [],
     "language": "python",
     "metadata": {},
     "outputs": [],
     "prompt_number": 18
    },
    {
     "cell_type": "code",
     "collapsed": false,
     "input": [],
     "language": "python",
     "metadata": {},
     "outputs": []
    }
   ],
   "metadata": {}
  }
 ]
}